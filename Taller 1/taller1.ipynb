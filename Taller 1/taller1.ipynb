{
  "cells": [
    {
      "cell_type": "markdown",
      "metadata": {
        "id": "NofiBkd8m9dX"
      },
      "source": [
        "---\n",
        "# 📝 Taller 1: Preprocesamiento de textos & exploracion y extraccion de elementos de lenguaje\n",
        "---\n",
        "## Ingegrantes\n",
        "*   Francisco Martinez Duque\n",
        "*   Juan Diego Gomez Chavarro\n",
        "\n"
      ]
    },
    {
      "cell_type": "code",
      "execution_count": 386,
      "metadata": {
        "id": "EHnMJ0fl1CWB"
      },
      "outputs": [],
      "source": [
        "!pip install -q datasets"
      ]
    },
    {
      "cell_type": "code",
      "execution_count": 387,
      "metadata": {
        "id": "l4SGhBZstLtZ"
      },
      "outputs": [],
      "source": [
        "from datasets import load_dataset\n",
        "\n",
        "ds = load_dataset(\"jjiguaran/tweets_emotions_elections_colombia\")"
      ]
    },
    {
      "cell_type": "markdown",
      "metadata": {
        "id": "psARthfRucXV"
      },
      "source": [
        "---\n",
        "# 1️⃣ Normalicen el formato de sus textos:\n",
        "---\n",
        "\n"
      ]
    },
    {
      "cell_type": "code",
      "execution_count": 388,
      "metadata": {
        "colab": {
          "base_uri": "https://localhost:8080/"
        },
        "id": "A3V_vrKk1KWC",
        "outputId": "dc29122a-e331-4ef7-8506-4d7adb83a94f"
      },
      "outputs": [
        {
          "output_type": "stream",
          "name": "stdout",
          "text": [
            "{'train': MemoryMappedTable\n",
            "text: string\n",
            "tweet_id: int64\n",
            "labels: string\n",
            "labels_encoded: string\n",
            "----\n",
            "text: [[\"#NosUnimosONosJodemos #NosUnimosONosJodemos  Vamos juntos por el cambio, mire el miedo que le tienen.  @petrogustavo Mi presidente\",\"@tobonsanin Otra vez este viejo estúpido politiquero, estamos es llevados cuando creemos  viejo decrépito de estos va hacer la solución para Colombia, ayudando a escoger corruptos como #quintero en MEDELLIN #PetroElPatronDelMal #FedericoEsColombia #NosUnimosONosJodemos\",\"Sin importar encuestas como en el plebiscito juntos por Colombia el 29 nos vemos #FedericoImparable #NosUnimosONosJodemos #FedericoEsColombia\",\"@FranciaMarquezM Ahora q es a ud si le parece grave? Y cuando sus borregos de la primera linea lo hacian contra nuestros policias q? Chevere cuando es para otros pero grave cuando es hacia mi? 🤥 #PetroElPatronDelMal #NosUnimosONosJodemos\",\"Este es el Presidente que nos merecemos, recorrió el país entero, escuchó, expresó cariño y nos contagió la esperanza #FedericoEsColombia\",...,\"Ni en sus propios términos  y con juezas a su favor asistió, todo lo que medio dice coherente se lo leen, aún peor que Duque es   #RodolfoCobarde\",\"El problema del imputado de creer que la presidencia de Colombia es una licitación pública, es caer en las prácticas de los cacaos del \"carrusel de la contratación\" con trampas y manoseo a la Ley desfalcaron a Colombia. No pasará #RodolfoCobarde\",\"#RodolfoCobarde y también @TwitterLatAm no permite ver las interacciones de esta tendencia, la única que tiene esa particularidad.\",\"Queda demostrado las estrategias de esconder y engañar de la campaña de rodolfo  #RodolfoCobarde\",\"Rodolfo se limpia el culo con la ley y las normas. YO ME LIMPIARE EL CULO CON TODO LO QUE SEA RODOLFISTA Y CON SUS FAMILIAS. #RodolfoCobarde\"],[\"Cosas que van quedando claras:  Votar por el uribismo te hace:  Votar por Uribe 1: Ingenuo Votar por Uribe 2: hijueputa Votar por Duque : doble hijueputa Votar por Rodolfo : triple hijueputa  #RodolfoCobarde\",\"3. Sería bueno que dejaran de llevarse por el miedo o rencor y más por el bien de la nación. #RodolfoCobarde\",\"@_Rafa_0409 @soscritum @agaviriau No asiste al más importante porque sabe que no tiene argumentos y queda como un pelele. #RodolfoCobarde\",\"@VickyDavilaH En los PETRO videos no había nada ilegal, PETRO ni habló, acá claramente se ve al viejito siendo infiel jajaja  Tanto que habla de rectitud de prostitutas y vea. #RodolfoCobarde\",\"@VickyDavilaH Vacaciones en plena batalla electoral? Hay que estar muy mal de la cabeza para defender a un #ViejoCagon  que le huye a las súplicas de un pueblo. #RodolfoCobarde\",...,\"Llevo tres semanas llevando en el bolsillo una pila AA para poder botarla en un depósito de pilas. No hay tantos depósitos de pilas. #PetroBastaYa\",\"Nuestra Vice Francia Márquez lleva dos días peinando a todos los entrevistadores mala leche de los noticieros. #PetroBastaYa\",\"Que tal si bloqueamos a los Uribistas???  Rodolfistas NO! Uribistas y antipetristas que ya uno se cansa de leer lo mismo XD   #PetroBastaYa\",\"#LosImpuestosDePetro es la verdad que necesitamos para ubicar toda esa #GenteDeBien que saca sus capitales a paraísos fiscales. Urge hacer una reforma en la DIAN para perseguir evasores @gusgomez1701\",\"#LosImpuestosDePetro  Colombia comienza a vivir sabroso.\"]]\n",
            "tweet_id: [[1528216296147533824,1528425111078019072,1528451337087762433,1528454891634663428,1528336411451133955,...,1537636056979357698,1537639572892418048,1537644520694751232,1537653421750239232,1537652053161521152],[1537760371766960128,1537828867091705858,1537841907216404481,1537844558674939906,1537940590427394048,...,1539446482335678465,1539448627122393089,1539701798629416960,1539553615182004231,1539553224071512064]]\n",
            "labels: [[\"alegria\",\"asco\",\"alegria\",null,\"alegria\",...,\"asco\",\"asco\",\"asco\",\"asco\",\"asco\"],[\"asco\",\"tristeza\",\"asco\",\"asco\",\"asco\",...,null,\"alegria, asco\",\"asco\",\"asco\",\"alegria\"]]\n",
            "labels_encoded: [[\"[1.0, 0.0, 0.0, 0.0]\",\"[0.0, 0.0, 0.0, 1.0]\",\"[1.0, 0.0, 0.0, 0.0]\",\"[0.0, 0.0, 0.0, 0.0]\",\"[1.0, 0.0, 0.0, 0.0]\",...,\"[0.0, 0.0, 0.0, 1.0]\",\"[0.0, 0.0, 0.0, 1.0]\",\"[0.0, 0.0, 0.0, 1.0]\",\"[0.0, 0.0, 0.0, 1.0]\",\"[0.0, 0.0, 0.0, 1.0]\"],[\"[0.0, 0.0, 0.0, 1.0]\",\"[0.0, 0.0, 1.0, 0.0]\",\"[0.0, 0.0, 0.0, 1.0]\",\"[0.0, 0.0, 0.0, 1.0]\",\"[0.0, 0.0, 0.0, 1.0]\",...,\"[0.0, 0.0, 0.0, 0.0]\",\"[1.0, 0.0, 0.0, 1.0]\",\"[0.0, 0.0, 0.0, 1.0]\",\"[0.0, 0.0, 0.0, 1.0]\",\"[1.0, 0.0, 0.0, 0.0]\"]]}\n"
          ]
        }
      ],
      "source": [
        "print(ds.data)"
      ]
    },
    {
      "cell_type": "code",
      "execution_count": 389,
      "metadata": {
        "id": "oz3NkhBE1esh"
      },
      "outputs": [],
      "source": [
        "# Se pasan todas los tweets a minusculas.\n",
        "tweets = []\n",
        "tweetsMinusculas = []\n",
        "\n",
        "for textTweet in ds['train']['text']:\n",
        "  tweets.append(textTweet)\n",
        "  tweetsMinusculas.append(textTweet.lower())"
      ]
    },
    {
      "cell_type": "code",
      "execution_count": 390,
      "metadata": {
        "id": "M2ll4neB3XNm"
      },
      "outputs": [],
      "source": [
        "!pip install -q emoji"
      ]
    },
    {
      "cell_type": "markdown",
      "metadata": {
        "id": "XSe3OI_Cn2dR"
      },
      "source": [
        "## 🔹 Eliminar y reemplazar caracteres especiales, símbolos y emojis."
      ]
    },
    {
      "cell_type": "code",
      "execution_count": 391,
      "metadata": {
        "id": "0EJvr1PEGxop"
      },
      "outputs": [],
      "source": [
        "import re\n",
        "\n",
        "def extraer_emojis(texto):\n",
        "    return re.findall(r'[\\U0001F300-\\U0001FAD6]', texto)\n",
        "\n",
        "emojisConjunto=set()\n",
        "\n",
        "for texto in tweetsMinusculas:\n",
        "  emojis = extraer_emojis(texto)\n",
        "  for i in emojis:\n",
        "    emojisConjunto.add(i)"
      ]
    },
    {
      "cell_type": "code",
      "execution_count": 392,
      "metadata": {
        "id": "IDhOFBq4JEEU"
      },
      "outputs": [],
      "source": [
        "emojis_significado = {\n",
        "    '🤥': 'Mentiroso',\n",
        "    '🦵': 'Pierna',\n",
        "    '🔄': 'Actualizar',\n",
        "    '🤡': 'Payaso',\n",
        "    '🚨': 'Alerta',\n",
        "    '💖': 'Corazón brillante',\n",
        "    '🪠': 'Desatascador',\n",
        "    '😂': 'Risa',\n",
        "    '🤩': 'Asombro',\n",
        "    '🥴': 'Mareado',\n",
        "    '👀': 'Mirando',\n",
        "    '💚': 'Corazón verde',\n",
        "    '🏻': 'Tono de piel claro',\n",
        "    '🎊': 'Confeti',\n",
        "    '🤞': 'Suerte',\n",
        "    '🛵': 'Motocicleta',\n",
        "    '😐': 'Neutral',\n",
        "    '🐊': 'Cocodrilo',\n",
        "    '🕊': 'Paloma',\n",
        "    '🤓': 'Nerd',\n",
        "    '🏽': 'Tono de piel medio',\n",
        "    '💃': 'Baile',\n",
        "    '🤭': 'Sorpresa',\n",
        "    '🤨': 'Escepticismo',\n",
        "    '👉': 'Señalar',\n",
        "    '🧐': 'Curioso',\n",
        "    '😜': 'Broma',\n",
        "    '🤘': 'Rock',\n",
        "    '👹': 'Ogro',\n",
        "    '😘': 'Beso',\n",
        "    '💜': 'Corazón morado',\n",
        "    '🎉': 'Celebración',\n",
        "    '💙': 'Corazón azul',\n",
        "    '🤯': 'Explosión mental',\n",
        "    '🙏': 'Rezo',\n",
        "    '👏': 'Aplausos',\n",
        "    '🥳': 'Fiesta',\n",
        "    '😥': 'Preocupado',\n",
        "    '🤦': 'Frustración',\n",
        "    '😏': 'Sarcástico',\n",
        "    '🤣': 'Carcajada',\n",
        "    '😡': 'Enojado',\n",
        "    '🍳': 'Huevo frito',\n",
        "    '🤐': 'Boca cerrada',\n",
        "    '🏼': 'Tono de piel medio-claro',\n",
        "    '👍': 'Pulgar arriba',\n",
        "    '🍆': 'Berenjena',\n",
        "    '🙄': 'Ojos en blanco',\n",
        "    '🔎': 'Lupa',\n",
        "    '🤑': 'Dinero',\n",
        "    '🔵': 'Círculo azul',\n",
        "    '🧑': 'Persona',\n",
        "    '😅': 'Nervioso',\n",
        "    '🎶': 'Música',\n",
        "    '📱': 'Teléfono',\n",
        "    '🔝': 'Top',\n",
        "    '💸': 'Dinero volando',\n",
        "    '👋': 'Saludo',\n",
        "    '🔴': 'Círculo rojo',\n",
        "    '😔': 'Triste',\n",
        "    '🙃': 'Irónico',\n",
        "    '🥲': 'Lágrima de alegría',\n",
        "    '🥰': 'Enamorado',\n",
        "    '💦': 'Gotas de agua',\n",
        "    '🍗': 'Pollo',\n",
        "    '🔃': 'Repetir',\n",
        "    '🔥': 'Fuego',\n",
        "    '🤮': 'Vómito',\n",
        "    '🕺': 'Bailarín',\n",
        "    '👇': 'Apuntar abajo',\n",
        "    '💀': 'Calavera',\n",
        "    '😉': 'Guiño',\n",
        "    '🤔': 'Pensativo',\n",
        "    '😎': 'Cool',\n",
        "    '🗳': 'Voto',\n",
        "    '🕳': 'Agujero',\n",
        "    '👎': 'Pulgar abajo',\n",
        "    '🏾': 'Tono de piel oscuro',\n",
        "    '🙌': 'Victoria',\n",
        "    '💔': 'Corazón roto',\n",
        "    '😌': 'Aliviado',\n",
        "    '😃': 'Feliz',\n",
        "    '🥑': 'Aguacate',\n",
        "    '😭': 'Llorando',\n",
        "    '💩': 'Popó',\n",
        "    '😞': 'Decepción',\n",
        "    '😬': 'Incómodo',\n",
        "    '🟡': 'Círculo amarillo',\n",
        "    '💛': 'Corazón amarillo',\n",
        "    '🪢': 'Nudo',\n",
        "    '🐋': 'Ballena',\n",
        "    '🥺': 'Suplicante',\n",
        "    '🙋': 'Mano levantada',\n",
        "    '😤': 'Molesto',\n",
        "    '🐝': 'Abeja',\n",
        "    '🤢': 'Asco',\n",
        "    '💪': 'Fuerza',\n",
        "    '🤗': 'Abrazo',\n",
        "    '😍': 'Enamorado'\n",
        "}\n"
      ]
    },
    {
      "cell_type": "code",
      "execution_count": 393,
      "metadata": {
        "id": "yuqR6PyYJWQa"
      },
      "outputs": [],
      "source": [
        "def reemplazar_emojis(texto):\n",
        "    return re.sub(r'[\\U0001F300-\\U0001FAFF]', lambda m: emojis_significado.get(m.group(0), m.group(0)) + ' ', texto).strip()\n",
        "\n",
        "for i in range(len(tweetsMinusculas)):\n",
        "  tweetsMinusculas[i] = reemplazar_emojis(tweetsMinusculas[i])"
      ]
    },
    {
      "cell_type": "markdown",
      "metadata": {
        "id": "7IVE5z5lDhaM"
      },
      "source": [
        "---\n",
        "# 2️⃣ Segmenten sus documentos a nivel de frase y palabra.\n",
        "---"
      ]
    },
    {
      "cell_type": "code",
      "source": [
        "!pip install -q stanza"
      ],
      "metadata": {
        "id": "efsnEcVzMfti"
      },
      "execution_count": 394,
      "outputs": []
    },
    {
      "cell_type": "code",
      "execution_count": 395,
      "metadata": {
        "collapsed": true,
        "id": "Sai4NlpSEZhs"
      },
      "outputs": [],
      "source": [
        "import stanza\n",
        "\n",
        "stanza.download(\"es\", verbose=False)"
      ]
    },
    {
      "cell_type": "code",
      "execution_count": 396,
      "metadata": {
        "id": "Y_UjmW_BGQx2"
      },
      "outputs": [],
      "source": [
        "nlp_stanza = stanza.Pipeline(lang=\"es\", processors=\"tokenize, lemma\", verbose=False)"
      ]
    },
    {
      "cell_type": "code",
      "execution_count": 397,
      "metadata": {
        "id": "DnzgzCy8FfVX"
      },
      "outputs": [],
      "source": [
        "tweetsPalabras=dict()\n",
        "tweetsFrases=dict()\n",
        "for i in range(len(tweetsMinusculas)):\n",
        "  doc_stanza=nlp_stanza(tweetsMinusculas[i])\n",
        "  tokens_stanza_Palabra = [word.text for sentence in doc_stanza.sentences for word in sentence.words]\n",
        "  tweetsPalabras[i]=tokens_stanza_Palabra\n",
        "  tokens_stanza_Frase = [sentence.text for sentence in doc_stanza.sentences]\n",
        "  tweetsFrases[i]=tokens_stanza_Frase\n"
      ]
    },
    {
      "cell_type": "code",
      "execution_count": 398,
      "metadata": {
        "colab": {
          "base_uri": "https://localhost:8080/"
        },
        "id": "zH6KbiqhF4Ao",
        "outputId": "91f040ad-0544-4d3c-d116-6103abe74400"
      },
      "outputs": [
        {
          "output_type": "stream",
          "name": "stdout",
          "text": [
            "Frase 0 ['#nosunimosonosjodemos #nosunimosonosjodemos  vamos juntos por el cambio, mire el miedo que le tienen.', '@petrogustavo mi presidente']\n",
            "Frase 1 ['@tobonsanin otra vez este viejo estúpido politiquero, estamos es llevados cuando creemos  viejo decrépito de estos va hacer la solución para colombia, ayudando a escoger corruptos como #quintero en medellin #petroelpatrondelmal #federicoescolombia #nosunimosonosjodemos']\n",
            "Frase 2 ['sin importar encuestas como en el plebiscito juntos por colombia el 29 nos vemos #federicoimparable #nosunimosonosjodemos #federicoescolombia']\n",
            "Frase 3 ['@franciamarquezm ahora q es a ud si le parece grave? y cuando sus borregos de la primera linea lo hacian contra nuestros policias q? chevere cuando es para otros pero grave cuando es hacia mi?', 'Mentiroso  #petroelpatrondelmal #nosunimosonosjodemos']\n",
            "Frase 4 ['este es el presidente que nos merecemos, recorrió el país entero, escuchó, expresó cariño y nos contagió la esperanza #federicoescolombia']\n",
            "Frase 5 ['por mi familia, por la democracia y las libertades.', '#federicoescolombia']\n",
            "Frase 6 ['por el bien de colombia #federicoescolombia']\n",
            "Frase 7 ['fico es desarrollo, fico es progreso #federicoescolombia']\n",
            "Frase 8 ['parece que no hemos entendido que necesita mantenerse vigente a base de mentiras #federicoescolombia']\n",
            "Frase 9 ['#federicoescolombia #federicoescolombia el otro, el secuestrador, lo peor que podría pasarle a colombia.', 'se imaginan al secuestrador y a king kong representando a colombia ante el mundo.']\n"
          ]
        }
      ],
      "source": [
        "# Frases\n",
        "for i in range(10):\n",
        "  print(\"Frase\", i, tweetsFrases[i])"
      ]
    },
    {
      "cell_type": "code",
      "execution_count": 399,
      "metadata": {
        "colab": {
          "base_uri": "https://localhost:8080/"
        },
        "id": "ngZiR2V0Jro7",
        "outputId": "558ba855-8a71-4260-e39a-b2b3b810b3ff"
      },
      "outputs": [
        {
          "output_type": "stream",
          "name": "stdout",
          "text": [
            "Palabras tweet 0 ['#nosunimosonosjodemos', '#nosunimosonosjodemos', 'vamos', 'juntos', 'por', 'el', 'cambio', ',', 'mire', 'el', 'miedo', 'que', 'le', 'tienen', '.', '@petrogustavo', 'mi', 'presidente']\n",
            "Palabras tweet 1 ['@tobonsanin', 'otra', 'vez', 'este', 'viejo', 'estúpido', 'politiquero', ',', 'estamos', 'es', 'llevados', 'cuando', 'creemos', 'viejo', 'decrépito', 'de', 'estos', 'va', 'hacer', 'la', 'solución', 'para', 'colombia', ',', 'ayudando', 'a', 'escoger', 'corruptos', 'como', '#quintero', 'en', 'medellin', '#petroelpatrondelmal', '#federicoescolombia', '#nosunimosonosjodemos']\n",
            "Palabras tweet 2 ['sin', 'importar', 'encuestas', 'como', 'en', 'el', 'plebiscito', 'juntos', 'por', 'colombia', 'el', '29', 'nos', 'vemos', '#federicoimparable', '#nosunimosonosjodemos', '#federicoescolombia']\n",
            "Palabras tweet 3 ['@franciamarquezm', 'ahora', 'q', 'es', 'a', 'ud', 'si', 'le', 'parece', 'grave', '?', 'y', 'cuando', 'sus', 'borregos', 'de', 'la', 'primera', 'linea', 'lo', 'hacian', 'contra', 'nuestros', 'policias', 'q?', 'chevere', 'cuando', 'es', 'para', 'otros', 'pero', 'grave', 'cuando', 'es', 'hacia', 'mi', '?', 'Mentiroso', '#petroelpatrondelmal', '#nosunimosonosjodemos']\n",
            "Palabras tweet 4 ['este', 'es', 'el', 'presidente', 'que', 'nos', 'merecemos', ',', 'recorrió', 'el', 'país', 'entero', ',', 'escuchó', ',', 'expresó', 'cariño', 'y', 'nos', 'contagió', 'la', 'esperanza', '#federicoescolombia']\n",
            "Palabras tweet 5 ['por', 'mi', 'familia', ',', 'por', 'la', 'democracia', 'y', 'las', 'libertades', '.', '#federicoescolombia']\n",
            "Palabras tweet 6 ['por', 'el', 'bien', 'de', 'colombia', '#federicoescolombia']\n",
            "Palabras tweet 7 ['fico', 'es', 'desarrollo', ',', 'fico', 'es', 'progreso', '#federicoescolombia']\n",
            "Palabras tweet 8 ['parece', 'que', 'no', 'hemos', 'entendido', 'que', 'necesita', 'mantener', 'se', 'vigente', 'a', 'base', 'de', 'mentiras', '#federicoescolombia']\n",
            "Palabras tweet 9 ['#federicoescolombia', '#federicoescolombia', 'el', 'otro', ',', 'el', 'secuestrador', ',', 'lo', 'peor', 'que', 'podría', 'pasar', 'le', 'a', 'colombia', '.', 'se', 'imaginan', 'a', 'el', 'secuestrador', 'y', 'a', 'king', 'kong', 'representando', 'a', 'colombia', 'ante', 'el', 'mundo', '.']\n"
          ]
        }
      ],
      "source": [
        "# Palabras\n",
        "for i in range(10):\n",
        "  print(\"Palabras tweet\", i, tweetsPalabras[i])"
      ]
    },
    {
      "cell_type": "markdown",
      "metadata": {
        "id": "4WLqytjHLE1V"
      },
      "source": [
        "---\n",
        "# 3️⃣ Eliminen signos de puntuación y caracteres no alfabéticos.\n",
        "---\n",
        "Calculen el número de tokens y palabras ditintas en sus textos."
      ]
    },
    {
      "cell_type": "code",
      "execution_count": 400,
      "metadata": {
        "id": "hbxr8LrPM25T"
      },
      "outputs": [],
      "source": [
        "tweetsMinusculasSinCaracteres=dict()\n",
        "tweetsFrasesSinCaracteres=dict()"
      ]
    },
    {
      "cell_type": "code",
      "execution_count": 401,
      "metadata": {
        "id": "csAu6F_-WMWv"
      },
      "outputs": [],
      "source": [
        "import re\n",
        "\n",
        "def borrarCaracteresEspeciales(text):\n",
        "    return re.sub(r\"[^\\w@#\\s]\",\"\",text)\n",
        "\n",
        "for i in range(len(tweetsMinusculas)):\n",
        "  tweetsMinusculasSinCaracteres[i] = borrarCaracteresEspeciales(tweetsMinusculas[i])\n",
        "\n",
        "for i in range(len(tweetsFrases)):\n",
        "  frases= []\n",
        "  for j in range(len(tweetsFrases[i])):\n",
        "    frases.append(borrarCaracteresEspeciales(tweetsFrases[i][j]))\n",
        "  tweetsFrasesSinCaracteres[i] = frases"
      ]
    },
    {
      "cell_type": "code",
      "execution_count": 402,
      "metadata": {
        "colab": {
          "base_uri": "https://localhost:8080/"
        },
        "id": "_T3Ea8Cd3EQ7",
        "outputId": "f2f395dc-85a5-4cee-82b1-79a17e516cdc"
      },
      "outputs": [
        {
          "output_type": "stream",
          "name": "stdout",
          "text": [
            "Frases Tweet 0 sin caracteres ['#nosunimosonosjodemos #nosunimosonosjodemos  vamos juntos por el cambio mire el miedo que le tienen', '@petrogustavo mi presidente']\n",
            "Frases Tweet 1 sin caracteres ['@tobonsanin otra vez este viejo estúpido politiquero estamos es llevados cuando creemos  viejo decrépito de estos va hacer la solución para colombia ayudando a escoger corruptos como #quintero en medellin #petroelpatrondelmal #federicoescolombia #nosunimosonosjodemos']\n",
            "Frases Tweet 2 sin caracteres ['sin importar encuestas como en el plebiscito juntos por colombia el 29 nos vemos #federicoimparable #nosunimosonosjodemos #federicoescolombia']\n",
            "Frases Tweet 3 sin caracteres ['@franciamarquezm ahora q es a ud si le parece grave y cuando sus borregos de la primera linea lo hacian contra nuestros policias q chevere cuando es para otros pero grave cuando es hacia mi', 'Mentiroso  #petroelpatrondelmal #nosunimosonosjodemos']\n",
            "Frases Tweet 4 sin caracteres ['este es el presidente que nos merecemos recorrió el país entero escuchó expresó cariño y nos contagió la esperanza #federicoescolombia']\n",
            "Frases Tweet 5 sin caracteres ['por mi familia por la democracia y las libertades', '#federicoescolombia']\n",
            "Frases Tweet 6 sin caracteres ['por el bien de colombia #federicoescolombia']\n",
            "Frases Tweet 7 sin caracteres ['fico es desarrollo fico es progreso #federicoescolombia']\n",
            "Frases Tweet 8 sin caracteres ['parece que no hemos entendido que necesita mantenerse vigente a base de mentiras #federicoescolombia']\n",
            "Frases Tweet 9 sin caracteres ['#federicoescolombia #federicoescolombia el otro el secuestrador lo peor que podría pasarle a colombia', 'se imaginan al secuestrador y a king kong representando a colombia ante el mundo']\n"
          ]
        }
      ],
      "source": [
        "for i in range(10):\n",
        "  print(\"Frases Tweet\", i, \"sin caracteres\", tweetsFrasesSinCaracteres[i])"
      ]
    },
    {
      "cell_type": "code",
      "execution_count": 403,
      "metadata": {
        "colab": {
          "base_uri": "https://localhost:8080/"
        },
        "id": "NqUKAUKvLZqe",
        "outputId": "213931c0-81ea-47f9-e6da-3adb45707af2"
      },
      "outputs": [
        {
          "output_type": "stream",
          "name": "stdout",
          "text": [
            "Tweet 0 sin caracteres #nosunimosonosjodemos #nosunimosonosjodemos  vamos juntos por el cambio mire el miedo que le tienen  @petrogustavo mi presidente\n",
            "Tweet 1 sin caracteres @tobonsanin otra vez este viejo estúpido politiquero estamos es llevados cuando creemos  viejo decrépito de estos va hacer la solución para colombia ayudando a escoger corruptos como #quintero en medellin #petroelpatrondelmal #federicoescolombia #nosunimosonosjodemos\n",
            "Tweet 2 sin caracteres sin importar encuestas como en el plebiscito juntos por colombia el 29 nos vemos #federicoimparable #nosunimosonosjodemos #federicoescolombia\n",
            "Tweet 3 sin caracteres @franciamarquezm ahora q es a ud si le parece grave y cuando sus borregos de la primera linea lo hacian contra nuestros policias q chevere cuando es para otros pero grave cuando es hacia mi Mentiroso  #petroelpatrondelmal #nosunimosonosjodemos\n",
            "Tweet 4 sin caracteres este es el presidente que nos merecemos recorrió el país entero escuchó expresó cariño y nos contagió la esperanza #federicoescolombia\n",
            "Tweet 5 sin caracteres por mi familia por la democracia y las libertades #federicoescolombia\n",
            "Tweet 6 sin caracteres por el bien de colombia #federicoescolombia\n",
            "Tweet 7 sin caracteres fico es desarrollo fico es progreso #federicoescolombia\n",
            "Tweet 8 sin caracteres parece que no hemos entendido que necesita mantenerse vigente a base de mentiras #federicoescolombia\n",
            "Tweet 9 sin caracteres #federicoescolombia #federicoescolombia el otro el secuestrador lo peor que podría pasarle a colombia se imaginan al secuestrador y a king kong representando a colombia ante el mundo\n"
          ]
        }
      ],
      "source": [
        "for i in range(10):\n",
        "  print(\"Tweet\", i, \"sin caracteres\", tweetsMinusculasSinCaracteres[i])"
      ]
    },
    {
      "cell_type": "code",
      "execution_count": 404,
      "metadata": {
        "id": "eRPkJEB7OXBf"
      },
      "outputs": [],
      "source": [
        "tokensSinCaracteresEspeciales=dict()\n",
        "for i in range(len(tweetsMinusculasSinCaracteres)):\n",
        "  doc_stanza=nlp_stanza(tweetsMinusculasSinCaracteres[i])\n",
        "  tokens_stanza_Palabra = [word.text for sentence in doc_stanza.sentences for word in sentence.words]\n",
        "  tokensSinCaracteresEspeciales[i]=tokens_stanza_Palabra"
      ]
    },
    {
      "cell_type": "code",
      "execution_count": 405,
      "metadata": {
        "colab": {
          "base_uri": "https://localhost:8080/"
        },
        "id": "EX7NAcOPPVD3",
        "outputId": "adab65dc-69d8-41ee-eb9a-26bc57496f6c"
      },
      "outputs": [
        {
          "output_type": "stream",
          "name": "stdout",
          "text": [
            "Tokens tweet: 0 ['#nosunimosonosjodemos', '#nosunimosonosjodemos', 'vamos', 'juntos', 'por', 'el', 'cambio', 'mire', 'el', 'miedo', 'que', 'le', 'tienen', '@petrogustavo', 'mi', 'presidente']\n",
            "Tokens tweet: 1 ['@tobonsanin', 'otra', 'vez', 'este', 'viejo', 'estúpido', 'politiquero', 'estamos', 'es', 'llevados', 'cuando', 'creemos', 'viejo', 'decrépito', 'de', 'estos', 'va', 'hacer', 'la', 'solución', 'para', 'colombia', 'ayudando', 'a', 'escoger', 'corruptos', 'como', '#quintero', 'en', 'medellin', '#petroelpatrondelmal', '#federicoescolombia', '#nosunimosonosjodemos']\n",
            "Tokens tweet: 2 ['sin', 'importar', 'encuestas', 'como', 'en', 'el', 'plebiscito', 'juntos', 'por', 'colombia', 'el', '29', 'nos', 'vemos', '#federicoimparable', '#nosunimosonosjodemos', '#federicoescolombia']\n",
            "Tokens tweet: 3 ['@franciamarquezm', 'ahora', 'q', 'es', 'a', 'ud', 'si', 'le', 'parece', 'grave', 'y', 'cuando', 'sus', 'borregos', 'de', 'la', 'primera', 'linea', 'lo', 'hacian', 'contra', 'nuestros', 'policias', 'q', 'chevere', 'cuando', 'es', 'para', 'otros', 'pero', 'grave', 'cuando', 'es', 'hacia', 'mi', 'Mentiroso', '#petroelpatrondelmal', '#nosunimosonosjodemos']\n",
            "Tokens tweet: 4 ['este', 'es', 'el', 'presidente', 'que', 'nos', 'merecemos', 'recorrió', 'el', 'país', 'entero', 'escuchó', 'expresó', 'cariño', 'y', 'nos', 'contagió', 'la', 'esperanza', '#federicoescolombia']\n",
            "Tokens tweet: 5 ['por', 'mi', 'familia', 'por', 'la', 'democracia', 'y', 'las', 'libertades', '#federicoescolombia']\n",
            "Tokens tweet: 6 ['por', 'el', 'bien', 'de', 'colombia', '#federicoescolombia']\n",
            "Tokens tweet: 7 ['fico', 'es', 'desarrollo', 'fico', 'es', 'progreso', '#federicoescolombia']\n",
            "Tokens tweet: 8 ['parece', 'que', 'no', 'hemos', 'entendido', 'que', 'necesita', 'mantener', 'se', 'vigente', 'a', 'base', 'de', 'mentiras', '#federicoescolombia']\n",
            "Tokens tweet: 9 ['#federicoescolombia', '#federicoescolombia', 'el', 'otro', 'el', 'secuestrador', 'lo', 'peor', 'que', 'podría', 'pasar', 'le', 'a', 'colombia', 'se', 'imaginan', 'a', 'el', 'secuestrador', 'y', 'a', 'king', 'kong', 'representando', 'a', 'colombia', 'ante', 'el', 'mundo']\n"
          ]
        }
      ],
      "source": [
        "for i in range(10):\n",
        "  print(\"Tokens tweet:\", i, tokensSinCaracteresEspeciales[i])"
      ]
    },
    {
      "cell_type": "code",
      "execution_count": 406,
      "metadata": {
        "colab": {
          "base_uri": "https://localhost:8080/"
        },
        "id": "i054pXmaP1g7",
        "outputId": "32387ba7-c087-4d2e-d63d-d9067db7bc91"
      },
      "outputs": [
        {
          "output_type": "stream",
          "name": "stdout",
          "text": [
            "Numero de tokens 29117\n",
            "Numero de palabras unicas 5770\n"
          ]
        }
      ],
      "source": [
        "contadorTokensSinCaracteresEspeciales=0\n",
        "palabrasUnicasSinCaracteresEspeciales=set()\n",
        "\n",
        "for i in tokensSinCaracteresEspeciales:\n",
        "  for j in tokensSinCaracteresEspeciales[i]:\n",
        "    contadorTokensSinCaracteresEspeciales+=1\n",
        "    palabrasUnicasSinCaracteresEspeciales.add(j)\n",
        "\n",
        "print(\"Numero de tokens\", contadorTokensSinCaracteresEspeciales)\n",
        "print(\"Numero de palabras unicas\", len(palabrasUnicasSinCaracteresEspeciales))"
      ]
    },
    {
      "cell_type": "markdown",
      "metadata": {
        "id": "UO7_sD7TrBWL"
      },
      "source": [
        "Nº Tokens sin caracteres especiales = 29117\n",
        "\n",
        "Nº Palabras del vocavulario sin caracteres especiales = 5770\n",
        "\n",
        "Diferencias=23347\n",
        "\n",
        "Quiere decir que existen 23347 palabras repetidas en todo el corpus, mientras que las palabras únicas son solo 5770\n",
        "\n",
        "las palabras únicas representan el 19,8% del corpus."
      ]
    },
    {
      "cell_type": "markdown",
      "metadata": {
        "id": "HeiR_MHfQYX7"
      },
      "source": [
        "---\n",
        "# 4️⃣ Seleccionen un listado de posibles stop-words y eliminen esas palabras de sus textos.\n",
        "---"
      ]
    },
    {
      "cell_type": "code",
      "execution_count": 407,
      "metadata": {
        "colab": {
          "base_uri": "https://localhost:8080/"
        },
        "id": "1HjAuY26TNlI",
        "outputId": "6e13c07e-d009-4371-8f5b-e22f74dd9bcf"
      },
      "outputs": [
        {
          "output_type": "execute_result",
          "data": {
            "text/plain": [
              "True"
            ]
          },
          "metadata": {},
          "execution_count": 407
        }
      ],
      "source": [
        "import nltk\n",
        "from nltk.tokenize import word_tokenize\n",
        "from nltk.corpus import stopwords\n",
        "\n",
        "nltk.download('stopwords', quiet=True)\n",
        "nltk.download('punkt_tab', quiet=True)"
      ]
    },
    {
      "cell_type": "code",
      "source": [
        "stopwords_es = set(stopwords.words('spanish'))\n",
        "print(\"Numero de stopwords:\", len(stopwords_es))\n",
        "for i in range(10):\n",
        "  print(\"Stopword\",i, \":\", list(stopwords_es)[i])\n",
        "\n",
        "print(\"...\")"
      ],
      "metadata": {
        "colab": {
          "base_uri": "https://localhost:8080/"
        },
        "id": "BA9AWpZBQD0Y",
        "outputId": "4236d58f-21ff-4b2a-bca3-8149f78da0c5"
      },
      "execution_count": 408,
      "outputs": [
        {
          "output_type": "stream",
          "name": "stdout",
          "text": [
            "Numero de stopwords: 313\n",
            "Stopword 0 : porque\n",
            "Stopword 1 : estemos\n",
            "Stopword 2 : había\n",
            "Stopword 3 : su\n",
            "Stopword 4 : hubiésemos\n",
            "Stopword 5 : sentida\n",
            "Stopword 6 : estos\n",
            "Stopword 7 : nuestro\n",
            "Stopword 8 : mío\n",
            "Stopword 9 : hubiéramos\n",
            "...\n"
          ]
        }
      ]
    },
    {
      "cell_type": "code",
      "execution_count": 409,
      "metadata": {
        "id": "1IK-4j57Ubxs"
      },
      "outputs": [],
      "source": [
        "tokensSinStopWords = dict()\n",
        "frasesSinStopWords = dict()"
      ]
    },
    {
      "cell_type": "code",
      "execution_count": 410,
      "metadata": {
        "id": "0pREfZGzS9BP"
      },
      "outputs": [],
      "source": [
        "for i in range(len(tweetsMinusculasSinCaracteres)):\n",
        "    tokensNLTKSinStopWords = [t for t in tokensSinCaracteresEspeciales[i] if t.lower() not in stopwords_es]\n",
        "    frasesSinStopWords[i] = [\" \".join(tokensNLTKSinStopWords)]\n",
        "    tokensSinStopWords[i]=tokensNLTKSinStopWords"
      ]
    },
    {
      "cell_type": "code",
      "execution_count": 411,
      "metadata": {
        "colab": {
          "base_uri": "https://localhost:8080/"
        },
        "id": "aFAhgjvmW55G",
        "outputId": "cf07e219-051d-44fc-c4c1-141fe239dc4c"
      },
      "outputs": [
        {
          "output_type": "stream",
          "name": "stdout",
          "text": [
            "Tweet 0 sin Stop Words ['#nosunimosonosjodemos #nosunimosonosjodemos vamos juntos cambio mire miedo @petrogustavo presidente']\n",
            "Tweet 1 sin Stop Words ['@tobonsanin vez viejo estúpido politiquero llevados creemos viejo decrépito va hacer solución colombia ayudando escoger corruptos #quintero medellin #petroelpatrondelmal #federicoescolombia #nosunimosonosjodemos']\n",
            "Tweet 2 sin Stop Words ['importar encuestas plebiscito juntos colombia 29 vemos #federicoimparable #nosunimosonosjodemos #federicoescolombia']\n",
            "Tweet 3 sin Stop Words ['@franciamarquezm ahora q ud si parece grave borregos primera linea hacian policias q chevere grave hacia Mentiroso #petroelpatrondelmal #nosunimosonosjodemos']\n",
            "Tweet 4 sin Stop Words ['presidente merecemos recorrió país entero escuchó expresó cariño contagió esperanza #federicoescolombia']\n",
            "Tweet 5 sin Stop Words ['familia democracia libertades #federicoescolombia']\n",
            "Tweet 6 sin Stop Words ['bien colombia #federicoescolombia']\n",
            "Tweet 7 sin Stop Words ['fico desarrollo fico progreso #federicoescolombia']\n",
            "Tweet 8 sin Stop Words ['parece entendido necesita mantener vigente base mentiras #federicoescolombia']\n",
            "Tweet 9 sin Stop Words ['#federicoescolombia #federicoescolombia secuestrador peor podría pasar colombia imaginan secuestrador king kong representando colombia mundo']\n"
          ]
        }
      ],
      "source": [
        "for i in range(10):\n",
        "  print(\"Tweet\", i, \"sin Stop Words\", frasesSinStopWords[i])"
      ]
    },
    {
      "cell_type": "code",
      "execution_count": 412,
      "metadata": {
        "colab": {
          "base_uri": "https://localhost:8080/"
        },
        "id": "x5mnnT-dZvBd",
        "outputId": "ba9ff145-619e-4d58-dc83-d6259b1dd66b"
      },
      "outputs": [
        {
          "output_type": "stream",
          "name": "stdout",
          "text": [
            "Numero de tokens sin contar las stopword: 15759\n"
          ]
        }
      ],
      "source": [
        "contadorTokensSinStopWords=0\n",
        "for i in tokensSinStopWords:\n",
        "  for j in tokensSinStopWords[i]:\n",
        "    contadorTokensSinStopWords+=1\n",
        "\n",
        "print(\"Numero de tokens sin contar las stopword:\", contadorTokensSinStopWords)"
      ]
    },
    {
      "cell_type": "code",
      "execution_count": 413,
      "metadata": {
        "colab": {
          "base_uri": "https://localhost:8080/"
        },
        "id": "hvF3PiK5aNVr",
        "outputId": "f1885fe0-7864-4804-d04e-f1da451aeba1"
      },
      "outputs": [
        {
          "output_type": "stream",
          "name": "stdout",
          "text": [
            "Numero de palabras sin contar las stopwords:  5593\n"
          ]
        }
      ],
      "source": [
        "palabrasUnicasSinStopWords=set()\n",
        "for i in tokensSinStopWords:\n",
        "  for j in tokensSinStopWords[i]:\n",
        "    palabrasUnicasSinStopWords.add(j)\n",
        "\n",
        "print(\"Numero de palabras sin contar las stopwords: \",len(palabrasUnicasSinStopWords))"
      ]
    },
    {
      "cell_type": "markdown",
      "metadata": {
        "id": "QnDB0EFxbOqg"
      },
      "source": [
        "Nº Tokens sin caracteres especiales = 29117\n",
        "\n",
        "Nº Tokens sin Stop Words = 15759\n",
        "\n",
        "Diferencias en Tokens=13358\n",
        "\n",
        "Nº Palabras del vocavulario sin caracteres especiales = 5770\n",
        "\n",
        "Nº Palabras del vocavulario sin Stop Words = 5593\n",
        "\n",
        "Diferencias en Palabras del vocavulario=177\n"
      ]
    },
    {
      "cell_type": "markdown",
      "metadata": {
        "id": "zgA56s9-bYZl"
      },
      "source": [
        "---\n",
        "# 5️⃣ Realicen tareas de stemming y lematizado en sus textos. De nuevo, recalculen el numero de tokens y el vocabulario. Comparen estos numeros con los obtenidos en los pasos anteriores.\n",
        "---\n",
        "\n"
      ]
    },
    {
      "cell_type": "markdown",
      "metadata": {
        "id": "AsxTGovlqhIp"
      },
      "source": [
        "## 🔹 Lemma"
      ]
    },
    {
      "cell_type": "code",
      "execution_count": 414,
      "metadata": {
        "id": "T7y7prqEdL6A"
      },
      "outputs": [],
      "source": [
        "tokensLemma=dict()"
      ]
    },
    {
      "cell_type": "code",
      "execution_count": 415,
      "metadata": {
        "id": "H6vTYP7wdTzH"
      },
      "outputs": [],
      "source": [
        "for i in range(len(tokensSinStopWords)):\n",
        "  tweetsTokensLematizados = []\n",
        "  for j in range(len(tokensSinStopWords[i])):\n",
        "    doc_stanza = nlp_stanza(tokensSinStopWords[i][j])\n",
        "    lemma = doc_stanza.sentences[0].words[0].lemma\n",
        "    tweetsTokensLematizados.append(lemma)\n",
        "  tokensLemma[i] = tweetsTokensLematizados"
      ]
    },
    {
      "cell_type": "code",
      "execution_count": 416,
      "metadata": {
        "colab": {
          "base_uri": "https://localhost:8080/"
        },
        "id": "UUiwl0Mvg-V6",
        "outputId": "bd932506-c04a-4661-f9fe-9ad5ff590439"
      },
      "outputs": [
        {
          "output_type": "stream",
          "name": "stdout",
          "text": [
            "Tokens tweet 0 Lematizado ['#nosunimosonosjodemo', '#nosunimosonosjodemo', 'ir', 'junto', 'cambio', 'mirar', 'miedo', '@petrogustavo', 'presidente']\n",
            "Tokens tweet 1 Lematizado ['@tobonsanin', 'vez', 'viejo', 'estúpido', 'politiquero', 'llevar', 'creer', 'viejo', 'decrépito', 'ir', 'hacer', 'solución', 'colombia', 'ayudar', 'escoger', 'corrupto', '#quintero', 'medellin', '#petroelpatrondelmal', '#federicoescolombia', '#nosunimosonosjodemo']\n",
            "Tokens tweet 2 Lematizado ['importar', 'encuesta', 'plebiscito', 'junto', 'colombia', '29', 'ver', '#federicoimparable', '#nosunimosonosjodemo', '#federicoescolombia']\n",
            "Tokens tweet 3 Lematizado ['@franciamarquezm', 'ahora', 'q', 'ud', 'si', 'parecer', 'grave', 'borrego', 'primero', 'linea', 'hacian', 'policía', 'q', 'chevere', 'grave', 'hacia', 'Mentiroso', '#petroelpatrondelmal', '#nosunimosonosjodemo']\n",
            "Tokens tweet 4 Lematizado ['presidente', 'merecemo', 'recorrer', 'país', 'entero', 'escuchar', 'expresar', 'cariño', 'contagiar', 'esperanza', '#federicoescolombia']\n",
            "Tokens tweet 5 Lematizado ['familia', 'democracia', 'libertad', '#federicoescolombia']\n",
            "Tokens tweet 6 Lematizado ['bien', 'colombia', '#federicoescolombia']\n",
            "Tokens tweet 7 Lematizado ['fico', 'desarrollo', 'fico', 'progreso', '#federicoescolombia']\n",
            "Tokens tweet 8 Lematizado ['parecer', 'entender', 'necesitar', 'mantener', 'vigente', 'base', 'mentira', '#federicoescolombia']\n",
            "Tokens tweet 9 Lematizado ['#federicoescolombia', '#federicoescolombia', 'secuestrador', 'peor', 'poder', 'pasar', 'colombia', 'imaginan', 'secuestrador', 'king', 'kong', 'representar', 'colombia', 'mundo']\n"
          ]
        }
      ],
      "source": [
        "for i in range(10):\n",
        "  print(\"Tokens tweet\", i, \"Lematizado\", tokensLemma[i])"
      ]
    },
    {
      "cell_type": "code",
      "execution_count": 417,
      "metadata": {
        "colab": {
          "base_uri": "https://localhost:8080/"
        },
        "id": "drEwg_CWvxLy",
        "outputId": "6e74168c-7df5-4a3d-f161-7d0c10730cd9"
      },
      "outputs": [
        {
          "output_type": "stream",
          "name": "stdout",
          "text": [
            "Numero de tokens despues de lematizar:  15759\n"
          ]
        }
      ],
      "source": [
        "contadorTokensLematizdos=0\n",
        "for i in tokensLemma:\n",
        "  for j in tokensLemma[i]:\n",
        "    contadorTokensLematizdos+=1\n",
        "\n",
        "print(\"Numero de tokens despues de lematizar: \", contadorTokensLematizdos)"
      ]
    },
    {
      "cell_type": "code",
      "execution_count": 418,
      "metadata": {
        "colab": {
          "base_uri": "https://localhost:8080/"
        },
        "id": "n6cz1ZlywWnD",
        "outputId": "0fca4a1f-4243-4b97-b71a-48902e9d65bb"
      },
      "outputs": [
        {
          "output_type": "stream",
          "name": "stdout",
          "text": [
            "Numero de palabras despues de lematizar 4331\n"
          ]
        }
      ],
      "source": [
        "palabrasUnicasLematizados=set()\n",
        "for i in tokensLemma:\n",
        "  for j in tokensLemma[i]:\n",
        "    palabrasUnicasLematizados.add(j)\n",
        "\n",
        "print(\"Numero de palabras despues de lematizar\", len(palabrasUnicasLematizados))"
      ]
    },
    {
      "cell_type": "markdown",
      "metadata": {
        "id": "dluiUo5ylv5U"
      },
      "source": [
        "## 🔹 Stemming"
      ]
    },
    {
      "cell_type": "code",
      "execution_count": 419,
      "metadata": {
        "id": "78Qq2HHNl_Bu"
      },
      "outputs": [],
      "source": [
        "from nltk.stem import PorterStemmer"
      ]
    },
    {
      "cell_type": "code",
      "execution_count": 420,
      "metadata": {
        "id": "O_DGceFamJKk"
      },
      "outputs": [],
      "source": [
        "tokensStemming=dict()"
      ]
    },
    {
      "cell_type": "code",
      "execution_count": 421,
      "metadata": {
        "id": "74oIkgibmGgS"
      },
      "outputs": [],
      "source": [
        "stemmer_porter = PorterStemmer()\n",
        "for i in range(len(tokensSinStopWords)):\n",
        "  tweetsTokensStemming = []\n",
        "  for j in range(len(tokensSinStopWords[i])):\n",
        "    stemm = stemmer_porter.stem(tokensSinStopWords[i][j])\n",
        "    tweetsTokensStemming.append(stemm)\n",
        "  tokensStemming[i] = tweetsTokensStemming"
      ]
    },
    {
      "cell_type": "code",
      "execution_count": 422,
      "metadata": {
        "colab": {
          "base_uri": "https://localhost:8080/"
        },
        "id": "OEmPi0R-nbwz",
        "outputId": "daecf1a3-224b-491c-95c4-f15309544b3e"
      },
      "outputs": [
        {
          "output_type": "stream",
          "name": "stdout",
          "text": [
            "Tokens tweet 0 Stemming ['#nosunimosonosjodemo', '#nosunimosonosjodemo', 'vamo', 'junto', 'cambio', 'mire', 'miedo', '@petrogustavo', 'president']\n",
            "Tokens tweet 1 Stemming ['@tobonsanin', 'vez', 'viejo', 'estúpido', 'politiquero', 'llevado', 'creemo', 'viejo', 'decrépito', 'va', 'hacer', 'solución', 'colombia', 'ayudando', 'escog', 'corrupto', '#quintero', 'medellin', '#petroelpatrondelm', '#federicoescolombia', '#nosunimosonosjodemo']\n",
            "Tokens tweet 2 Stemming ['importar', 'encuesta', 'plebiscito', 'junto', 'colombia', '29', 'vemo', '#federicoimpar', '#nosunimosonosjodemo', '#federicoescolombia']\n",
            "Tokens tweet 3 Stemming ['@franciamarquezm', 'ahora', 'q', 'ud', 'si', 'parec', 'grave', 'borrego', 'primera', 'linea', 'hacian', 'policia', 'q', 'chever', 'grave', 'hacia', 'mentiroso', '#petroelpatrondelm', '#nosunimosonosjodemo']\n",
            "Tokens tweet 4 Stemming ['president', 'merecemo', 'recorrió', 'paí', 'entero', 'escuchó', 'expresó', 'cariño', 'contagió', 'esperanza', '#federicoescolombia']\n",
            "Tokens tweet 5 Stemming ['familia', 'democracia', 'libertad', '#federicoescolombia']\n",
            "Tokens tweet 6 Stemming ['bien', 'colombia', '#federicoescolombia']\n",
            "Tokens tweet 7 Stemming ['fico', 'desarrollo', 'fico', 'progreso', '#federicoescolombia']\n",
            "Tokens tweet 8 Stemming ['parec', 'entendido', 'necesita', 'manten', 'vigent', 'base', 'mentira', '#federicoescolombia']\n",
            "Tokens tweet 9 Stemming ['#federicoescolombia', '#federicoescolombia', 'secuestrador', 'peor', 'podría', 'pasar', 'colombia', 'imaginan', 'secuestrador', 'king', 'kong', 'representando', 'colombia', 'mundo']\n"
          ]
        }
      ],
      "source": [
        "for i in range(10):\n",
        "  print(\"Tokens tweet\", i, \"Stemming\", tokensStemming[i])"
      ]
    },
    {
      "cell_type": "code",
      "execution_count": 423,
      "metadata": {
        "colab": {
          "base_uri": "https://localhost:8080/"
        },
        "id": "pgwPcP_fwLAm",
        "outputId": "233bc8a4-cecb-4c9c-e058-b70f5cb27f11"
      },
      "outputs": [
        {
          "output_type": "stream",
          "name": "stdout",
          "text": [
            "Numero de tokens luego de la lematizacion:  15759\n"
          ]
        }
      ],
      "source": [
        "contadorTokensStemming=0\n",
        "for i in tokensStemming:\n",
        "  for j in tokensStemming[i]:\n",
        "    contadorTokensStemming+=1\n",
        "\n",
        "print(\"Numero de tokens luego de la lematizacion: \", contadorTokensStemming)"
      ]
    },
    {
      "cell_type": "code",
      "execution_count": 424,
      "metadata": {
        "colab": {
          "base_uri": "https://localhost:8080/"
        },
        "id": "Cg8oHjGwwqel",
        "outputId": "c06222f9-f535-4acf-f973-e3cfaa003cf0"
      },
      "outputs": [
        {
          "output_type": "stream",
          "name": "stdout",
          "text": [
            "Numero de palabras luega de lematizar:  5158\n"
          ]
        }
      ],
      "source": [
        "palabrasUnicasStemming=set()\n",
        "for i in tokensStemming:\n",
        "  for j in tokensStemming[i]:\n",
        "    palabrasUnicasStemming.add(j)\n",
        "\n",
        "print(\"Numero de palabras luega de lematizar: \", len(palabrasUnicasStemming))"
      ]
    },
    {
      "cell_type": "markdown",
      "metadata": {
        "id": "mA8TkaU0nvys"
      },
      "source": [
        "Nº Tokens sin caracteres especiales = 29117\n",
        "\n",
        "Nº Tokens sin Stop Words = 15759\n",
        "\n",
        "Nº Tokens Lematizando = 15759\n",
        "\n",
        "Nº Tokens Stemming = 15759\n",
        "\n",
        "Nº Palabras del vocavulario sin caracteres especiales = 5770\n",
        "\n",
        "Nº Palabras del vocavulario sin Stop Words = 5593\n",
        "\n",
        "Nº Palabras del vocavulario Lematizando = 4331\n",
        "\n",
        "Nº Palabras del vocavulario Stemming = 5158"
      ]
    },
    {
      "cell_type": "markdown",
      "metadata": {
        "id": "kaf7R5X2kYXF"
      },
      "source": [
        "\n",
        "\n",
        "---\n",
        "# 6️⃣ Etiquetado gramatical (POS Tagging). Empleen una librería de su eleccion (por ejemplo, spaCy, Stanza, NLTK o CORE NLP) para etiquetar gramaticalmente cada token de sus textos.\n",
        "---\n",
        "\n"
      ]
    },
    {
      "cell_type": "markdown",
      "metadata": {
        "id": "5CipWWZFb3VX"
      },
      "source": [
        "Etiquetado gramatical"
      ]
    },
    {
      "cell_type": "code",
      "execution_count": 425,
      "metadata": {
        "colab": {
          "base_uri": "https://localhost:8080/"
        },
        "id": "_J_ExEQpdzcc",
        "outputId": "9369519b-c8e5-410c-9dad-894b2b573dd5"
      },
      "outputs": [
        {
          "output_type": "stream",
          "name": "stdout",
          "text": [
            "Collecting es-core-news-sm==3.8.0\n",
            "  Downloading https://github.com/explosion/spacy-models/releases/download/es_core_news_sm-3.8.0/es_core_news_sm-3.8.0-py3-none-any.whl (12.9 MB)\n",
            "\u001b[2K     \u001b[90m━━━━━━━━━━━━━━━━━━━━━━━━━━━━━━━━━━━━━━━━\u001b[0m \u001b[32m12.9/12.9 MB\u001b[0m \u001b[31m95.4 MB/s\u001b[0m eta \u001b[36m0:00:00\u001b[0m\n",
            "\u001b[?25h\u001b[38;5;2m✔ Download and installation successful\u001b[0m\n",
            "You can now load the package via spacy.load('es_core_news_sm')\n",
            "\u001b[38;5;3m⚠ Restart to reload dependencies\u001b[0m\n",
            "If you are in a Jupyter or Colab notebook, you may need to restart Python in\n",
            "order to load all the package's dependencies. You can do this by selecting the\n",
            "'Restart kernel' or 'Restart runtime' option.\n"
          ]
        }
      ],
      "source": [
        "!python -m spacy download es_core_news_sm"
      ]
    },
    {
      "cell_type": "code",
      "execution_count": 426,
      "metadata": {
        "id": "h8XNu6cjb3Ey"
      },
      "outputs": [],
      "source": [
        "import spacy\n",
        "nlp_es = spacy.load(\"es_core_news_sm\")"
      ]
    },
    {
      "cell_type": "code",
      "execution_count": 427,
      "metadata": {
        "id": "7E7ZLOptb5Ob"
      },
      "outputs": [],
      "source": [
        "tokensEtiquetados = dict()\n",
        "\n",
        "for i in range(len(tweetsMinusculasSinCaracteres)):\n",
        "  tweetsTokensEtiquetados = []\n",
        "  doc_es = nlp_es(tweetsMinusculasSinCaracteres[i])\n",
        "  for token in doc_es:\n",
        "    tweetsTokensEtiquetados.append((token.text, token.pos_))\n",
        "  tokensEtiquetados[i] = tweetsTokensEtiquetados"
      ]
    },
    {
      "cell_type": "code",
      "execution_count": 428,
      "metadata": {
        "colab": {
          "base_uri": "https://localhost:8080/"
        },
        "id": "mfabpJiJ_INj",
        "outputId": "473edf91-05e2-4960-94a1-329385c5a6e3"
      },
      "outputs": [
        {
          "output_type": "stream",
          "name": "stdout",
          "text": [
            "Token                Etiqueta  \n",
            "------------------------------\n",
            "#                    NOUN      \n",
            "nosunimosonosjodemos NOUN      \n",
            "#                    NOUN      \n",
            "nosunimosonosjodemos VERB      \n",
            "                     SPACE     \n",
            "vamos                VERB      \n",
            "juntos               ADJ       \n",
            "por                  ADP       \n",
            "el                   DET       \n",
            "cambio               NOUN      \n",
            "mire                 VERB      \n",
            "el                   DET       \n",
            "miedo                NOUN      \n",
            "que                  PRON      \n",
            "le                   PRON      \n",
            "tienen               VERB      \n",
            "                     SPACE     \n",
            "@petrogustavo        NOUN      \n",
            "mi                   DET       \n",
            "presidente           NOUN      \n"
          ]
        }
      ],
      "source": [
        "print(f\"{'Token':<20} {'Etiqueta':<10}\")  # Print headers\n",
        "print(\"-\" * 30)  # Print a separator line\n",
        "\n",
        "for i in range(1):\n",
        "  for j in range(len(tokensEtiquetados[i])):\n",
        "    print(f\"{tokensEtiquetados[i][j][0]:<20} {tokensEtiquetados[i][j][1]:<10}\")"
      ]
    },
    {
      "cell_type": "markdown",
      "metadata": {
        "id": "_F1iMZ7BhdRc"
      },
      "source": [
        "## 🔹 Significado de las Etiquetas en spaCy\n",
        "\n",
        "Estas etiquetas corresponden a las categorías gramaticales utilizadas por **spaCy** para etiquetar palabras en un texto.  \n",
        "\n",
        "### Lista de etiquetas y su significado\n",
        "\n",
        "- **`PUNCT` (Punctuation)** → Signos de puntuación (`. , ; : ? !`).\n",
        "- **`NUM` (Numeral)** → Números (`2024`, `tres`, `primero`).\n",
        "- **`CCONJ` (Coordinating Conjunction)** → Conjunciones coordinantes (`y`, `o`, `pero`).\n",
        "- **`DET` (Determiner)** → Determinantes (`el`, `la`, `un`, `mi`).\n",
        "- **`ADP` (Adposition - Prepositions and Postpositions)** → Preposiciones (`en`, `a`, `de`, `sobre`).\n",
        "- **`AUX` (Auxiliary Verb)** → Verbos auxiliares (`haber`, `ser`, `estar` en ciertos contextos).\n",
        "- **`PROPN` (Proper Noun)** → Nombres propios (`España`, `Juan`, `Amazon`).\n",
        "- **`ADJ` (Adjective)** → Adjetivos (`grande`, `rápido`, `feliz`).\n",
        "- **`ADV` (Adverb)** → Adverbios (`rápidamente`, `muy`, `ayer`).\n",
        "- **`VERB` (Verb)** → Verbos (`correr`, `hablar`, `comer`).\n",
        "- **`SPACE` (Space)** → Espacios en blanco (`\\n`, ` `).\n",
        "- **`PRON` (Pronoun)** → Pronombres (`yo`, `tú`, `él`, `nosotros`).\n",
        "- **`SCONJ` (Subordinating Conjunction)** → Conjunciones subordinantes (`porque`, `aunque`, `si`).\n",
        "- **`INTJ` (Interjection)** → Interjecciones (`¡ay!`, `¡eh!`, `¡oops!`).\n",
        "- **`NOUN` (Noun)** → Sustantivos (`casa`, `perro`, `computadora`).\n",
        "- **`PART` (Particle)** → Partículas gramaticales que no encajan en otras categorías (`no`, `que` en ciertas estructuras como \"tengo que ir\").\n",
        "\n"
      ]
    },
    {
      "cell_type": "markdown",
      "metadata": {
        "id": "zM-iNiClwVHO"
      },
      "source": [
        "## 🔹 Comenten y analicen brevemente los resultados, haciendo enfasis en posibles casos de ambiguedad o inconsistencias en la asignacion de etiquetas.\n",
        "\n",
        "* El etiquetado POS, tiene algunos errores al intentar clasificar cada palabra, posiblemente esto se debe a que el trata de encontrar una estructura definida en las frases del corpus, sin embargo algunos de los usuarios no escriben los tweets con una estructura definida, un ejemplo de ello es el primer tweet:\n",
        "\n",
        "[('#', 'NOUN'), ('nosunimosonosjodemos', 'NOUN'), ('#', 'NOUN'), ('nosunimosonosjodemos', 'VERB'), (' ', 'SPACE'), ('vamos', 'VERB'), ('juntos', 'ADJ'), ('por', 'ADP'), ('el', 'DET'), ('cambio', 'NOUN'), ('mire', 'VERB'), ('el', 'DET'), ('miedo', 'NOUN'), ('que', 'PRON'), ('le', 'PRON'), ('tienen', 'VERB'), (' ', 'SPACE'), ('@petrogustavo', 'NOUN'), ('mi', 'DET'), ('presidente', 'NOUN')]\n",
        "\n",
        "Donde inicialmente clasifica nosunimosonosjodemos como sujeto y luego lo clasifica como verbo."
      ]
    },
    {
      "cell_type": "markdown",
      "metadata": {
        "id": "mL9q59_9eQW1"
      },
      "source": [
        "---\n",
        "# 7️⃣ Analisis de distribucion de etiquetas\n",
        "---"
      ]
    },
    {
      "cell_type": "code",
      "execution_count": 429,
      "metadata": {
        "id": "-7_cfHcphD8Q"
      },
      "outputs": [],
      "source": [
        "etiquetasDiferentes = set()\n",
        "for i in range(len(tokensEtiquetados)):\n",
        "  for j in range(len(tokensEtiquetados[i])):\n",
        "    etiquetasDiferentes.add(tokensEtiquetados[i][j][1])"
      ]
    },
    {
      "cell_type": "code",
      "execution_count": 430,
      "metadata": {
        "colab": {
          "base_uri": "https://localhost:8080/"
        },
        "id": "s3onqWUMhI9u",
        "outputId": "8a235e12-57fa-4517-af12-e691c34eb7fe"
      },
      "outputs": [
        {
          "output_type": "stream",
          "name": "stdout",
          "text": [
            "{'CCONJ', 'PUNCT', 'PART', 'ADP', 'VERB', 'SPACE', 'PRON', 'NOUN', 'ADJ', 'SCONJ', 'INTJ', 'NUM', 'PROPN', 'DET', 'ADV', 'AUX'}\n"
          ]
        }
      ],
      "source": [
        "print(etiquetasDiferentes)"
      ]
    },
    {
      "cell_type": "code",
      "execution_count": 431,
      "metadata": {
        "id": "faZWR5e7hrz-"
      },
      "outputs": [],
      "source": [
        "frecuenciaEtiquetas = {\n",
        "    'PUNCT': 0,\n",
        "    'NUM': 0,\n",
        "    'CCONJ': 0,\n",
        "    'DET': 0,\n",
        "    'ADP': 0,\n",
        "    'AUX': 0,\n",
        "    'PROPN': 0,\n",
        "    'ADJ': 0,\n",
        "    'ADV': 0,\n",
        "    'VERB': 0,\n",
        "    'SPACE': 0,\n",
        "    'PRON': 0,\n",
        "    'SCONJ': 0,\n",
        "    'INTJ': 0,\n",
        "    'NOUN': 0,\n",
        "    'PART': 0\n",
        "}\n",
        "\n",
        "for i in range(len(tokensEtiquetados)):\n",
        "  for j in range(len(tokensEtiquetados[i])):\n",
        "      frecuenciaEtiquetas[tokensEtiquetados[i][j][1]]+=1"
      ]
    },
    {
      "cell_type": "code",
      "execution_count": 432,
      "metadata": {
        "colab": {
          "base_uri": "https://localhost:8080/"
        },
        "id": "Ov7Abjhcii66",
        "outputId": "2cdb9f48-7905-48ef-e7b6-67f6401a81b4"
      },
      "outputs": [
        {
          "output_type": "stream",
          "name": "stdout",
          "text": [
            "Etiqueta   Frecuencia\n",
            "\n",
            "PUNCT      2\n",
            "NUM        313\n",
            "CCONJ      1040\n",
            "DET        3651\n",
            "ADP        3883\n",
            "AUX        1287\n",
            "PROPN      1579\n",
            "ADJ        2717\n",
            "ADV        1575\n",
            "VERB       3842\n",
            "SPACE      826\n",
            "PRON       2150\n",
            "SCONJ      911\n",
            "INTJ       30\n",
            "NOUN       7252\n",
            "PART       7\n"
          ]
        }
      ],
      "source": [
        "print(\"Etiqueta\".ljust(10), \"Frecuencia\")\n",
        "print()\n",
        "for i in (frecuenciaEtiquetas):\n",
        "  print(f\"{i:<10} {frecuenciaEtiquetas[i]}\")"
      ]
    },
    {
      "cell_type": "markdown",
      "metadata": {
        "id": "Ee7SAOAXxJuV"
      },
      "source": [
        "## 🔹 Presenten esta informacion en una tabla o gráfica. Discutan qué patrones se observan y cómo podrían relacionarse con la naturaleza del corpus.\n",
        "\n",
        "* Muchos tweets mencionan personas, marcas, lugares o eventos, lo que es coherente con el uso de Twitter para discusiones sobre figuras públicas y temas de tendencia.\n",
        "\n",
        "* La baja presencia de signos de puntuación es debido al pre-procesamiento del corpus.\n",
        "\n",
        "* Debido a la cantidad tan elevada de adjetivos (2717) se puede inferir que el contenido del corpus es muy crítico o esta basada en opiniones."
      ]
    },
    {
      "cell_type": "markdown",
      "metadata": {
        "id": "KjgCUcAcjLnd"
      },
      "source": [
        "---\n",
        "# 8️⃣ Analisis sintactico\n",
        "---"
      ]
    },
    {
      "cell_type": "code",
      "execution_count": 433,
      "metadata": {
        "colab": {
          "base_uri": "https://localhost:8080/",
          "height": 1000
        },
        "id": "fCMMfC7tlPCa",
        "outputId": "28d14b4e-099b-43ec-805b-40e34bb64738"
      },
      "outputs": [
        {
          "output_type": "display_data",
          "data": {
            "text/plain": [
              "<IPython.core.display.HTML object>"
            ],
            "text/html": [
              "<span class=\"tex2jax_ignore\"><svg xmlns=\"http://www.w3.org/2000/svg\" xmlns:xlink=\"http://www.w3.org/1999/xlink\" xml:lang=\"en\" id=\"99389825018548c790a77ee5e0c36548-0\" class=\"displacy\" width=\"1220\" height=\"317.0\" direction=\"ltr\" style=\"max-width: none; height: 317.0px; color: white; background: #09a3d5; font-family: Source Sans Pro; direction: ltr\">\n",
              "<text class=\"displacy-token\" fill=\"currentColor\" text-anchor=\"middle\" y=\"227.0\">\n",
              "    <tspan class=\"displacy-word\" fill=\"currentColor\" x=\"50\">#nosunimosonosjodemos</tspan>\n",
              "    <tspan class=\"displacy-tag\" dy=\"2em\" fill=\"currentColor\" x=\"50\">PROPN</tspan>\n",
              "</text>\n",
              "\n",
              "<text class=\"displacy-token\" fill=\"currentColor\" text-anchor=\"middle\" y=\"227.0\">\n",
              "    <tspan class=\"displacy-word\" fill=\"currentColor\" x=\"140\">#nosunimosonosjodemos</tspan>\n",
              "    <tspan class=\"displacy-tag\" dy=\"2em\" fill=\"currentColor\" x=\"140\">PROPN</tspan>\n",
              "</text>\n",
              "\n",
              "<text class=\"displacy-token\" fill=\"currentColor\" text-anchor=\"middle\" y=\"227.0\">\n",
              "    <tspan class=\"displacy-word\" fill=\"currentColor\" x=\"230\">vamos</tspan>\n",
              "    <tspan class=\"displacy-tag\" dy=\"2em\" fill=\"currentColor\" x=\"230\">VERB</tspan>\n",
              "</text>\n",
              "\n",
              "<text class=\"displacy-token\" fill=\"currentColor\" text-anchor=\"middle\" y=\"227.0\">\n",
              "    <tspan class=\"displacy-word\" fill=\"currentColor\" x=\"320\">juntos</tspan>\n",
              "    <tspan class=\"displacy-tag\" dy=\"2em\" fill=\"currentColor\" x=\"320\">ADJ</tspan>\n",
              "</text>\n",
              "\n",
              "<text class=\"displacy-token\" fill=\"currentColor\" text-anchor=\"middle\" y=\"227.0\">\n",
              "    <tspan class=\"displacy-word\" fill=\"currentColor\" x=\"410\">por</tspan>\n",
              "    <tspan class=\"displacy-tag\" dy=\"2em\" fill=\"currentColor\" x=\"410\">ADP</tspan>\n",
              "</text>\n",
              "\n",
              "<text class=\"displacy-token\" fill=\"currentColor\" text-anchor=\"middle\" y=\"227.0\">\n",
              "    <tspan class=\"displacy-word\" fill=\"currentColor\" x=\"500\">el</tspan>\n",
              "    <tspan class=\"displacy-tag\" dy=\"2em\" fill=\"currentColor\" x=\"500\">DET</tspan>\n",
              "</text>\n",
              "\n",
              "<text class=\"displacy-token\" fill=\"currentColor\" text-anchor=\"middle\" y=\"227.0\">\n",
              "    <tspan class=\"displacy-word\" fill=\"currentColor\" x=\"590\">cambio ,</tspan>\n",
              "    <tspan class=\"displacy-tag\" dy=\"2em\" fill=\"currentColor\" x=\"590\">NOUN</tspan>\n",
              "</text>\n",
              "\n",
              "<text class=\"displacy-token\" fill=\"currentColor\" text-anchor=\"middle\" y=\"227.0\">\n",
              "    <tspan class=\"displacy-word\" fill=\"currentColor\" x=\"680\">mire</tspan>\n",
              "    <tspan class=\"displacy-tag\" dy=\"2em\" fill=\"currentColor\" x=\"680\">VERB</tspan>\n",
              "</text>\n",
              "\n",
              "<text class=\"displacy-token\" fill=\"currentColor\" text-anchor=\"middle\" y=\"227.0\">\n",
              "    <tspan class=\"displacy-word\" fill=\"currentColor\" x=\"770\">el</tspan>\n",
              "    <tspan class=\"displacy-tag\" dy=\"2em\" fill=\"currentColor\" x=\"770\">DET</tspan>\n",
              "</text>\n",
              "\n",
              "<text class=\"displacy-token\" fill=\"currentColor\" text-anchor=\"middle\" y=\"227.0\">\n",
              "    <tspan class=\"displacy-word\" fill=\"currentColor\" x=\"860\">miedo</tspan>\n",
              "    <tspan class=\"displacy-tag\" dy=\"2em\" fill=\"currentColor\" x=\"860\">NOUN</tspan>\n",
              "</text>\n",
              "\n",
              "<text class=\"displacy-token\" fill=\"currentColor\" text-anchor=\"middle\" y=\"227.0\">\n",
              "    <tspan class=\"displacy-word\" fill=\"currentColor\" x=\"950\">que</tspan>\n",
              "    <tspan class=\"displacy-tag\" dy=\"2em\" fill=\"currentColor\" x=\"950\">PRON</tspan>\n",
              "</text>\n",
              "\n",
              "<text class=\"displacy-token\" fill=\"currentColor\" text-anchor=\"middle\" y=\"227.0\">\n",
              "    <tspan class=\"displacy-word\" fill=\"currentColor\" x=\"1040\">le</tspan>\n",
              "    <tspan class=\"displacy-tag\" dy=\"2em\" fill=\"currentColor\" x=\"1040\">PRON</tspan>\n",
              "</text>\n",
              "\n",
              "<text class=\"displacy-token\" fill=\"currentColor\" text-anchor=\"middle\" y=\"227.0\">\n",
              "    <tspan class=\"displacy-word\" fill=\"currentColor\" x=\"1130\">tienen .</tspan>\n",
              "    <tspan class=\"displacy-tag\" dy=\"2em\" fill=\"currentColor\" x=\"1130\">VERB</tspan>\n",
              "</text>\n",
              "\n",
              "<g class=\"displacy-arrow\">\n",
              "    <path class=\"displacy-arc\" id=\"arrow-99389825018548c790a77ee5e0c36548-0-0\" stroke-width=\"2px\" d=\"M75,182.0 75,152.0 217.5,152.0 217.5,182.0\" fill=\"none\" stroke=\"currentColor\"/>\n",
              "    <text dy=\"1.25em\" style=\"font-size: 0.8em; letter-spacing: 1px\">\n",
              "        <textPath xlink:href=\"#arrow-99389825018548c790a77ee5e0c36548-0-0\" class=\"displacy-label\" startOffset=\"50%\" side=\"left\" fill=\"currentColor\" text-anchor=\"middle\">nsubj</textPath>\n",
              "    </text>\n",
              "    <path class=\"displacy-arrowhead\" d=\"M75,184.0 L71,176.0 79,176.0\" fill=\"currentColor\"/>\n",
              "</g>\n",
              "\n",
              "<g class=\"displacy-arrow\">\n",
              "    <path class=\"displacy-arc\" id=\"arrow-99389825018548c790a77ee5e0c36548-0-1\" stroke-width=\"2px\" d=\"M75,182.0 75,167.0 121.25,167.0 121.25,182.0\" fill=\"none\" stroke=\"currentColor\"/>\n",
              "    <text dy=\"1.25em\" style=\"font-size: 0.8em; letter-spacing: 1px\">\n",
              "        <textPath xlink:href=\"#arrow-99389825018548c790a77ee5e0c36548-0-1\" class=\"displacy-label\" startOffset=\"50%\" side=\"left\" fill=\"currentColor\" text-anchor=\"middle\">flat</textPath>\n",
              "    </text>\n",
              "    <path class=\"displacy-arrowhead\" d=\"M121.25,184.0 L125.25,176.0 117.25,176.0\" fill=\"currentColor\"/>\n",
              "</g>\n",
              "\n",
              "<g class=\"displacy-arrow\">\n",
              "    <path class=\"displacy-arc\" id=\"arrow-99389825018548c790a77ee5e0c36548-0-2\" stroke-width=\"2px\" d=\"M255,182.0 255,167.0 301.25,167.0 301.25,182.0\" fill=\"none\" stroke=\"currentColor\"/>\n",
              "    <text dy=\"1.25em\" style=\"font-size: 0.8em; letter-spacing: 1px\">\n",
              "        <textPath xlink:href=\"#arrow-99389825018548c790a77ee5e0c36548-0-2\" class=\"displacy-label\" startOffset=\"50%\" side=\"left\" fill=\"currentColor\" text-anchor=\"middle\">xcomp</textPath>\n",
              "    </text>\n",
              "    <path class=\"displacy-arrowhead\" d=\"M301.25,184.0 L305.25,176.0 297.25,176.0\" fill=\"currentColor\"/>\n",
              "</g>\n",
              "\n",
              "<g class=\"displacy-arrow\">\n",
              "    <path class=\"displacy-arc\" id=\"arrow-99389825018548c790a77ee5e0c36548-0-3\" stroke-width=\"2px\" d=\"M435,182.0 435,152.0 577.5,152.0 577.5,182.0\" fill=\"none\" stroke=\"currentColor\"/>\n",
              "    <text dy=\"1.25em\" style=\"font-size: 0.8em; letter-spacing: 1px\">\n",
              "        <textPath xlink:href=\"#arrow-99389825018548c790a77ee5e0c36548-0-3\" class=\"displacy-label\" startOffset=\"50%\" side=\"left\" fill=\"currentColor\" text-anchor=\"middle\">case</textPath>\n",
              "    </text>\n",
              "    <path class=\"displacy-arrowhead\" d=\"M435,184.0 L431,176.0 439,176.0\" fill=\"currentColor\"/>\n",
              "</g>\n",
              "\n",
              "<g class=\"displacy-arrow\">\n",
              "    <path class=\"displacy-arc\" id=\"arrow-99389825018548c790a77ee5e0c36548-0-4\" stroke-width=\"2px\" d=\"M525,182.0 525,167.0 571.25,167.0 571.25,182.0\" fill=\"none\" stroke=\"currentColor\"/>\n",
              "    <text dy=\"1.25em\" style=\"font-size: 0.8em; letter-spacing: 1px\">\n",
              "        <textPath xlink:href=\"#arrow-99389825018548c790a77ee5e0c36548-0-4\" class=\"displacy-label\" startOffset=\"50%\" side=\"left\" fill=\"currentColor\" text-anchor=\"middle\">det</textPath>\n",
              "    </text>\n",
              "    <path class=\"displacy-arrowhead\" d=\"M525,184.0 L521,176.0 529,176.0\" fill=\"currentColor\"/>\n",
              "</g>\n",
              "\n",
              "<g class=\"displacy-arrow\">\n",
              "    <path class=\"displacy-arc\" id=\"arrow-99389825018548c790a77ee5e0c36548-0-5\" stroke-width=\"2px\" d=\"M255,182.0 255,137.0 583.75,137.0 583.75,182.0\" fill=\"none\" stroke=\"currentColor\"/>\n",
              "    <text dy=\"1.25em\" style=\"font-size: 0.8em; letter-spacing: 1px\">\n",
              "        <textPath xlink:href=\"#arrow-99389825018548c790a77ee5e0c36548-0-5\" class=\"displacy-label\" startOffset=\"50%\" side=\"left\" fill=\"currentColor\" text-anchor=\"middle\">obl</textPath>\n",
              "    </text>\n",
              "    <path class=\"displacy-arrowhead\" d=\"M583.75,184.0 L587.75,176.0 579.75,176.0\" fill=\"currentColor\"/>\n",
              "</g>\n",
              "\n",
              "<g class=\"displacy-arrow\">\n",
              "    <path class=\"displacy-arc\" id=\"arrow-99389825018548c790a77ee5e0c36548-0-6\" stroke-width=\"2px\" d=\"M255,182.0 255,122.0 680.0,122.0 680.0,182.0\" fill=\"none\" stroke=\"currentColor\"/>\n",
              "    <text dy=\"1.25em\" style=\"font-size: 0.8em; letter-spacing: 1px\">\n",
              "        <textPath xlink:href=\"#arrow-99389825018548c790a77ee5e0c36548-0-6\" class=\"displacy-label\" startOffset=\"50%\" side=\"left\" fill=\"currentColor\" text-anchor=\"middle\">parataxis</textPath>\n",
              "    </text>\n",
              "    <path class=\"displacy-arrowhead\" d=\"M680.0,184.0 L684.0,176.0 676.0,176.0\" fill=\"currentColor\"/>\n",
              "</g>\n",
              "\n",
              "<g class=\"displacy-arrow\">\n",
              "    <path class=\"displacy-arc\" id=\"arrow-99389825018548c790a77ee5e0c36548-0-7\" stroke-width=\"2px\" d=\"M795,182.0 795,167.0 841.25,167.0 841.25,182.0\" fill=\"none\" stroke=\"currentColor\"/>\n",
              "    <text dy=\"1.25em\" style=\"font-size: 0.8em; letter-spacing: 1px\">\n",
              "        <textPath xlink:href=\"#arrow-99389825018548c790a77ee5e0c36548-0-7\" class=\"displacy-label\" startOffset=\"50%\" side=\"left\" fill=\"currentColor\" text-anchor=\"middle\">det</textPath>\n",
              "    </text>\n",
              "    <path class=\"displacy-arrowhead\" d=\"M795,184.0 L791,176.0 799,176.0\" fill=\"currentColor\"/>\n",
              "</g>\n",
              "\n",
              "<g class=\"displacy-arrow\">\n",
              "    <path class=\"displacy-arc\" id=\"arrow-99389825018548c790a77ee5e0c36548-0-8\" stroke-width=\"2px\" d=\"M705,182.0 705,152.0 847.5,152.0 847.5,182.0\" fill=\"none\" stroke=\"currentColor\"/>\n",
              "    <text dy=\"1.25em\" style=\"font-size: 0.8em; letter-spacing: 1px\">\n",
              "        <textPath xlink:href=\"#arrow-99389825018548c790a77ee5e0c36548-0-8\" class=\"displacy-label\" startOffset=\"50%\" side=\"left\" fill=\"currentColor\" text-anchor=\"middle\">obj</textPath>\n",
              "    </text>\n",
              "    <path class=\"displacy-arrowhead\" d=\"M847.5,184.0 L851.5,176.0 843.5,176.0\" fill=\"currentColor\"/>\n",
              "</g>\n",
              "\n",
              "<g class=\"displacy-arrow\">\n",
              "    <path class=\"displacy-arc\" id=\"arrow-99389825018548c790a77ee5e0c36548-0-9\" stroke-width=\"2px\" d=\"M975,182.0 975,152.0 1117.5,152.0 1117.5,182.0\" fill=\"none\" stroke=\"currentColor\"/>\n",
              "    <text dy=\"1.25em\" style=\"font-size: 0.8em; letter-spacing: 1px\">\n",
              "        <textPath xlink:href=\"#arrow-99389825018548c790a77ee5e0c36548-0-9\" class=\"displacy-label\" startOffset=\"50%\" side=\"left\" fill=\"currentColor\" text-anchor=\"middle\">mark</textPath>\n",
              "    </text>\n",
              "    <path class=\"displacy-arrowhead\" d=\"M975,184.0 L971,176.0 979,176.0\" fill=\"currentColor\"/>\n",
              "</g>\n",
              "\n",
              "<g class=\"displacy-arrow\">\n",
              "    <path class=\"displacy-arc\" id=\"arrow-99389825018548c790a77ee5e0c36548-0-10\" stroke-width=\"2px\" d=\"M1065,182.0 1065,167.0 1111.25,167.0 1111.25,182.0\" fill=\"none\" stroke=\"currentColor\"/>\n",
              "    <text dy=\"1.25em\" style=\"font-size: 0.8em; letter-spacing: 1px\">\n",
              "        <textPath xlink:href=\"#arrow-99389825018548c790a77ee5e0c36548-0-10\" class=\"displacy-label\" startOffset=\"50%\" side=\"left\" fill=\"currentColor\" text-anchor=\"middle\">obl:arg</textPath>\n",
              "    </text>\n",
              "    <path class=\"displacy-arrowhead\" d=\"M1065,184.0 L1061,176.0 1069,176.0\" fill=\"currentColor\"/>\n",
              "</g>\n",
              "\n",
              "<g class=\"displacy-arrow\">\n",
              "    <path class=\"displacy-arc\" id=\"arrow-99389825018548c790a77ee5e0c36548-0-11\" stroke-width=\"2px\" d=\"M885,182.0 885,137.0 1123.75,137.0 1123.75,182.0\" fill=\"none\" stroke=\"currentColor\"/>\n",
              "    <text dy=\"1.25em\" style=\"font-size: 0.8em; letter-spacing: 1px\">\n",
              "        <textPath xlink:href=\"#arrow-99389825018548c790a77ee5e0c36548-0-11\" class=\"displacy-label\" startOffset=\"50%\" side=\"left\" fill=\"currentColor\" text-anchor=\"middle\">acl:relcl</textPath>\n",
              "    </text>\n",
              "    <path class=\"displacy-arrowhead\" d=\"M1123.75,184.0 L1127.75,176.0 1119.75,176.0\" fill=\"currentColor\"/>\n",
              "</g>\n",
              "</svg></span>"
            ]
          },
          "metadata": {}
        },
        {
          "output_type": "display_data",
          "data": {
            "text/plain": [
              "<IPython.core.display.HTML object>"
            ],
            "text/html": [
              "<span class=\"tex2jax_ignore\"><svg xmlns=\"http://www.w3.org/2000/svg\" xmlns:xlink=\"http://www.w3.org/1999/xlink\" xml:lang=\"en\" id=\"cc7443c9dbae4591a5e154b970e0ae28-0\" class=\"displacy\" width=\"320\" height=\"227.0\" direction=\"ltr\" style=\"max-width: none; height: 227.0px; color: white; background: #09a3d5; font-family: Source Sans Pro; direction: ltr\">\n",
              "<text class=\"displacy-token\" fill=\"currentColor\" text-anchor=\"middle\" y=\"137.0\">\n",
              "    <tspan class=\"displacy-word\" fill=\"currentColor\" x=\"50\">@petrogustavo</tspan>\n",
              "    <tspan class=\"displacy-tag\" dy=\"2em\" fill=\"currentColor\" x=\"50\">PROPN</tspan>\n",
              "</text>\n",
              "\n",
              "<text class=\"displacy-token\" fill=\"currentColor\" text-anchor=\"middle\" y=\"137.0\">\n",
              "    <tspan class=\"displacy-word\" fill=\"currentColor\" x=\"140\">mi</tspan>\n",
              "    <tspan class=\"displacy-tag\" dy=\"2em\" fill=\"currentColor\" x=\"140\">DET</tspan>\n",
              "</text>\n",
              "\n",
              "<text class=\"displacy-token\" fill=\"currentColor\" text-anchor=\"middle\" y=\"137.0\">\n",
              "    <tspan class=\"displacy-word\" fill=\"currentColor\" x=\"230\">presidente</tspan>\n",
              "    <tspan class=\"displacy-tag\" dy=\"2em\" fill=\"currentColor\" x=\"230\">NOUN</tspan>\n",
              "</text>\n",
              "\n",
              "<g class=\"displacy-arrow\">\n",
              "    <path class=\"displacy-arc\" id=\"arrow-cc7443c9dbae4591a5e154b970e0ae28-0-0\" stroke-width=\"2px\" d=\"M75,92.0 75,62.0 230.0,62.0 230.0,92.0\" fill=\"none\" stroke=\"currentColor\"/>\n",
              "    <text dy=\"1.25em\" style=\"font-size: 0.8em; letter-spacing: 1px\">\n",
              "        <textPath xlink:href=\"#arrow-cc7443c9dbae4591a5e154b970e0ae28-0-0\" class=\"displacy-label\" startOffset=\"50%\" side=\"left\" fill=\"currentColor\" text-anchor=\"middle\">nsubj</textPath>\n",
              "    </text>\n",
              "    <path class=\"displacy-arrowhead\" d=\"M75,94.0 L71,86.0 79,86.0\" fill=\"currentColor\"/>\n",
              "</g>\n",
              "\n",
              "<g class=\"displacy-arrow\">\n",
              "    <path class=\"displacy-arc\" id=\"arrow-cc7443c9dbae4591a5e154b970e0ae28-0-1\" stroke-width=\"2px\" d=\"M165,92.0 165,77.0 223.75,77.0 223.75,92.0\" fill=\"none\" stroke=\"currentColor\"/>\n",
              "    <text dy=\"1.25em\" style=\"font-size: 0.8em; letter-spacing: 1px\">\n",
              "        <textPath xlink:href=\"#arrow-cc7443c9dbae4591a5e154b970e0ae28-0-1\" class=\"displacy-label\" startOffset=\"50%\" side=\"left\" fill=\"currentColor\" text-anchor=\"middle\">det</textPath>\n",
              "    </text>\n",
              "    <path class=\"displacy-arrowhead\" d=\"M165,94.0 L161,86.0 169,86.0\" fill=\"currentColor\"/>\n",
              "</g>\n",
              "</svg></span>"
            ]
          },
          "metadata": {}
        },
        {
          "output_type": "stream",
          "name": "stdout",
          "text": [
            "['#nosunimosonosjodemos #nosunimosonosjodemos  vamos juntos por el cambio, mire el miedo que le tienen.', '@petrogustavo mi presidente']\n"
          ]
        },
        {
          "output_type": "display_data",
          "data": {
            "text/plain": [
              "<IPython.core.display.HTML object>"
            ],
            "text/html": [
              "<span class=\"tex2jax_ignore\"><svg xmlns=\"http://www.w3.org/2000/svg\" xmlns:xlink=\"http://www.w3.org/1999/xlink\" xml:lang=\"en\" id=\"a3b875fd511549bbb8741e26c33d7d7e-0\" class=\"displacy\" width=\"1850\" height=\"407.0\" direction=\"ltr\" style=\"max-width: none; height: 407.0px; color: white; background: #09a3d5; font-family: Source Sans Pro; direction: ltr\">\n",
              "<text class=\"displacy-token\" fill=\"currentColor\" text-anchor=\"middle\" y=\"317.0\">\n",
              "    <tspan class=\"displacy-word\" fill=\"currentColor\" x=\"50\">este</tspan>\n",
              "    <tspan class=\"displacy-tag\" dy=\"2em\" fill=\"currentColor\" x=\"50\">PRON</tspan>\n",
              "</text>\n",
              "\n",
              "<text class=\"displacy-token\" fill=\"currentColor\" text-anchor=\"middle\" y=\"317.0\">\n",
              "    <tspan class=\"displacy-word\" fill=\"currentColor\" x=\"140\">es</tspan>\n",
              "    <tspan class=\"displacy-tag\" dy=\"2em\" fill=\"currentColor\" x=\"140\">AUX</tspan>\n",
              "</text>\n",
              "\n",
              "<text class=\"displacy-token\" fill=\"currentColor\" text-anchor=\"middle\" y=\"317.0\">\n",
              "    <tspan class=\"displacy-word\" fill=\"currentColor\" x=\"230\">el</tspan>\n",
              "    <tspan class=\"displacy-tag\" dy=\"2em\" fill=\"currentColor\" x=\"230\">DET</tspan>\n",
              "</text>\n",
              "\n",
              "<text class=\"displacy-token\" fill=\"currentColor\" text-anchor=\"middle\" y=\"317.0\">\n",
              "    <tspan class=\"displacy-word\" fill=\"currentColor\" x=\"320\">presidente</tspan>\n",
              "    <tspan class=\"displacy-tag\" dy=\"2em\" fill=\"currentColor\" x=\"320\">NOUN</tspan>\n",
              "</text>\n",
              "\n",
              "<text class=\"displacy-token\" fill=\"currentColor\" text-anchor=\"middle\" y=\"317.0\">\n",
              "    <tspan class=\"displacy-word\" fill=\"currentColor\" x=\"410\">que</tspan>\n",
              "    <tspan class=\"displacy-tag\" dy=\"2em\" fill=\"currentColor\" x=\"410\">PRON</tspan>\n",
              "</text>\n",
              "\n",
              "<text class=\"displacy-token\" fill=\"currentColor\" text-anchor=\"middle\" y=\"317.0\">\n",
              "    <tspan class=\"displacy-word\" fill=\"currentColor\" x=\"500\">nos</tspan>\n",
              "    <tspan class=\"displacy-tag\" dy=\"2em\" fill=\"currentColor\" x=\"500\">PRON</tspan>\n",
              "</text>\n",
              "\n",
              "<text class=\"displacy-token\" fill=\"currentColor\" text-anchor=\"middle\" y=\"317.0\">\n",
              "    <tspan class=\"displacy-word\" fill=\"currentColor\" x=\"590\">merecemos ,</tspan>\n",
              "    <tspan class=\"displacy-tag\" dy=\"2em\" fill=\"currentColor\" x=\"590\">VERB</tspan>\n",
              "</text>\n",
              "\n",
              "<text class=\"displacy-token\" fill=\"currentColor\" text-anchor=\"middle\" y=\"317.0\">\n",
              "    <tspan class=\"displacy-word\" fill=\"currentColor\" x=\"680\">recorrió</tspan>\n",
              "    <tspan class=\"displacy-tag\" dy=\"2em\" fill=\"currentColor\" x=\"680\">VERB</tspan>\n",
              "</text>\n",
              "\n",
              "<text class=\"displacy-token\" fill=\"currentColor\" text-anchor=\"middle\" y=\"317.0\">\n",
              "    <tspan class=\"displacy-word\" fill=\"currentColor\" x=\"770\">el</tspan>\n",
              "    <tspan class=\"displacy-tag\" dy=\"2em\" fill=\"currentColor\" x=\"770\">DET</tspan>\n",
              "</text>\n",
              "\n",
              "<text class=\"displacy-token\" fill=\"currentColor\" text-anchor=\"middle\" y=\"317.0\">\n",
              "    <tspan class=\"displacy-word\" fill=\"currentColor\" x=\"860\">país</tspan>\n",
              "    <tspan class=\"displacy-tag\" dy=\"2em\" fill=\"currentColor\" x=\"860\">NOUN</tspan>\n",
              "</text>\n",
              "\n",
              "<text class=\"displacy-token\" fill=\"currentColor\" text-anchor=\"middle\" y=\"317.0\">\n",
              "    <tspan class=\"displacy-word\" fill=\"currentColor\" x=\"950\">entero ,</tspan>\n",
              "    <tspan class=\"displacy-tag\" dy=\"2em\" fill=\"currentColor\" x=\"950\">ADJ</tspan>\n",
              "</text>\n",
              "\n",
              "<text class=\"displacy-token\" fill=\"currentColor\" text-anchor=\"middle\" y=\"317.0\">\n",
              "    <tspan class=\"displacy-word\" fill=\"currentColor\" x=\"1040\">escuchó ,</tspan>\n",
              "    <tspan class=\"displacy-tag\" dy=\"2em\" fill=\"currentColor\" x=\"1040\">VERB</tspan>\n",
              "</text>\n",
              "\n",
              "<text class=\"displacy-token\" fill=\"currentColor\" text-anchor=\"middle\" y=\"317.0\">\n",
              "    <tspan class=\"displacy-word\" fill=\"currentColor\" x=\"1130\">expresó</tspan>\n",
              "    <tspan class=\"displacy-tag\" dy=\"2em\" fill=\"currentColor\" x=\"1130\">VERB</tspan>\n",
              "</text>\n",
              "\n",
              "<text class=\"displacy-token\" fill=\"currentColor\" text-anchor=\"middle\" y=\"317.0\">\n",
              "    <tspan class=\"displacy-word\" fill=\"currentColor\" x=\"1220\">cariño</tspan>\n",
              "    <tspan class=\"displacy-tag\" dy=\"2em\" fill=\"currentColor\" x=\"1220\">NOUN</tspan>\n",
              "</text>\n",
              "\n",
              "<text class=\"displacy-token\" fill=\"currentColor\" text-anchor=\"middle\" y=\"317.0\">\n",
              "    <tspan class=\"displacy-word\" fill=\"currentColor\" x=\"1310\">y</tspan>\n",
              "    <tspan class=\"displacy-tag\" dy=\"2em\" fill=\"currentColor\" x=\"1310\">CCONJ</tspan>\n",
              "</text>\n",
              "\n",
              "<text class=\"displacy-token\" fill=\"currentColor\" text-anchor=\"middle\" y=\"317.0\">\n",
              "    <tspan class=\"displacy-word\" fill=\"currentColor\" x=\"1400\">nos</tspan>\n",
              "    <tspan class=\"displacy-tag\" dy=\"2em\" fill=\"currentColor\" x=\"1400\">PRON</tspan>\n",
              "</text>\n",
              "\n",
              "<text class=\"displacy-token\" fill=\"currentColor\" text-anchor=\"middle\" y=\"317.0\">\n",
              "    <tspan class=\"displacy-word\" fill=\"currentColor\" x=\"1490\">contagió</tspan>\n",
              "    <tspan class=\"displacy-tag\" dy=\"2em\" fill=\"currentColor\" x=\"1490\">VERB</tspan>\n",
              "</text>\n",
              "\n",
              "<text class=\"displacy-token\" fill=\"currentColor\" text-anchor=\"middle\" y=\"317.0\">\n",
              "    <tspan class=\"displacy-word\" fill=\"currentColor\" x=\"1580\">la</tspan>\n",
              "    <tspan class=\"displacy-tag\" dy=\"2em\" fill=\"currentColor\" x=\"1580\">DET</tspan>\n",
              "</text>\n",
              "\n",
              "<text class=\"displacy-token\" fill=\"currentColor\" text-anchor=\"middle\" y=\"317.0\">\n",
              "    <tspan class=\"displacy-word\" fill=\"currentColor\" x=\"1670\">esperanza</tspan>\n",
              "    <tspan class=\"displacy-tag\" dy=\"2em\" fill=\"currentColor\" x=\"1670\">NOUN</tspan>\n",
              "</text>\n",
              "\n",
              "<text class=\"displacy-token\" fill=\"currentColor\" text-anchor=\"middle\" y=\"317.0\">\n",
              "    <tspan class=\"displacy-word\" fill=\"currentColor\" x=\"1760\">#federicoescolombia</tspan>\n",
              "    <tspan class=\"displacy-tag\" dy=\"2em\" fill=\"currentColor\" x=\"1760\">PROPN</tspan>\n",
              "</text>\n",
              "\n",
              "<g class=\"displacy-arrow\">\n",
              "    <path class=\"displacy-arc\" id=\"arrow-a3b875fd511549bbb8741e26c33d7d7e-0-0\" stroke-width=\"2px\" d=\"M75,272.0 75,227.0 301.25,227.0 301.25,272.0\" fill=\"none\" stroke=\"currentColor\"/>\n",
              "    <text dy=\"1.25em\" style=\"font-size: 0.8em; letter-spacing: 1px\">\n",
              "        <textPath xlink:href=\"#arrow-a3b875fd511549bbb8741e26c33d7d7e-0-0\" class=\"displacy-label\" startOffset=\"50%\" side=\"left\" fill=\"currentColor\" text-anchor=\"middle\">nsubj</textPath>\n",
              "    </text>\n",
              "    <path class=\"displacy-arrowhead\" d=\"M75,274.0 L71,266.0 79,266.0\" fill=\"currentColor\"/>\n",
              "</g>\n",
              "\n",
              "<g class=\"displacy-arrow\">\n",
              "    <path class=\"displacy-arc\" id=\"arrow-a3b875fd511549bbb8741e26c33d7d7e-0-1\" stroke-width=\"2px\" d=\"M165,272.0 165,242.0 295.0,242.0 295.0,272.0\" fill=\"none\" stroke=\"currentColor\"/>\n",
              "    <text dy=\"1.25em\" style=\"font-size: 0.8em; letter-spacing: 1px\">\n",
              "        <textPath xlink:href=\"#arrow-a3b875fd511549bbb8741e26c33d7d7e-0-1\" class=\"displacy-label\" startOffset=\"50%\" side=\"left\" fill=\"currentColor\" text-anchor=\"middle\">cop</textPath>\n",
              "    </text>\n",
              "    <path class=\"displacy-arrowhead\" d=\"M165,274.0 L161,266.0 169,266.0\" fill=\"currentColor\"/>\n",
              "</g>\n",
              "\n",
              "<g class=\"displacy-arrow\">\n",
              "    <path class=\"displacy-arc\" id=\"arrow-a3b875fd511549bbb8741e26c33d7d7e-0-2\" stroke-width=\"2px\" d=\"M255,272.0 255,257.0 288.75,257.0 288.75,272.0\" fill=\"none\" stroke=\"currentColor\"/>\n",
              "    <text dy=\"1.25em\" style=\"font-size: 0.8em; letter-spacing: 1px\">\n",
              "        <textPath xlink:href=\"#arrow-a3b875fd511549bbb8741e26c33d7d7e-0-2\" class=\"displacy-label\" startOffset=\"50%\" side=\"left\" fill=\"currentColor\" text-anchor=\"middle\">det</textPath>\n",
              "    </text>\n",
              "    <path class=\"displacy-arrowhead\" d=\"M255,274.0 L251,266.0 259,266.0\" fill=\"currentColor\"/>\n",
              "</g>\n",
              "\n",
              "<g class=\"displacy-arrow\">\n",
              "    <path class=\"displacy-arc\" id=\"arrow-a3b875fd511549bbb8741e26c33d7d7e-0-3\" stroke-width=\"2px\" d=\"M435,272.0 435,242.0 565.0,242.0 565.0,272.0\" fill=\"none\" stroke=\"currentColor\"/>\n",
              "    <text dy=\"1.25em\" style=\"font-size: 0.8em; letter-spacing: 1px\">\n",
              "        <textPath xlink:href=\"#arrow-a3b875fd511549bbb8741e26c33d7d7e-0-3\" class=\"displacy-label\" startOffset=\"50%\" side=\"left\" fill=\"currentColor\" text-anchor=\"middle\">mark</textPath>\n",
              "    </text>\n",
              "    <path class=\"displacy-arrowhead\" d=\"M435,274.0 L431,266.0 439,266.0\" fill=\"currentColor\"/>\n",
              "</g>\n",
              "\n",
              "<g class=\"displacy-arrow\">\n",
              "    <path class=\"displacy-arc\" id=\"arrow-a3b875fd511549bbb8741e26c33d7d7e-0-4\" stroke-width=\"2px\" d=\"M525,272.0 525,257.0 558.75,257.0 558.75,272.0\" fill=\"none\" stroke=\"currentColor\"/>\n",
              "    <text dy=\"1.25em\" style=\"font-size: 0.8em; letter-spacing: 1px\">\n",
              "        <textPath xlink:href=\"#arrow-a3b875fd511549bbb8741e26c33d7d7e-0-4\" class=\"displacy-label\" startOffset=\"50%\" side=\"left\" fill=\"currentColor\" text-anchor=\"middle\">obl:arg</textPath>\n",
              "    </text>\n",
              "    <path class=\"displacy-arrowhead\" d=\"M525,274.0 L521,266.0 529,266.0\" fill=\"currentColor\"/>\n",
              "</g>\n",
              "\n",
              "<g class=\"displacy-arrow\">\n",
              "    <path class=\"displacy-arc\" id=\"arrow-a3b875fd511549bbb8741e26c33d7d7e-0-5\" stroke-width=\"2px\" d=\"M345,272.0 345,227.0 571.25,227.0 571.25,272.0\" fill=\"none\" stroke=\"currentColor\"/>\n",
              "    <text dy=\"1.25em\" style=\"font-size: 0.8em; letter-spacing: 1px\">\n",
              "        <textPath xlink:href=\"#arrow-a3b875fd511549bbb8741e26c33d7d7e-0-5\" class=\"displacy-label\" startOffset=\"50%\" side=\"left\" fill=\"currentColor\" text-anchor=\"middle\">acl:relcl</textPath>\n",
              "    </text>\n",
              "    <path class=\"displacy-arrowhead\" d=\"M571.25,274.0 L575.25,266.0 567.25,266.0\" fill=\"currentColor\"/>\n",
              "</g>\n",
              "\n",
              "<g class=\"displacy-arrow\">\n",
              "    <path class=\"displacy-arc\" id=\"arrow-a3b875fd511549bbb8741e26c33d7d7e-0-6\" stroke-width=\"2px\" d=\"M345,272.0 345,212.0 667.5,212.0 667.5,272.0\" fill=\"none\" stroke=\"currentColor\"/>\n",
              "    <text dy=\"1.25em\" style=\"font-size: 0.8em; letter-spacing: 1px\">\n",
              "        <textPath xlink:href=\"#arrow-a3b875fd511549bbb8741e26c33d7d7e-0-6\" class=\"displacy-label\" startOffset=\"50%\" side=\"left\" fill=\"currentColor\" text-anchor=\"middle\">parataxis</textPath>\n",
              "    </text>\n",
              "    <path class=\"displacy-arrowhead\" d=\"M667.5,274.0 L671.5,266.0 663.5,266.0\" fill=\"currentColor\"/>\n",
              "</g>\n",
              "\n",
              "<g class=\"displacy-arrow\">\n",
              "    <path class=\"displacy-arc\" id=\"arrow-a3b875fd511549bbb8741e26c33d7d7e-0-7\" stroke-width=\"2px\" d=\"M795,272.0 795,257.0 828.75,257.0 828.75,272.0\" fill=\"none\" stroke=\"currentColor\"/>\n",
              "    <text dy=\"1.25em\" style=\"font-size: 0.8em; letter-spacing: 1px\">\n",
              "        <textPath xlink:href=\"#arrow-a3b875fd511549bbb8741e26c33d7d7e-0-7\" class=\"displacy-label\" startOffset=\"50%\" side=\"left\" fill=\"currentColor\" text-anchor=\"middle\">det</textPath>\n",
              "    </text>\n",
              "    <path class=\"displacy-arrowhead\" d=\"M795,274.0 L791,266.0 799,266.0\" fill=\"currentColor\"/>\n",
              "</g>\n",
              "\n",
              "<g class=\"displacy-arrow\">\n",
              "    <path class=\"displacy-arc\" id=\"arrow-a3b875fd511549bbb8741e26c33d7d7e-0-8\" stroke-width=\"2px\" d=\"M705,272.0 705,242.0 835.0,242.0 835.0,272.0\" fill=\"none\" stroke=\"currentColor\"/>\n",
              "    <text dy=\"1.25em\" style=\"font-size: 0.8em; letter-spacing: 1px\">\n",
              "        <textPath xlink:href=\"#arrow-a3b875fd511549bbb8741e26c33d7d7e-0-8\" class=\"displacy-label\" startOffset=\"50%\" side=\"left\" fill=\"currentColor\" text-anchor=\"middle\">obj</textPath>\n",
              "    </text>\n",
              "    <path class=\"displacy-arrowhead\" d=\"M835.0,274.0 L839.0,266.0 831.0,266.0\" fill=\"currentColor\"/>\n",
              "</g>\n",
              "\n",
              "<g class=\"displacy-arrow\">\n",
              "    <path class=\"displacy-arc\" id=\"arrow-a3b875fd511549bbb8741e26c33d7d7e-0-9\" stroke-width=\"2px\" d=\"M885,272.0 885,257.0 918.75,257.0 918.75,272.0\" fill=\"none\" stroke=\"currentColor\"/>\n",
              "    <text dy=\"1.25em\" style=\"font-size: 0.8em; letter-spacing: 1px\">\n",
              "        <textPath xlink:href=\"#arrow-a3b875fd511549bbb8741e26c33d7d7e-0-9\" class=\"displacy-label\" startOffset=\"50%\" side=\"left\" fill=\"currentColor\" text-anchor=\"middle\">amod</textPath>\n",
              "    </text>\n",
              "    <path class=\"displacy-arrowhead\" d=\"M918.75,274.0 L922.75,266.0 914.75,266.0\" fill=\"currentColor\"/>\n",
              "</g>\n",
              "\n",
              "<g class=\"displacy-arrow\">\n",
              "    <path class=\"displacy-arc\" id=\"arrow-a3b875fd511549bbb8741e26c33d7d7e-0-10\" stroke-width=\"2px\" d=\"M345,272.0 345,197.0 1033.75,197.0 1033.75,272.0\" fill=\"none\" stroke=\"currentColor\"/>\n",
              "    <text dy=\"1.25em\" style=\"font-size: 0.8em; letter-spacing: 1px\">\n",
              "        <textPath xlink:href=\"#arrow-a3b875fd511549bbb8741e26c33d7d7e-0-10\" class=\"displacy-label\" startOffset=\"50%\" side=\"left\" fill=\"currentColor\" text-anchor=\"middle\">parataxis</textPath>\n",
              "    </text>\n",
              "    <path class=\"displacy-arrowhead\" d=\"M1033.75,274.0 L1037.75,266.0 1029.75,266.0\" fill=\"currentColor\"/>\n",
              "</g>\n",
              "\n",
              "<g class=\"displacy-arrow\">\n",
              "    <path class=\"displacy-arc\" id=\"arrow-a3b875fd511549bbb8741e26c33d7d7e-0-11\" stroke-width=\"2px\" d=\"M345,272.0 345,182.0 1130.0,182.0 1130.0,272.0\" fill=\"none\" stroke=\"currentColor\"/>\n",
              "    <text dy=\"1.25em\" style=\"font-size: 0.8em; letter-spacing: 1px\">\n",
              "        <textPath xlink:href=\"#arrow-a3b875fd511549bbb8741e26c33d7d7e-0-11\" class=\"displacy-label\" startOffset=\"50%\" side=\"left\" fill=\"currentColor\" text-anchor=\"middle\">parataxis</textPath>\n",
              "    </text>\n",
              "    <path class=\"displacy-arrowhead\" d=\"M1130.0,274.0 L1134.0,266.0 1126.0,266.0\" fill=\"currentColor\"/>\n",
              "</g>\n",
              "\n",
              "<g class=\"displacy-arrow\">\n",
              "    <path class=\"displacy-arc\" id=\"arrow-a3b875fd511549bbb8741e26c33d7d7e-0-12\" stroke-width=\"2px\" d=\"M1155,272.0 1155,257.0 1188.75,257.0 1188.75,272.0\" fill=\"none\" stroke=\"currentColor\"/>\n",
              "    <text dy=\"1.25em\" style=\"font-size: 0.8em; letter-spacing: 1px\">\n",
              "        <textPath xlink:href=\"#arrow-a3b875fd511549bbb8741e26c33d7d7e-0-12\" class=\"displacy-label\" startOffset=\"50%\" side=\"left\" fill=\"currentColor\" text-anchor=\"middle\">obj</textPath>\n",
              "    </text>\n",
              "    <path class=\"displacy-arrowhead\" d=\"M1188.75,274.0 L1192.75,266.0 1184.75,266.0\" fill=\"currentColor\"/>\n",
              "</g>\n",
              "\n",
              "<g class=\"displacy-arrow\">\n",
              "    <path class=\"displacy-arc\" id=\"arrow-a3b875fd511549bbb8741e26c33d7d7e-0-13\" stroke-width=\"2px\" d=\"M1335,272.0 1335,242.0 1465.0,242.0 1465.0,272.0\" fill=\"none\" stroke=\"currentColor\"/>\n",
              "    <text dy=\"1.25em\" style=\"font-size: 0.8em; letter-spacing: 1px\">\n",
              "        <textPath xlink:href=\"#arrow-a3b875fd511549bbb8741e26c33d7d7e-0-13\" class=\"displacy-label\" startOffset=\"50%\" side=\"left\" fill=\"currentColor\" text-anchor=\"middle\">cc</textPath>\n",
              "    </text>\n",
              "    <path class=\"displacy-arrowhead\" d=\"M1335,274.0 L1331,266.0 1339,266.0\" fill=\"currentColor\"/>\n",
              "</g>\n",
              "\n",
              "<g class=\"displacy-arrow\">\n",
              "    <path class=\"displacy-arc\" id=\"arrow-a3b875fd511549bbb8741e26c33d7d7e-0-14\" stroke-width=\"2px\" d=\"M1425,272.0 1425,257.0 1458.75,257.0 1458.75,272.0\" fill=\"none\" stroke=\"currentColor\"/>\n",
              "    <text dy=\"1.25em\" style=\"font-size: 0.8em; letter-spacing: 1px\">\n",
              "        <textPath xlink:href=\"#arrow-a3b875fd511549bbb8741e26c33d7d7e-0-14\" class=\"displacy-label\" startOffset=\"50%\" side=\"left\" fill=\"currentColor\" text-anchor=\"middle\">obl:arg</textPath>\n",
              "    </text>\n",
              "    <path class=\"displacy-arrowhead\" d=\"M1425,274.0 L1421,266.0 1429,266.0\" fill=\"currentColor\"/>\n",
              "</g>\n",
              "\n",
              "<g class=\"displacy-arrow\">\n",
              "    <path class=\"displacy-arc\" id=\"arrow-a3b875fd511549bbb8741e26c33d7d7e-0-15\" stroke-width=\"2px\" d=\"M1065,272.0 1065,227.0 1471.25,227.0 1471.25,272.0\" fill=\"none\" stroke=\"currentColor\"/>\n",
              "    <text dy=\"1.25em\" style=\"font-size: 0.8em; letter-spacing: 1px\">\n",
              "        <textPath xlink:href=\"#arrow-a3b875fd511549bbb8741e26c33d7d7e-0-15\" class=\"displacy-label\" startOffset=\"50%\" side=\"left\" fill=\"currentColor\" text-anchor=\"middle\">conj</textPath>\n",
              "    </text>\n",
              "    <path class=\"displacy-arrowhead\" d=\"M1471.25,274.0 L1475.25,266.0 1467.25,266.0\" fill=\"currentColor\"/>\n",
              "</g>\n",
              "\n",
              "<g class=\"displacy-arrow\">\n",
              "    <path class=\"displacy-arc\" id=\"arrow-a3b875fd511549bbb8741e26c33d7d7e-0-16\" stroke-width=\"2px\" d=\"M1605,272.0 1605,257.0 1638.75,257.0 1638.75,272.0\" fill=\"none\" stroke=\"currentColor\"/>\n",
              "    <text dy=\"1.25em\" style=\"font-size: 0.8em; letter-spacing: 1px\">\n",
              "        <textPath xlink:href=\"#arrow-a3b875fd511549bbb8741e26c33d7d7e-0-16\" class=\"displacy-label\" startOffset=\"50%\" side=\"left\" fill=\"currentColor\" text-anchor=\"middle\">det</textPath>\n",
              "    </text>\n",
              "    <path class=\"displacy-arrowhead\" d=\"M1605,274.0 L1601,266.0 1609,266.0\" fill=\"currentColor\"/>\n",
              "</g>\n",
              "\n",
              "<g class=\"displacy-arrow\">\n",
              "    <path class=\"displacy-arc\" id=\"arrow-a3b875fd511549bbb8741e26c33d7d7e-0-17\" stroke-width=\"2px\" d=\"M1515,272.0 1515,242.0 1645.0,242.0 1645.0,272.0\" fill=\"none\" stroke=\"currentColor\"/>\n",
              "    <text dy=\"1.25em\" style=\"font-size: 0.8em; letter-spacing: 1px\">\n",
              "        <textPath xlink:href=\"#arrow-a3b875fd511549bbb8741e26c33d7d7e-0-17\" class=\"displacy-label\" startOffset=\"50%\" side=\"left\" fill=\"currentColor\" text-anchor=\"middle\">obj</textPath>\n",
              "    </text>\n",
              "    <path class=\"displacy-arrowhead\" d=\"M1645.0,274.0 L1649.0,266.0 1641.0,266.0\" fill=\"currentColor\"/>\n",
              "</g>\n",
              "\n",
              "<g class=\"displacy-arrow\">\n",
              "    <path class=\"displacy-arc\" id=\"arrow-a3b875fd511549bbb8741e26c33d7d7e-0-18\" stroke-width=\"2px\" d=\"M1695,272.0 1695,257.0 1728.75,257.0 1728.75,272.0\" fill=\"none\" stroke=\"currentColor\"/>\n",
              "    <text dy=\"1.25em\" style=\"font-size: 0.8em; letter-spacing: 1px\">\n",
              "        <textPath xlink:href=\"#arrow-a3b875fd511549bbb8741e26c33d7d7e-0-18\" class=\"displacy-label\" startOffset=\"50%\" side=\"left\" fill=\"currentColor\" text-anchor=\"middle\">appos</textPath>\n",
              "    </text>\n",
              "    <path class=\"displacy-arrowhead\" d=\"M1728.75,274.0 L1732.75,266.0 1724.75,266.0\" fill=\"currentColor\"/>\n",
              "</g>\n",
              "</svg></span>"
            ]
          },
          "metadata": {}
        },
        {
          "output_type": "stream",
          "name": "stdout",
          "text": [
            "['este es el presidente que nos merecemos, recorrió el país entero, escuchó, expresó cariño y nos contagió la esperanza #federicoescolombia']\n"
          ]
        },
        {
          "output_type": "display_data",
          "data": {
            "text/plain": [
              "<IPython.core.display.HTML object>"
            ],
            "text/html": [
              "<span class=\"tex2jax_ignore\"><svg xmlns=\"http://www.w3.org/2000/svg\" xmlns:xlink=\"http://www.w3.org/1999/xlink\" xml:lang=\"en\" id=\"93ab1a6d70e54923a1b29babdbe3b60e-0\" class=\"displacy\" width=\"590\" height=\"227.0\" direction=\"ltr\" style=\"max-width: none; height: 227.0px; color: white; background: #09a3d5; font-family: Source Sans Pro; direction: ltr\">\n",
              "<text class=\"displacy-token\" fill=\"currentColor\" text-anchor=\"middle\" y=\"137.0\">\n",
              "    <tspan class=\"displacy-word\" fill=\"currentColor\" x=\"50\">por</tspan>\n",
              "    <tspan class=\"displacy-tag\" dy=\"2em\" fill=\"currentColor\" x=\"50\">ADP</tspan>\n",
              "</text>\n",
              "\n",
              "<text class=\"displacy-token\" fill=\"currentColor\" text-anchor=\"middle\" y=\"137.0\">\n",
              "    <tspan class=\"displacy-word\" fill=\"currentColor\" x=\"140\">el</tspan>\n",
              "    <tspan class=\"displacy-tag\" dy=\"2em\" fill=\"currentColor\" x=\"140\">DET</tspan>\n",
              "</text>\n",
              "\n",
              "<text class=\"displacy-token\" fill=\"currentColor\" text-anchor=\"middle\" y=\"137.0\">\n",
              "    <tspan class=\"displacy-word\" fill=\"currentColor\" x=\"230\">bien</tspan>\n",
              "    <tspan class=\"displacy-tag\" dy=\"2em\" fill=\"currentColor\" x=\"230\">NOUN</tspan>\n",
              "</text>\n",
              "\n",
              "<text class=\"displacy-token\" fill=\"currentColor\" text-anchor=\"middle\" y=\"137.0\">\n",
              "    <tspan class=\"displacy-word\" fill=\"currentColor\" x=\"320\">de</tspan>\n",
              "    <tspan class=\"displacy-tag\" dy=\"2em\" fill=\"currentColor\" x=\"320\">ADP</tspan>\n",
              "</text>\n",
              "\n",
              "<text class=\"displacy-token\" fill=\"currentColor\" text-anchor=\"middle\" y=\"137.0\">\n",
              "    <tspan class=\"displacy-word\" fill=\"currentColor\" x=\"410\">colombia</tspan>\n",
              "    <tspan class=\"displacy-tag\" dy=\"2em\" fill=\"currentColor\" x=\"410\">NOUN</tspan>\n",
              "</text>\n",
              "\n",
              "<text class=\"displacy-token\" fill=\"currentColor\" text-anchor=\"middle\" y=\"137.0\">\n",
              "    <tspan class=\"displacy-word\" fill=\"currentColor\" x=\"500\">#federicoescolombia</tspan>\n",
              "    <tspan class=\"displacy-tag\" dy=\"2em\" fill=\"currentColor\" x=\"500\">PROPN</tspan>\n",
              "</text>\n",
              "\n",
              "<g class=\"displacy-arrow\">\n",
              "    <path class=\"displacy-arc\" id=\"arrow-93ab1a6d70e54923a1b29babdbe3b60e-0-0\" stroke-width=\"2px\" d=\"M75,92.0 75,62.0 230.0,62.0 230.0,92.0\" fill=\"none\" stroke=\"currentColor\"/>\n",
              "    <text dy=\"1.25em\" style=\"font-size: 0.8em; letter-spacing: 1px\">\n",
              "        <textPath xlink:href=\"#arrow-93ab1a6d70e54923a1b29babdbe3b60e-0-0\" class=\"displacy-label\" startOffset=\"50%\" side=\"left\" fill=\"currentColor\" text-anchor=\"middle\">case</textPath>\n",
              "    </text>\n",
              "    <path class=\"displacy-arrowhead\" d=\"M75,94.0 L71,86.0 79,86.0\" fill=\"currentColor\"/>\n",
              "</g>\n",
              "\n",
              "<g class=\"displacy-arrow\">\n",
              "    <path class=\"displacy-arc\" id=\"arrow-93ab1a6d70e54923a1b29babdbe3b60e-0-1\" stroke-width=\"2px\" d=\"M165,92.0 165,77.0 223.75,77.0 223.75,92.0\" fill=\"none\" stroke=\"currentColor\"/>\n",
              "    <text dy=\"1.25em\" style=\"font-size: 0.8em; letter-spacing: 1px\">\n",
              "        <textPath xlink:href=\"#arrow-93ab1a6d70e54923a1b29babdbe3b60e-0-1\" class=\"displacy-label\" startOffset=\"50%\" side=\"left\" fill=\"currentColor\" text-anchor=\"middle\">det</textPath>\n",
              "    </text>\n",
              "    <path class=\"displacy-arrowhead\" d=\"M165,94.0 L161,86.0 169,86.0\" fill=\"currentColor\"/>\n",
              "</g>\n",
              "\n",
              "<g class=\"displacy-arrow\">\n",
              "    <path class=\"displacy-arc\" id=\"arrow-93ab1a6d70e54923a1b29babdbe3b60e-0-2\" stroke-width=\"2px\" d=\"M345,92.0 345,77.0 403.75,77.0 403.75,92.0\" fill=\"none\" stroke=\"currentColor\"/>\n",
              "    <text dy=\"1.25em\" style=\"font-size: 0.8em; letter-spacing: 1px\">\n",
              "        <textPath xlink:href=\"#arrow-93ab1a6d70e54923a1b29babdbe3b60e-0-2\" class=\"displacy-label\" startOffset=\"50%\" side=\"left\" fill=\"currentColor\" text-anchor=\"middle\">case</textPath>\n",
              "    </text>\n",
              "    <path class=\"displacy-arrowhead\" d=\"M345,94.0 L341,86.0 349,86.0\" fill=\"currentColor\"/>\n",
              "</g>\n",
              "\n",
              "<g class=\"displacy-arrow\">\n",
              "    <path class=\"displacy-arc\" id=\"arrow-93ab1a6d70e54923a1b29babdbe3b60e-0-3\" stroke-width=\"2px\" d=\"M255,92.0 255,62.0 410.0,62.0 410.0,92.0\" fill=\"none\" stroke=\"currentColor\"/>\n",
              "    <text dy=\"1.25em\" style=\"font-size: 0.8em; letter-spacing: 1px\">\n",
              "        <textPath xlink:href=\"#arrow-93ab1a6d70e54923a1b29babdbe3b60e-0-3\" class=\"displacy-label\" startOffset=\"50%\" side=\"left\" fill=\"currentColor\" text-anchor=\"middle\">nmod</textPath>\n",
              "    </text>\n",
              "    <path class=\"displacy-arrowhead\" d=\"M410.0,94.0 L414.0,86.0 406.0,86.0\" fill=\"currentColor\"/>\n",
              "</g>\n",
              "\n",
              "<g class=\"displacy-arrow\">\n",
              "    <path class=\"displacy-arc\" id=\"arrow-93ab1a6d70e54923a1b29babdbe3b60e-0-4\" stroke-width=\"2px\" d=\"M435,92.0 435,77.0 493.75,77.0 493.75,92.0\" fill=\"none\" stroke=\"currentColor\"/>\n",
              "    <text dy=\"1.25em\" style=\"font-size: 0.8em; letter-spacing: 1px\">\n",
              "        <textPath xlink:href=\"#arrow-93ab1a6d70e54923a1b29babdbe3b60e-0-4\" class=\"displacy-label\" startOffset=\"50%\" side=\"left\" fill=\"currentColor\" text-anchor=\"middle\">appos</textPath>\n",
              "    </text>\n",
              "    <path class=\"displacy-arrowhead\" d=\"M493.75,94.0 L497.75,86.0 489.75,86.0\" fill=\"currentColor\"/>\n",
              "</g>\n",
              "</svg></span>"
            ]
          },
          "metadata": {}
        },
        {
          "output_type": "stream",
          "name": "stdout",
          "text": [
            "['por el bien de colombia #federicoescolombia']\n"
          ]
        }
      ],
      "source": [
        "from stanza.utils.visualization.dependency_visualization import visualize_strings\n",
        "\n",
        "numeroTweet = [0 ,4, 6]\n",
        "\n",
        "for i in numeroTweet:\n",
        "  visualizarFrases = tweetsFrases[i]\n",
        "  visualize_strings(visualizarFrases, \"es\")\n",
        "  print(visualizarFrases)\n"
      ]
    },
    {
      "cell_type": "markdown",
      "metadata": {
        "id": "xeKI1soLo2y0"
      },
      "source": [
        "---\n",
        "# 9️⃣ Evaluacion del analisis sintactico\n",
        "---"
      ]
    },
    {
      "cell_type": "markdown",
      "metadata": {
        "id": "8GTtL4QIxff8"
      },
      "source": [
        "* #nosunimosonosjodemos #nosunimosonosjodemos  vamos juntos por el cambio mire el miedo que le tienen  @petrogustavo mi presidente.\n",
        "\n",
        "* este es el presidente que nos merecemos recorrió el país entero escuchó expresó cariño y nos contagió la esperanza #federicoescolombia.\n",
        "\n",
        "* por el bien de colombia #federicoescolombia.\n"
      ]
    },
    {
      "cell_type": "markdown",
      "metadata": {
        "id": "lHOWapFUo6yq"
      },
      "source": [
        "---\n",
        "# 🔟 Identificacion de entidades nombradas\n",
        "---"
      ]
    },
    {
      "cell_type": "code",
      "execution_count": 434,
      "metadata": {
        "colab": {
          "base_uri": "https://localhost:8080/",
          "height": 422
        },
        "id": "DvyqniV-jRhi",
        "outputId": "9b26f472-5957-45e6-dae8-ce6de8793414"
      },
      "outputs": [
        {
          "output_type": "display_data",
          "data": {
            "text/plain": [
              "<IPython.core.display.HTML object>"
            ],
            "text/html": [
              "<span class=\"tex2jax_ignore\"><div class=\"entities\" style=\"line-height: 2.5; direction: ltr\">@tobonsanin Otra vez este viejo estúpido politiquero , estamos es llevados cuando creemos viejo decrépito de estos va hacer la solución para \n",
              "<mark class=\"entity\" style=\"background: #ff9561; padding: 0.45em 0.6em; margin: 0 0.25em; line-height: 1; border-radius: 0.35em;\">\n",
              "    Colombia\n",
              "    <span style=\"font-size: 0.8em; font-weight: bold; line-height: 1; border-radius: 0.35em; vertical-align: middle; margin-left: 0.5rem\">LOC</span>\n",
              "</mark>\n",
              " , ayudando a escoger corruptos como \n",
              "<mark class=\"entity\" style=\"background: #ddd; padding: 0.45em 0.6em; margin: 0 0.25em; line-height: 1; border-radius: 0.35em;\">\n",
              "    #quintero\n",
              "    <span style=\"font-size: 0.8em; font-weight: bold; line-height: 1; border-radius: 0.35em; vertical-align: middle; margin-left: 0.5rem\">MISC</span>\n",
              "</mark>\n",
              " en \n",
              "<mark class=\"entity\" style=\"background: #7aecec; padding: 0.45em 0.6em; margin: 0 0.25em; line-height: 1; border-radius: 0.35em;\">\n",
              "    MEDELLIN #PetroElPatronDelMal\n",
              "    <span style=\"font-size: 0.8em; font-weight: bold; line-height: 1; border-radius: 0.35em; vertical-align: middle; margin-left: 0.5rem\">ORG</span>\n",
              "</mark>\n",
              " # \n",
              "<mark class=\"entity\" style=\"background: #ddd; padding: 0.45em 0.6em; margin: 0 0.25em; line-height: 1; border-radius: 0.35em;\">\n",
              "    FedericoEsColombia\n",
              "    <span style=\"font-size: 0.8em; font-weight: bold; line-height: 1; border-radius: 0.35em; vertical-align: middle; margin-left: 0.5rem\">MISC</span>\n",
              "</mark>\n",
              " # \n",
              "<mark class=\"entity\" style=\"background: #ddd; padding: 0.45em 0.6em; margin: 0 0.25em; line-height: 1; border-radius: 0.35em;\">\n",
              "    NosUnimosONosJodemos\n",
              "    <span style=\"font-size: 0.8em; font-weight: bold; line-height: 1; border-radius: 0.35em; vertical-align: middle; margin-left: 0.5rem\">MISC</span>\n",
              "</mark>\n",
              " </div></span>"
            ]
          },
          "metadata": {}
        },
        {
          "output_type": "stream",
          "name": "stderr",
          "text": [
            "/usr/local/lib/python3.11/dist-packages/spacy/displacy/__init__.py:213: UserWarning: [W006] No entities to visualize found in Doc object. If this is surprising to you, make sure the Doc was processed using a model that supports named entity recognition, and check the `doc.ents` property manually if necessary.\n",
            "  warnings.warn(Warnings.W006)\n"
          ]
        },
        {
          "output_type": "display_data",
          "data": {
            "text/plain": [
              "<IPython.core.display.HTML object>"
            ],
            "text/html": [
              "<span class=\"tex2jax_ignore\"><div class=\"entities\" style=\"line-height: 2.5; direction: ltr\"># </div></span>"
            ]
          },
          "metadata": {}
        },
        {
          "output_type": "display_data",
          "data": {
            "text/plain": [
              "<IPython.core.display.HTML object>"
            ],
            "text/html": [
              "<span class=\"tex2jax_ignore\"><div class=\"entities\" style=\"line-height: 2.5; direction: ltr\">ElMejorCandidatoEs el que piensa en los más de 50 millones de colombianos , especialmente los excluidos , marginados , que han tenido pocas oportunidades y que sus propuestas conviertan a \n",
              "<mark class=\"entity\" style=\"background: #ff9561; padding: 0.45em 0.6em; margin: 0 0.25em; line-height: 1; border-radius: 0.35em;\">\n",
              "    Colombia\n",
              "    <span style=\"font-size: 0.8em; font-weight: bold; line-height: 1; border-radius: 0.35em; vertical-align: middle; margin-left: 0.5rem\">LOC</span>\n",
              "</mark>\n",
              " en sostenible . </div></span>"
            ]
          },
          "metadata": {}
        },
        {
          "output_type": "display_data",
          "data": {
            "text/plain": [
              "<IPython.core.display.HTML object>"
            ],
            "text/html": [
              "<span class=\"tex2jax_ignore\"><div class=\"entities\" style=\"line-height: 2.5; direction: ltr\"># </div></span>"
            ]
          },
          "metadata": {}
        },
        {
          "output_type": "display_data",
          "data": {
            "text/plain": [
              "<IPython.core.display.HTML object>"
            ],
            "text/html": [
              "<span class=\"tex2jax_ignore\"><div class=\"entities\" style=\"line-height: 2.5; direction: ltr\">EsElMomentoDe pensar en el futuro de nuestros hijos y salir a votar de forma responsable el domingo . </div></span>"
            ]
          },
          "metadata": {}
        },
        {
          "output_type": "display_data",
          "data": {
            "text/plain": [
              "<IPython.core.display.HTML object>"
            ],
            "text/html": [
              "<span class=\"tex2jax_ignore\"><div class=\"entities\" style=\"line-height: 2.5; direction: ltr\"># \n",
              "<mark class=\"entity\" style=\"background: #ddd; padding: 0.45em 0.6em; margin: 0 0.25em; line-height: 1; border-radius: 0.35em;\">\n",
              "    GipsyBogota\n",
              "    <span style=\"font-size: 0.8em; font-weight: bold; line-height: 1; border-radius: 0.35em; vertical-align: middle; margin-left: 0.5rem\">MISC</span>\n",
              "</mark>\n",
              " </div></span>"
            ]
          },
          "metadata": {}
        },
        {
          "output_type": "display_data",
          "data": {
            "text/plain": [
              "<IPython.core.display.HTML object>"
            ],
            "text/html": [
              "<span class=\"tex2jax_ignore\"><div class=\"entities\" style=\"line-height: 2.5; direction: ltr\">@NoticiasCaracol Qué no se note el sesgo de \n",
              "<mark class=\"entity\" style=\"background: #ddd; padding: 0.45em 0.6em; margin: 0 0.25em; line-height: 1; border-radius: 0.35em;\">\n",
              "    @NestorMoralesC\n",
              "    <span style=\"font-size: 0.8em; font-weight: bold; line-height: 1; border-radius: 0.35em; vertical-align: middle; margin-left: 0.5rem\">PER</span>\n",
              "</mark>\n",
              " , no sorprende en un &quot; periodista &quot; pro \n",
              "<mark class=\"entity\" style=\"background: #ddd; padding: 0.45em 0.6em; margin: 0 0.25em; line-height: 1; border-radius: 0.35em;\">\n",
              "    Duque-Fico\n",
              "    <span style=\"font-size: 0.8em; font-weight: bold; line-height: 1; border-radius: 0.35em; vertical-align: middle; margin-left: 0.5rem\">PER</span>\n",
              "</mark>\n",
              " . </div></span>"
            ]
          },
          "metadata": {}
        },
        {
          "output_type": "display_data",
          "data": {
            "text/plain": [
              "<IPython.core.display.HTML object>"
            ],
            "text/html": [
              "<span class=\"tex2jax_ignore\"><div class=\"entities\" style=\"line-height: 2.5; direction: ltr\"># \n",
              "<mark class=\"entity\" style=\"background: #ddd; padding: 0.45em 0.6em; margin: 0 0.25em; line-height: 1; border-radius: 0.35em;\">\n",
              "    DebateFinal\n",
              "    <span style=\"font-size: 0.8em; font-weight: bold; line-height: 1; border-radius: 0.35em; vertical-align: middle; margin-left: 0.5rem\">MISC</span>\n",
              "</mark>\n",
              " </div></span>"
            ]
          },
          "metadata": {}
        }
      ],
      "source": [
        "### Una prueba que vi en los cuadernos de colab de la gente de Stanford\n",
        "from stanza.utils.visualization.ner_visualization import visualize_strings\n",
        "\n",
        "es_strings = [tweets[1],\n",
        "              tweets[200],\n",
        "              tweets[250],\n",
        "              tweets[300]]\n",
        "\n",
        "\n",
        "visualize_strings(es_strings, \"es\")"
      ]
    },
    {
      "cell_type": "markdown",
      "metadata": {
        "id": "82El1dW4x2er"
      },
      "source": [
        "## 🔹 Comenten brevemente los resultados y dificultades encontradas, especialmente en el caso de entidades ambiguas o poco frecuentes.\n",
        "\n",
        "* El clasificador tiene algunos problemas en la identificación de las entidades nombradas con los caracteres especial del @. Aunque en algunos lo hace de manera correcta, en algunos casos no reconoce la entidad.\n",
        "\n",
        "por ejemplo en el tweet:\n",
        "\n",
        "@NoticiasCaracol Qué no se note el sesgo de @NestorMoralesC PER , no sorprende en un \" periodista \" pro Duque-Fico PER . #DebateFinal MISC\n",
        "\n",
        "Reconoce la entidad @NestorMoralesC PER pero no reconoce @NoticiasCaracol.\n",
        "\n",
        "* Por otro lado, también se presenta problemas con la etiqueta numeral #, por ejemplo en el primer tweet:\n",
        "\n",
        "@tobonsanin Otra vez este viejo estúpido politiquero , estamos es llevados cuando creemos viejo decrépito de estos va hacer la solución para Colombia LOC , ayudando a escoger corruptos como #quintero MISC en MEDELLIN #PetroElPatronDelMal ORG # FedericoEsColombia MISC # NosUnimosONosJodemos MISC\n",
        "\n",
        "la entidad no es reconocida en todos los casos con la etiqueta #.\n",
        "\n"
      ]
    },
    {
      "cell_type": "markdown",
      "metadata": {
        "id": "LPlNB4aCycil"
      },
      "source": [
        "---\n",
        "# 1️⃣1️⃣ Evaluacion básica de NER. Seleccionen manualmente un subconjunto de sus documentos y comparen las entidades reconocidas por su sistema con las que realmente aparecen en el texto (gold standard o revision manual). Calculen metricas como precision, exhaustividad (recall) y F1.\n",
        "---"
      ]
    },
    {
      "cell_type": "code",
      "execution_count": 435,
      "metadata": {
        "colab": {
          "base_uri": "https://localhost:8080/",
          "height": 1000
        },
        "id": "v25DFNLqMp7I",
        "outputId": "2fdb105c-ac00-4fa6-ac4d-48d21c465351"
      },
      "outputs": [
        {
          "output_type": "display_data",
          "data": {
            "text/plain": [
              "<IPython.core.display.HTML object>"
            ],
            "text/html": [
              "<span class=\"tex2jax_ignore\"><div class=\"entities\" style=\"line-height: 2.5; direction: ltr\"># </div></span>"
            ]
          },
          "metadata": {}
        },
        {
          "output_type": "display_data",
          "data": {
            "text/plain": [
              "<IPython.core.display.HTML object>"
            ],
            "text/html": [
              "<span class=\"tex2jax_ignore\"><div class=\"entities\" style=\"line-height: 2.5; direction: ltr\">NosUnimosONosJodemos #NosUnimosONosJodemos Vamos juntos por el cambio , mire el miedo que le tienen . </div></span>"
            ]
          },
          "metadata": {}
        },
        {
          "output_type": "display_data",
          "data": {
            "text/plain": [
              "<IPython.core.display.HTML object>"
            ],
            "text/html": [
              "<span class=\"tex2jax_ignore\"><div class=\"entities\" style=\"line-height: 2.5; direction: ltr\">@petrogustavo Mi presidente </div></span>"
            ]
          },
          "metadata": {}
        },
        {
          "output_type": "display_data",
          "data": {
            "text/plain": [
              "<IPython.core.display.HTML object>"
            ],
            "text/html": [
              "<span class=\"tex2jax_ignore\"><div class=\"entities\" style=\"line-height: 2.5; direction: ltr\">@tobonsanin Otra vez este viejo estúpido politiquero , estamos es llevados cuando creemos viejo decrépito de estos va hacer la solución para \n",
              "<mark class=\"entity\" style=\"background: #ff9561; padding: 0.45em 0.6em; margin: 0 0.25em; line-height: 1; border-radius: 0.35em;\">\n",
              "    Colombia\n",
              "    <span style=\"font-size: 0.8em; font-weight: bold; line-height: 1; border-radius: 0.35em; vertical-align: middle; margin-left: 0.5rem\">LOC</span>\n",
              "</mark>\n",
              " , ayudando a escoger corruptos como \n",
              "<mark class=\"entity\" style=\"background: #ddd; padding: 0.45em 0.6em; margin: 0 0.25em; line-height: 1; border-radius: 0.35em;\">\n",
              "    #quintero\n",
              "    <span style=\"font-size: 0.8em; font-weight: bold; line-height: 1; border-radius: 0.35em; vertical-align: middle; margin-left: 0.5rem\">MISC</span>\n",
              "</mark>\n",
              " en \n",
              "<mark class=\"entity\" style=\"background: #7aecec; padding: 0.45em 0.6em; margin: 0 0.25em; line-height: 1; border-radius: 0.35em;\">\n",
              "    MEDELLIN #PetroElPatronDelMal\n",
              "    <span style=\"font-size: 0.8em; font-weight: bold; line-height: 1; border-radius: 0.35em; vertical-align: middle; margin-left: 0.5rem\">ORG</span>\n",
              "</mark>\n",
              " # \n",
              "<mark class=\"entity\" style=\"background: #ddd; padding: 0.45em 0.6em; margin: 0 0.25em; line-height: 1; border-radius: 0.35em;\">\n",
              "    FedericoEsColombia\n",
              "    <span style=\"font-size: 0.8em; font-weight: bold; line-height: 1; border-radius: 0.35em; vertical-align: middle; margin-left: 0.5rem\">MISC</span>\n",
              "</mark>\n",
              " # \n",
              "<mark class=\"entity\" style=\"background: #ddd; padding: 0.45em 0.6em; margin: 0 0.25em; line-height: 1; border-radius: 0.35em;\">\n",
              "    NosUnimosONosJodemos\n",
              "    <span style=\"font-size: 0.8em; font-weight: bold; line-height: 1; border-radius: 0.35em; vertical-align: middle; margin-left: 0.5rem\">MISC</span>\n",
              "</mark>\n",
              " </div></span>"
            ]
          },
          "metadata": {}
        },
        {
          "output_type": "display_data",
          "data": {
            "text/plain": [
              "<IPython.core.display.HTML object>"
            ],
            "text/html": [
              "<span class=\"tex2jax_ignore\"><div class=\"entities\" style=\"line-height: 2.5; direction: ltr\">Sin importar encuestas como en el plebiscito juntos por \n",
              "<mark class=\"entity\" style=\"background: #ff9561; padding: 0.45em 0.6em; margin: 0 0.25em; line-height: 1; border-radius: 0.35em;\">\n",
              "    Colombia\n",
              "    <span style=\"font-size: 0.8em; font-weight: bold; line-height: 1; border-radius: 0.35em; vertical-align: middle; margin-left: 0.5rem\">LOC</span>\n",
              "</mark>\n",
              " el 29 nos vemos # \n",
              "<mark class=\"entity\" style=\"background: #ddd; padding: 0.45em 0.6em; margin: 0 0.25em; line-height: 1; border-radius: 0.35em;\">\n",
              "    FedericoImparable\n",
              "    <span style=\"font-size: 0.8em; font-weight: bold; line-height: 1; border-radius: 0.35em; vertical-align: middle; margin-left: 0.5rem\">MISC</span>\n",
              "</mark>\n",
              " # \n",
              "<mark class=\"entity\" style=\"background: #ddd; padding: 0.45em 0.6em; margin: 0 0.25em; line-height: 1; border-radius: 0.35em;\">\n",
              "    NosUnimosONosJodemos\n",
              "    <span style=\"font-size: 0.8em; font-weight: bold; line-height: 1; border-radius: 0.35em; vertical-align: middle; margin-left: 0.5rem\">MISC</span>\n",
              "</mark>\n",
              " # \n",
              "<mark class=\"entity\" style=\"background: #ddd; padding: 0.45em 0.6em; margin: 0 0.25em; line-height: 1; border-radius: 0.35em;\">\n",
              "    FedericoEsColombia\n",
              "    <span style=\"font-size: 0.8em; font-weight: bold; line-height: 1; border-radius: 0.35em; vertical-align: middle; margin-left: 0.5rem\">MISC</span>\n",
              "</mark>\n",
              " </div></span>"
            ]
          },
          "metadata": {}
        },
        {
          "output_type": "display_data",
          "data": {
            "text/plain": [
              "<IPython.core.display.HTML object>"
            ],
            "text/html": [
              "<span class=\"tex2jax_ignore\"><div class=\"entities\" style=\"line-height: 2.5; direction: ltr\">\n",
              "<mark class=\"entity\" style=\"background: #7aecec; padding: 0.45em 0.6em; margin: 0 0.25em; line-height: 1; border-radius: 0.35em;\">\n",
              "    @FranciaMarquezM\n",
              "    <span style=\"font-size: 0.8em; font-weight: bold; line-height: 1; border-radius: 0.35em; vertical-align: middle; margin-left: 0.5rem\">ORG</span>\n",
              "</mark>\n",
              " Ahora q es a ud si le parece grave ? </div></span>"
            ]
          },
          "metadata": {}
        },
        {
          "output_type": "display_data",
          "data": {
            "text/plain": [
              "<IPython.core.display.HTML object>"
            ],
            "text/html": [
              "<span class=\"tex2jax_ignore\"><div class=\"entities\" style=\"line-height: 2.5; direction: ltr\">Y cuando sus borregos de la primera linea lo hacian contra nuestros policias q ? \n",
              "<mark class=\"entity\" style=\"background: #ddd; padding: 0.45em 0.6em; margin: 0 0.25em; line-height: 1; border-radius: 0.35em;\">\n",
              "    Chevere\n",
              "    <span style=\"font-size: 0.8em; font-weight: bold; line-height: 1; border-radius: 0.35em; vertical-align: middle; margin-left: 0.5rem\">PER</span>\n",
              "</mark>\n",
              " cuando es para otros pero grave cuando es hacia mi ? 🤥 # \n",
              "<mark class=\"entity\" style=\"background: #ddd; padding: 0.45em 0.6em; margin: 0 0.25em; line-height: 1; border-radius: 0.35em;\">\n",
              "    PetroElPatronDelMal\n",
              "    <span style=\"font-size: 0.8em; font-weight: bold; line-height: 1; border-radius: 0.35em; vertical-align: middle; margin-left: 0.5rem\">PER</span>\n",
              "</mark>\n",
              " # NosUnimosONosJodemos </div></span>"
            ]
          },
          "metadata": {}
        },
        {
          "output_type": "display_data",
          "data": {
            "text/plain": [
              "<IPython.core.display.HTML object>"
            ],
            "text/html": [
              "<span class=\"tex2jax_ignore\"><div class=\"entities\" style=\"line-height: 2.5; direction: ltr\">Este es el Presidente que nos merecemos , recorrió el país entero , escuchó , expresó cariño y nos contagió la esperanza # \n",
              "<mark class=\"entity\" style=\"background: #ddd; padding: 0.45em 0.6em; margin: 0 0.25em; line-height: 1; border-radius: 0.35em;\">\n",
              "    FedericoEsColombia\n",
              "    <span style=\"font-size: 0.8em; font-weight: bold; line-height: 1; border-radius: 0.35em; vertical-align: middle; margin-left: 0.5rem\">MISC</span>\n",
              "</mark>\n",
              " </div></span>"
            ]
          },
          "metadata": {}
        },
        {
          "output_type": "display_data",
          "data": {
            "text/plain": [
              "<IPython.core.display.HTML object>"
            ],
            "text/html": [
              "<span class=\"tex2jax_ignore\"><div class=\"entities\" style=\"line-height: 2.5; direction: ltr\">Por mi familia , por la democracia y las libertades . </div></span>"
            ]
          },
          "metadata": {}
        },
        {
          "output_type": "display_data",
          "data": {
            "text/plain": [
              "<IPython.core.display.HTML object>"
            ],
            "text/html": [
              "<span class=\"tex2jax_ignore\"><div class=\"entities\" style=\"line-height: 2.5; direction: ltr\"># \n",
              "<mark class=\"entity\" style=\"background: #ddd; padding: 0.45em 0.6em; margin: 0 0.25em; line-height: 1; border-radius: 0.35em;\">\n",
              "    FedericoEsColombia\n",
              "    <span style=\"font-size: 0.8em; font-weight: bold; line-height: 1; border-radius: 0.35em; vertical-align: middle; margin-left: 0.5rem\">PER</span>\n",
              "</mark>\n",
              " </div></span>"
            ]
          },
          "metadata": {}
        },
        {
          "output_type": "display_data",
          "data": {
            "text/plain": [
              "<IPython.core.display.HTML object>"
            ],
            "text/html": [
              "<span class=\"tex2jax_ignore\"><div class=\"entities\" style=\"line-height: 2.5; direction: ltr\">Por el bien de \n",
              "<mark class=\"entity\" style=\"background: #ff9561; padding: 0.45em 0.6em; margin: 0 0.25em; line-height: 1; border-radius: 0.35em;\">\n",
              "    Colombia\n",
              "    <span style=\"font-size: 0.8em; font-weight: bold; line-height: 1; border-radius: 0.35em; vertical-align: middle; margin-left: 0.5rem\">LOC</span>\n",
              "</mark>\n",
              " # \n",
              "<mark class=\"entity\" style=\"background: #ddd; padding: 0.45em 0.6em; margin: 0 0.25em; line-height: 1; border-radius: 0.35em;\">\n",
              "    FedericoEsColombia\n",
              "    <span style=\"font-size: 0.8em; font-weight: bold; line-height: 1; border-radius: 0.35em; vertical-align: middle; margin-left: 0.5rem\">PER</span>\n",
              "</mark>\n",
              " </div></span>"
            ]
          },
          "metadata": {}
        },
        {
          "output_type": "display_data",
          "data": {
            "text/plain": [
              "<IPython.core.display.HTML object>"
            ],
            "text/html": [
              "<span class=\"tex2jax_ignore\"><div class=\"entities\" style=\"line-height: 2.5; direction: ltr\">\n",
              "<mark class=\"entity\" style=\"background: #7aecec; padding: 0.45em 0.6em; margin: 0 0.25em; line-height: 1; border-radius: 0.35em;\">\n",
              "    FICO\n",
              "    <span style=\"font-size: 0.8em; font-weight: bold; line-height: 1; border-radius: 0.35em; vertical-align: middle; margin-left: 0.5rem\">ORG</span>\n",
              "</mark>\n",
              " es desarrollo , \n",
              "<mark class=\"entity\" style=\"background: #ddd; padding: 0.45em 0.6em; margin: 0 0.25em; line-height: 1; border-radius: 0.35em;\">\n",
              "    FICO\n",
              "    <span style=\"font-size: 0.8em; font-weight: bold; line-height: 1; border-radius: 0.35em; vertical-align: middle; margin-left: 0.5rem\">MISC</span>\n",
              "</mark>\n",
              " es progreso # \n",
              "<mark class=\"entity\" style=\"background: #ddd; padding: 0.45em 0.6em; margin: 0 0.25em; line-height: 1; border-radius: 0.35em;\">\n",
              "    FedericoEsColombia\n",
              "    <span style=\"font-size: 0.8em; font-weight: bold; line-height: 1; border-radius: 0.35em; vertical-align: middle; margin-left: 0.5rem\">MISC</span>\n",
              "</mark>\n",
              " </div></span>"
            ]
          },
          "metadata": {}
        },
        {
          "output_type": "display_data",
          "data": {
            "text/plain": [
              "<IPython.core.display.HTML object>"
            ],
            "text/html": [
              "<span class=\"tex2jax_ignore\"><div class=\"entities\" style=\"line-height: 2.5; direction: ltr\">Parece que no hemos entendido que necesita mantener se vigente a base de mentiras # \n",
              "<mark class=\"entity\" style=\"background: #ddd; padding: 0.45em 0.6em; margin: 0 0.25em; line-height: 1; border-radius: 0.35em;\">\n",
              "    FedericoEsColombia\n",
              "    <span style=\"font-size: 0.8em; font-weight: bold; line-height: 1; border-radius: 0.35em; vertical-align: middle; margin-left: 0.5rem\">PER</span>\n",
              "</mark>\n",
              " </div></span>"
            ]
          },
          "metadata": {}
        },
        {
          "output_type": "display_data",
          "data": {
            "text/plain": [
              "<IPython.core.display.HTML object>"
            ],
            "text/html": [
              "<span class=\"tex2jax_ignore\"><div class=\"entities\" style=\"line-height: 2.5; direction: ltr\"># \n",
              "<mark class=\"entity\" style=\"background: #ddd; padding: 0.45em 0.6em; margin: 0 0.25em; line-height: 1; border-radius: 0.35em;\">\n",
              "    FedericoEsColombia\n",
              "    <span style=\"font-size: 0.8em; font-weight: bold; line-height: 1; border-radius: 0.35em; vertical-align: middle; margin-left: 0.5rem\">PER</span>\n",
              "</mark>\n",
              " # FedericoEsColombia El otro , el secuestrador , lo peor que podría pasar le a \n",
              "<mark class=\"entity\" style=\"background: #ff9561; padding: 0.45em 0.6em; margin: 0 0.25em; line-height: 1; border-radius: 0.35em;\">\n",
              "    Colombia\n",
              "    <span style=\"font-size: 0.8em; font-weight: bold; line-height: 1; border-radius: 0.35em; vertical-align: middle; margin-left: 0.5rem\">LOC</span>\n",
              "</mark>\n",
              " . </div></span>"
            ]
          },
          "metadata": {}
        },
        {
          "output_type": "display_data",
          "data": {
            "text/plain": [
              "<IPython.core.display.HTML object>"
            ],
            "text/html": [
              "<span class=\"tex2jax_ignore\"><div class=\"entities\" style=\"line-height: 2.5; direction: ltr\">Se imaginan a el secuestrador y a king kong representando a \n",
              "<mark class=\"entity\" style=\"background: #ff9561; padding: 0.45em 0.6em; margin: 0 0.25em; line-height: 1; border-radius: 0.35em;\">\n",
              "    Colombia\n",
              "    <span style=\"font-size: 0.8em; font-weight: bold; line-height: 1; border-radius: 0.35em; vertical-align: middle; margin-left: 0.5rem\">LOC</span>\n",
              "</mark>\n",
              " ante el mundo . </div></span>"
            ]
          },
          "metadata": {}
        },
        {
          "output_type": "display_data",
          "data": {
            "text/plain": [
              "<IPython.core.display.HTML object>"
            ],
            "text/html": [
              "<span class=\"tex2jax_ignore\"><div class=\"entities\" style=\"line-height: 2.5; direction: ltr\">Mi voto en primera es por \n",
              "<mark class=\"entity\" style=\"background: #ddd; padding: 0.45em 0.6em; margin: 0 0.25em; line-height: 1; border-radius: 0.35em;\">\n",
              "    Federico Gutiérrez\n",
              "    <span style=\"font-size: 0.8em; font-weight: bold; line-height: 1; border-radius: 0.35em; vertical-align: middle; margin-left: 0.5rem\">PER</span>\n",
              "</mark>\n",
              " # \n",
              "<mark class=\"entity\" style=\"background: #ddd; padding: 0.45em 0.6em; margin: 0 0.25em; line-height: 1; border-radius: 0.35em;\">\n",
              "    FedericoEsColombia\n",
              "    <span style=\"font-size: 0.8em; font-weight: bold; line-height: 1; border-radius: 0.35em; vertical-align: middle; margin-left: 0.5rem\">PER</span>\n",
              "</mark>\n",
              " # FicoPresidente2022 . </div></span>"
            ]
          },
          "metadata": {}
        },
        {
          "output_type": "display_data",
          "data": {
            "text/plain": [
              "<IPython.core.display.HTML object>"
            ],
            "text/html": [
              "<span class=\"tex2jax_ignore\"><div class=\"entities\" style=\"line-height: 2.5; direction: ltr\">\n",
              "<mark class=\"entity\" style=\"background: #ddd; padding: 0.45em 0.6em; margin: 0 0.25em; line-height: 1; border-radius: 0.35em;\">\n",
              "    Federico\n",
              "    <span style=\"font-size: 0.8em; font-weight: bold; line-height: 1; border-radius: 0.35em; vertical-align: middle; margin-left: 0.5rem\">PER</span>\n",
              "</mark>\n",
              " es el presidente que \n",
              "<mark class=\"entity\" style=\"background: #7aecec; padding: 0.45em 0.6em; margin: 0 0.25em; line-height: 1; border-radius: 0.35em;\">\n",
              "    Colombia\n",
              "    <span style=\"font-size: 0.8em; font-weight: bold; line-height: 1; border-radius: 0.35em; vertical-align: middle; margin-left: 0.5rem\">ORG</span>\n",
              "</mark>\n",
              " necesita😍🙏 # \n",
              "<mark class=\"entity\" style=\"background: #ddd; padding: 0.45em 0.6em; margin: 0 0.25em; line-height: 1; border-radius: 0.35em;\">\n",
              "    FedericoEsColombia\n",
              "    <span style=\"font-size: 0.8em; font-weight: bold; line-height: 1; border-radius: 0.35em; vertical-align: middle; margin-left: 0.5rem\">PER</span>\n",
              "</mark>\n",
              " </div></span>"
            ]
          },
          "metadata": {}
        },
        {
          "output_type": "display_data",
          "data": {
            "text/plain": [
              "<IPython.core.display.HTML object>"
            ],
            "text/html": [
              "<span class=\"tex2jax_ignore\"><div class=\"entities\" style=\"line-height: 2.5; direction: ltr\">A 7 días de las elecciones presidenciales en \n",
              "<mark class=\"entity\" style=\"background: #ff9561; padding: 0.45em 0.6em; margin: 0 0.25em; line-height: 1; border-radius: 0.35em;\">\n",
              "    Colombia\n",
              "    <span style=\"font-size: 0.8em; font-weight: bold; line-height: 1; border-radius: 0.35em; vertical-align: middle; margin-left: 0.5rem\">LOC</span>\n",
              "</mark>\n",
              " , \n",
              "<mark class=\"entity\" style=\"background: #ddd; padding: 0.45em 0.6em; margin: 0 0.25em; line-height: 1; border-radius: 0.35em;\">\n",
              "    Gustavo Petro\n",
              "    <span style=\"font-size: 0.8em; font-weight: bold; line-height: 1; border-radius: 0.35em; vertical-align: middle; margin-left: 0.5rem\">PER</span>\n",
              "</mark>\n",
              " está asustado y \n",
              "<mark class=\"entity\" style=\"background: #ddd; padding: 0.45em 0.6em; margin: 0 0.25em; line-height: 1; border-radius: 0.35em;\">\n",
              "    Federico Gutiérrez\n",
              "    <span style=\"font-size: 0.8em; font-weight: bold; line-height: 1; border-radius: 0.35em; vertical-align: middle; margin-left: 0.5rem\">PER</span>\n",
              "</mark>\n",
              " luce seguro # \n",
              "<mark class=\"entity\" style=\"background: #ddd; padding: 0.45em 0.6em; margin: 0 0.25em; line-height: 1; border-radius: 0.35em;\">\n",
              "    FedericoEsColombia\n",
              "    <span style=\"font-size: 0.8em; font-weight: bold; line-height: 1; border-radius: 0.35em; vertical-align: middle; margin-left: 0.5rem\">MISC</span>\n",
              "</mark>\n",
              " </div></span>"
            ]
          },
          "metadata": {}
        },
        {
          "output_type": "display_data",
          "data": {
            "text/plain": [
              "<IPython.core.display.HTML object>"
            ],
            "text/html": [
              "<span class=\"tex2jax_ignore\"><div class=\"entities\" style=\"line-height: 2.5; direction: ltr\">Cuente con los votos de toda mi familia aquí en \n",
              "<mark class=\"entity\" style=\"background: #ff9561; padding: 0.45em 0.6em; margin: 0 0.25em; line-height: 1; border-radius: 0.35em;\">\n",
              "    Manrique Medellín\n",
              "    <span style=\"font-size: 0.8em; font-weight: bold; line-height: 1; border-radius: 0.35em; vertical-align: middle; margin-left: 0.5rem\">LOC</span>\n",
              "</mark>\n",
              " A.#FedericoEsColombia </div></span>"
            ]
          },
          "metadata": {}
        },
        {
          "output_type": "display_data",
          "data": {
            "text/plain": [
              "<IPython.core.display.HTML object>"
            ],
            "text/html": [
              "<span class=\"tex2jax_ignore\"><div class=\"entities\" style=\"line-height: 2.5; direction: ltr\"># \n",
              "<mark class=\"entity\" style=\"background: #ddd; padding: 0.45em 0.6em; margin: 0 0.25em; line-height: 1; border-radius: 0.35em;\">\n",
              "    FedericoEsColombia Ganaremos\n",
              "    <span style=\"font-size: 0.8em; font-weight: bold; line-height: 1; border-radius: 0.35em; vertical-align: middle; margin-left: 0.5rem\">MISC</span>\n",
              "</mark>\n",
              " y uniremos a \n",
              "<mark class=\"entity\" style=\"background: #ff9561; padding: 0.45em 0.6em; margin: 0 0.25em; line-height: 1; border-radius: 0.35em;\">\n",
              "    Colombia\n",
              "    <span style=\"font-size: 0.8em; font-weight: bold; line-height: 1; border-radius: 0.35em; vertical-align: middle; margin-left: 0.5rem\">LOC</span>\n",
              "</mark>\n",
              " . </div></span>"
            ]
          },
          "metadata": {}
        },
        {
          "output_type": "display_data",
          "data": {
            "text/plain": [
              "<IPython.core.display.HTML object>"
            ],
            "text/html": [
              "<span class=\"tex2jax_ignore\"><div class=\"entities\" style=\"line-height: 2.5; direction: ltr\">Tu voto , el mío , el d todos es importante y decisivo . </div></span>"
            ]
          },
          "metadata": {}
        },
        {
          "output_type": "display_data",
          "data": {
            "text/plain": [
              "<IPython.core.display.HTML object>"
            ],
            "text/html": [
              "<span class=\"tex2jax_ignore\"><div class=\"entities\" style=\"line-height: 2.5; direction: ltr\">Defendamos nuestra \n",
              "<mark class=\"entity\" style=\"background: #ddd; padding: 0.45em 0.6em; margin: 0 0.25em; line-height: 1; border-radius: 0.35em;\">\n",
              "    Democracia\n",
              "    <span style=\"font-size: 0.8em; font-weight: bold; line-height: 1; border-radius: 0.35em; vertical-align: middle; margin-left: 0.5rem\">MISC</span>\n",
              "</mark>\n",
              " , nuestras libertades , no podemos caer en un abismo sin salida q nos empobrece mucho + . </div></span>"
            ]
          },
          "metadata": {}
        },
        {
          "output_type": "display_data",
          "data": {
            "text/plain": [
              "<IPython.core.display.HTML object>"
            ],
            "text/html": [
              "<span class=\"tex2jax_ignore\"><div class=\"entities\" style=\"line-height: 2.5; direction: ltr\">Votemos bien , votemos \n",
              "<mark class=\"entity\" style=\"background: #7aecec; padding: 0.45em 0.6em; margin: 0 0.25em; line-height: 1; border-radius: 0.35em;\">\n",
              "    FICO\n",
              "    <span style=\"font-size: 0.8em; font-weight: bold; line-height: 1; border-radius: 0.35em; vertical-align: middle; margin-left: 0.5rem\">ORG</span>\n",
              "</mark>\n",
              " . </div></span>"
            ]
          },
          "metadata": {}
        },
        {
          "output_type": "display_data",
          "data": {
            "text/plain": [
              "<IPython.core.display.HTML object>"
            ],
            "text/html": [
              "<span class=\"tex2jax_ignore\"><div class=\"entities\" style=\"line-height: 2.5; direction: ltr\"># FicoPresidente2022 </div></span>"
            ]
          },
          "metadata": {}
        },
        {
          "output_type": "display_data",
          "data": {
            "text/plain": [
              "<IPython.core.display.HTML object>"
            ],
            "text/html": [
              "<span class=\"tex2jax_ignore\"><div class=\"entities\" style=\"line-height: 2.5; direction: ltr\">@DanielSamperO #LoPeorDeEstasElecciones La falta de ética de periodistas y firmas encuestadoras que manipularon a lo largo de la misma la opinión pública . </div></span>"
            ]
          },
          "metadata": {}
        },
        {
          "output_type": "display_data",
          "data": {
            "text/plain": [
              "<IPython.core.display.HTML object>"
            ],
            "text/html": [
              "<span class=\"tex2jax_ignore\"><div class=\"entities\" style=\"line-height: 2.5; direction: ltr\">El tercer poder es la \n",
              "<mark class=\"entity\" style=\"background: #ddd; padding: 0.45em 0.6em; margin: 0 0.25em; line-height: 1; border-radius: 0.35em;\">\n",
              "    Periodictadura\n",
              "    <span style=\"font-size: 0.8em; font-weight: bold; line-height: 1; border-radius: 0.35em; vertical-align: middle; margin-left: 0.5rem\">MISC</span>\n",
              "</mark>\n",
              " . </div></span>"
            ]
          },
          "metadata": {}
        },
        {
          "output_type": "display_data",
          "data": {
            "text/plain": [
              "<IPython.core.display.HTML object>"
            ],
            "text/html": [
              "<span class=\"tex2jax_ignore\"><div class=\"entities\" style=\"line-height: 2.5; direction: ltr\">Lo peor además son los extremos políticos disfrazados de ideologías por *coger se el poder . </div></span>"
            ]
          },
          "metadata": {}
        },
        {
          "output_type": "display_data",
          "data": {
            "text/plain": [
              "<IPython.core.display.HTML object>"
            ],
            "text/html": [
              "<span class=\"tex2jax_ignore\"><div class=\"entities\" style=\"line-height: 2.5; direction: ltr\"># LoPeorDeEstasElecciones el kakas como palo e gallinero asustado por q le suspendan a el registrador comprado y la rancia asustada por los láser q ellos mismos usan en las protestas , todas las semanas se inventan un golpe de estado payasos saben q no van a ganar # \n",
              "<mark class=\"entity\" style=\"background: #ddd; padding: 0.45em 0.6em; margin: 0 0.25em; line-height: 1; border-radius: 0.35em;\">\n",
              "    PetroEsUnPeligro\n",
              "    <span style=\"font-size: 0.8em; font-weight: bold; line-height: 1; border-radius: 0.35em; vertical-align: middle; margin-left: 0.5rem\">MISC</span>\n",
              "</mark>\n",
              " </div></span>"
            ]
          },
          "metadata": {}
        },
        {
          "output_type": "display_data",
          "data": {
            "text/plain": [
              "<IPython.core.display.HTML object>"
            ],
            "text/html": [
              "<span class=\"tex2jax_ignore\"><div class=\"entities\" style=\"line-height: 2.5; direction: ltr\"># </div></span>"
            ]
          },
          "metadata": {}
        },
        {
          "output_type": "display_data",
          "data": {
            "text/plain": [
              "<IPython.core.display.HTML object>"
            ],
            "text/html": [
              "<span class=\"tex2jax_ignore\"><div class=\"entities\" style=\"line-height: 2.5; direction: ltr\">\n",
              "<mark class=\"entity\" style=\"background: #ddd; padding: 0.45em 0.6em; margin: 0 0.25em; line-height: 1; border-radius: 0.35em;\">\n",
              "    LoPeorDeEstasElecciones “ Cada colombiano es un país enemigo ”\n",
              "    <span style=\"font-size: 0.8em; font-weight: bold; line-height: 1; border-radius: 0.35em; vertical-align: middle; margin-left: 0.5rem\">MISC</span>\n",
              "</mark>\n",
              " : \n",
              "<mark class=\"entity\" style=\"background: #ddd; padding: 0.45em 0.6em; margin: 0 0.25em; line-height: 1; border-radius: 0.35em;\">\n",
              "    Gabriel García Márquez\n",
              "    <span style=\"font-size: 0.8em; font-weight: bold; line-height: 1; border-radius: 0.35em; vertical-align: middle; margin-left: 0.5rem\">PER</span>\n",
              "</mark>\n",
              " en \n",
              "<mark class=\"entity\" style=\"background: #ff9561; padding: 0.45em 0.6em; margin: 0 0.25em; line-height: 1; border-radius: 0.35em;\">\n",
              "    #ElGeneralEnSuLaberinto\n",
              "    <span style=\"font-size: 0.8em; font-weight: bold; line-height: 1; border-radius: 0.35em; vertical-align: middle; margin-left: 0.5rem\">LOC</span>\n",
              "</mark>\n",
              " </div></span>"
            ]
          },
          "metadata": {}
        },
        {
          "output_type": "display_data",
          "data": {
            "text/plain": [
              "<IPython.core.display.HTML object>"
            ],
            "text/html": [
              "<span class=\"tex2jax_ignore\"><div class=\"entities\" style=\"line-height: 2.5; direction: ltr\"># \n",
              "<mark class=\"entity\" style=\"background: #ddd; padding: 0.45em 0.6em; margin: 0 0.25em; line-height: 1; border-radius: 0.35em;\">\n",
              "    LoPeorDeEstasElecciones\n",
              "    <span style=\"font-size: 0.8em; font-weight: bold; line-height: 1; border-radius: 0.35em; vertical-align: middle; margin-left: 0.5rem\">MISC</span>\n",
              "</mark>\n",
              " es la división de la gente de este país esta gente y cosas ya que pasan </div></span>"
            ]
          },
          "metadata": {}
        },
        {
          "output_type": "display_data",
          "data": {
            "text/plain": [
              "<IPython.core.display.HTML object>"
            ],
            "text/html": [
              "<span class=\"tex2jax_ignore\"><div class=\"entities\" style=\"line-height: 2.5; direction: ltr\">#MiVotoEsPetroYFrancia por la paz de este país </div></span>"
            ]
          },
          "metadata": {}
        }
      ],
      "source": [
        "es_strings = [tweets[0],\n",
        "              tweets[1],\n",
        "              tweets[2],\n",
        "              tweets[3],\n",
        "              tweets[4],\n",
        "              tweets[5],\n",
        "              tweets[6],\n",
        "              tweets[7],\n",
        "              tweets[8],\n",
        "              tweets[9],\n",
        "              tweets[10],\n",
        "              tweets[11],\n",
        "              tweets[12],\n",
        "              tweets[13],\n",
        "              tweets[14],\n",
        "              tweets[15],\n",
        "              tweets[16],\n",
        "              tweets[17],\n",
        "              tweets[18],\n",
        "              tweets[19]]\n",
        "\n",
        "\n",
        "visualize_strings(es_strings, \"es\")"
      ]
    },
    {
      "cell_type": "markdown",
      "metadata": {
        "id": "X8JL255HNQce"
      },
      "source": [
        "## 🔹 Cálculo de métricas: Precisión, Recall y F1-score\n",
        "\n",
        "Dado los siguientes datos:\n",
        "\n",
        "- \\( TN = 329 \\) (Verdaderos Negativos)\n",
        "- \\( FP = 10 \\) (Falsos Positivos)\n",
        "- \\( TP = 41 \\) (Verdaderos Positivos)\n",
        "- \\( FN = 15 \\) (Falsos Negativos)\n",
        "\n",
        "#### **1. Precisión (Precision)**  \n",
        "La precisión se define como:\n",
        "\n",
        "$$\n",
        "Precision = \\frac{TP}{TP + FP}\n",
        "$$\n",
        "\n",
        "Sustituyendo los valores:\n",
        "\n",
        "$$\n",
        "Precision = \\frac{41}{41 + 10} = \\frac{41}{51} \\approx 0.80\n",
        "$$\n",
        "\n",
        "#### **2. Exhaustividad (Recall o Sensibilidad)**  \n",
        "El recall se define como:\n",
        "\n",
        "$$\n",
        "Recall = \\frac{TP}{TP + FN}\n",
        "$$\n",
        "\n",
        "Sustituyendo los valores:\n",
        "\n",
        "$$\n",
        "Recall = \\frac{41}{41 + 15} = \\frac{41}{56} \\approx 0.73\n",
        "$$\n",
        "\n",
        "#### **3. F1-score**  \n",
        "El F1-score se define como:\n",
        "\n",
        "$$\n",
        "F1 = 2 \\times \\frac{Precision \\times Recall}{Precision + Recall}\n",
        "$$\n",
        "\n",
        "Sustituyendo los valores calculados:\n",
        "\n",
        "$$\n",
        "F1 = 2 \\times \\frac{0.8039 \\times 0.7321}{0.8039 + 0.7321}\n",
        "$$\n",
        "\n",
        "$$\n",
        "F1 = 2 \\times \\frac{0.5883}{1.536} \\approx 2 \\times 0.3830 = 0.77\n",
        "$$\n",
        "\n",
        "#### **Resultados Finales:**\n",
        "- **Precisión**: \\( 0.80 \\) (80%)\n",
        "- **Recall**: \\( 0.73 \\) (73%)\n",
        "- **F1-score**: \\( 0.77 \\) (77%)\n",
        "\n",
        "\n"
      ]
    },
    {
      "cell_type": "markdown",
      "metadata": {
        "id": "fRP4pe8ptS_j"
      },
      "source": [
        "---\n",
        "# 1️⃣2️⃣ Agregar < s > y < /s > a cada frase\n",
        "---"
      ]
    },
    {
      "cell_type": "code",
      "execution_count": 436,
      "metadata": {
        "id": "etYTplk2taIa"
      },
      "outputs": [],
      "source": [
        "tweetsFrasesMarcas = dict()\n",
        "tweetsFrasesSinMarcas = dict()\n",
        "frasesSinMarcas = tweetsFrasesSinCaracteres\n",
        "frasesSinMarcas = frasesSinStopWords\n",
        "\n",
        "for i in range(len(frasesSinMarcas)):\n",
        "  frases = []\n",
        "  frases2 =[]\n",
        "  for j in range(len(frasesSinMarcas[i])):\n",
        "    frases.append(\"<s>\"+frasesSinMarcas[i][j]+\"</s>\")\n",
        "    frases2.append(frasesSinMarcas[i][j])\n",
        "  tweetsFrasesMarcas[i] =frases\n",
        "  tweetsFrasesSinMarcas[i] =frases2"
      ]
    },
    {
      "cell_type": "code",
      "execution_count": 437,
      "metadata": {
        "colab": {
          "base_uri": "https://localhost:8080/"
        },
        "id": "mWDMRYkgt_rn",
        "outputId": "332e53f3-eb3f-472d-c423-22f47f18231d"
      },
      "outputs": [
        {
          "output_type": "stream",
          "name": "stdout",
          "text": [
            "Frase tweet 0 ['<s>#nosunimosonosjodemos #nosunimosonosjodemos vamos juntos cambio mire miedo @petrogustavo presidente</s>']\n",
            "Frase tweet 1 ['<s>@tobonsanin vez viejo estúpido politiquero llevados creemos viejo decrépito va hacer solución colombia ayudando escoger corruptos #quintero medellin #petroelpatrondelmal #federicoescolombia #nosunimosonosjodemos</s>']\n",
            "Frase tweet 2 ['<s>importar encuestas plebiscito juntos colombia 29 vemos #federicoimparable #nosunimosonosjodemos #federicoescolombia</s>']\n",
            "Frase tweet 3 ['<s>@franciamarquezm ahora q ud si parece grave borregos primera linea hacian policias q chevere grave hacia Mentiroso #petroelpatrondelmal #nosunimosonosjodemos</s>']\n",
            "Frase tweet 4 ['<s>presidente merecemos recorrió país entero escuchó expresó cariño contagió esperanza #federicoescolombia</s>']\n",
            "Frase tweet 5 ['<s>familia democracia libertades #federicoescolombia</s>']\n",
            "Frase tweet 6 ['<s>bien colombia #federicoescolombia</s>']\n",
            "Frase tweet 7 ['<s>fico desarrollo fico progreso #federicoescolombia</s>']\n",
            "Frase tweet 8 ['<s>parece entendido necesita mantener vigente base mentiras #federicoescolombia</s>']\n",
            "Frase tweet 9 ['<s>#federicoescolombia #federicoescolombia secuestrador peor podría pasar colombia imaginan secuestrador king kong representando colombia mundo</s>']\n"
          ]
        }
      ],
      "source": [
        "for i in range(10):\n",
        "  print(\"Frase tweet\", i, tweetsFrasesMarcas[i])"
      ]
    },
    {
      "cell_type": "markdown",
      "metadata": {
        "id": "ILpQWIEq4vuf"
      },
      "source": [
        "## 🔹 Construccion de n-gramas"
      ]
    },
    {
      "cell_type": "code",
      "execution_count": 438,
      "metadata": {
        "id": "_AKgafFL4y1s"
      },
      "outputs": [],
      "source": [
        "from nltk import ngrams, FreqDist"
      ]
    },
    {
      "cell_type": "code",
      "execution_count": 439,
      "metadata": {
        "id": "LWDx9Mpn48Vq"
      },
      "outputs": [],
      "source": [
        "unigramas = []\n",
        "bigramas = []\n",
        "trigramas = []\n",
        "for i in range(len(tweetsFrasesSinMarcas)):\n",
        "  for j in range(len(tweetsFrasesSinMarcas[i])):\n",
        "    doc_stanza=nlp_stanza(tweetsFrasesSinMarcas[i][j])\n",
        "    tokens_stanza_Palabra = [word.text for sentence in doc_stanza.sentences for word in sentence.words]\n",
        "    #tokens = word_tokenize(tweetsFrasesMarcas[i][j], language=\"spanish\")  # Tokenización\n",
        "    unigramas_frase = tokens_stanza_Palabra  # Generar unigramas\n",
        "    bigramas_frase = list(ngrams(tokens_stanza_Palabra, 2))  # Generar bigramas\n",
        "    trigramas_frase = list(ngrams(tokens_stanza_Palabra, 3))  # Generar trigramas\n",
        "\n",
        "    for unigrama in unigramas_frase:\n",
        "      unigramas.append(unigrama)\n",
        "    for bigrama in bigramas_frase:\n",
        "      bigramas.append(bigrama)\n",
        "    for trigrama in trigramas_frase:\n",
        "      trigramas.append(trigrama)"
      ]
    },
    {
      "cell_type": "code",
      "execution_count": 440,
      "metadata": {
        "id": "hIVN7F0G9RZQ"
      },
      "outputs": [],
      "source": [
        "freq_unigramas = FreqDist(unigramas)\n",
        "freq_bigramas = FreqDist(bigramas)\n",
        "freq_trigramas = FreqDist(trigramas)"
      ]
    },
    {
      "cell_type": "code",
      "execution_count": 441,
      "metadata": {
        "colab": {
          "base_uri": "https://localhost:8080/"
        },
        "id": "x4K9xkFv-g2M",
        "outputId": "614a8467-c250-4f0a-8fb0-7cc237b17da9"
      },
      "outputs": [
        {
          "output_type": "stream",
          "name": "stdout",
          "text": [
            "Palabra              Frecuencia\n",
            "---------------------------------\n",
            "#nosunimosonosjodemos 5\n",
            "vamos                40\n",
            "juntos               3\n",
            "cambio               88\n",
            "mire                 2\n",
            "miedo                23\n",
            "@petrogustavo        91\n",
            "presidente           66\n",
            "@tobonsanin          1\n",
            "vez                  24\n"
          ]
        }
      ],
      "source": [
        "print(f\"{'Palabra':<20} {'Frecuencia'}\")\n",
        "print(\"-\"*33)\n",
        "for i, (uni) in enumerate(freq_unigramas.items()):\n",
        "    if i == 10:\n",
        "        break\n",
        "    print(f\"{uni[0]:<20} {uni[1]}\")"
      ]
    },
    {
      "cell_type": "code",
      "execution_count": 442,
      "metadata": {
        "colab": {
          "base_uri": "https://localhost:8080/"
        },
        "id": "_6J4mUGJ-mPp",
        "outputId": "51e093fe-4b87-495e-ce11-68526cf52083"
      },
      "outputs": [
        {
          "output_type": "stream",
          "name": "stdout",
          "text": [
            "Bigrama                        Frecuencia\n",
            "-------------------------------------------------------\n",
            "#nosunimosonosjodemos-#nosunimosonosjodemos 1         \n",
            "#nosunimosonosjodemos-vamos    1         \n",
            "vamos-juntos                   2         \n",
            "juntos-cambio                  1         \n",
            "cambio-mire                    1         \n",
            "mire-miedo                     1         \n",
            "miedo-@petrogustavo            1         \n",
            "@petrogustavo-presidente       4         \n",
            "@tobonsanin-vez                1         \n"
          ]
        }
      ],
      "source": [
        "print(f\"{'Bigrama':<30} {'Frecuencia':<10}\")\n",
        "print(\"-\" * 55)  # Línea separadora\n",
        "\n",
        "# Iterar con formato de columnas\n",
        "for i, (bigram, count) in enumerate(freq_bigramas.items(), start=1):\n",
        "  if (i == 10):\n",
        "    break\n",
        "  bigram_str = \"-\".join(bigram)\n",
        "  # Formato con anchos fijos: <12 (izquierda), <25 (izquierda), <10 (izquierda)\n",
        "  print(f\"{bigram_str:<30} {count:<10}\")"
      ]
    },
    {
      "cell_type": "code",
      "execution_count": 443,
      "metadata": {
        "colab": {
          "base_uri": "https://localhost:8080/"
        },
        "id": "H8O6_HeL7nA8",
        "outputId": "5047df6b-43bb-4dee-863b-c699c6d53e32"
      },
      "outputs": [
        {
          "output_type": "stream",
          "name": "stdout",
          "text": [
            "Trigrama                                                Frecuencia\n",
            "-----------------------------------------------------------------\n",
            "#nosunimosonosjodemos--#nosunimosonosjodemos--vamos 1         \n",
            "#nosunimosonosjodemos--vamos--juntos 1         \n",
            "vamos--juntos--cambio          1         \n",
            "juntos--cambio--mire           1         \n",
            "cambio--mire--miedo            1         \n",
            "mire--miedo--@petrogustavo     1         \n",
            "miedo--@petrogustavo--presidente 1         \n",
            "@tobonsanin--vez--viejo        1         \n",
            "vez--viejo--estúpido           1         \n"
          ]
        }
      ],
      "source": [
        "print(f\"{'Trigrama':<55} {'Frecuencia':<10}\")\n",
        "print(\"-\" * 65)  # Línea separadora\n",
        "\n",
        "# Iterar con formato de columnas\n",
        "for i, (tri, count) in enumerate(freq_trigramas.items(), start=1):\n",
        "  if (i == 10):\n",
        "    break\n",
        "  tri_str = \"--\".join(tri)\n",
        "  # Formato con anchos fijos: <12 (izquierda), <25 (izquierda), <10 (izquierda)\n",
        "  print(f\"{tri_str:<30} {count:<10}\")"
      ]
    },
    {
      "cell_type": "code",
      "execution_count": 444,
      "metadata": {
        "colab": {
          "base_uri": "https://localhost:8080/"
        },
        "id": "jYb7zpAaDY9U",
        "outputId": "e865f40b-5ba0-4500-e68c-ec1ccd1177a9"
      },
      "outputs": [
        {
          "output_type": "stream",
          "name": "stdout",
          "text": [
            "Unigrama                       Probabilidad\n",
            "#nosunimosonosjodemos          0.000317  \n",
            "#nosunimosonosjodemos          0.000317  \n",
            "vamos                          0.002535  \n",
            "juntos                         0.000190  \n",
            "cambio                         0.005578  \n",
            "mire                           0.000127  \n",
            "miedo                          0.001458  \n",
            "@petrogustavo                  0.005768  \n",
            "presidente                     0.004183  \n",
            "@tobonsanin                    0.000063  \n",
            "vez                            0.001521  \n"
          ]
        }
      ],
      "source": [
        "\n",
        "print(f\"{'Unigrama':<30} {'Probabilidad':<10}\")\n",
        "probabilidadUnigrama = dict()\n",
        "for i in range(len(unigramas)):\n",
        "  probabilidadUnigrama[unigramas[i]] = freq_unigramas[unigramas[i]]/len(unigramas)\n",
        "  if i <= 10:\n",
        "    print(f\"{unigramas[i]:<30} {probabilidadUnigrama[unigramas[i]]:<10.6f}\")\n",
        "\n",
        "\n",
        "#print(probabilidadUnigrama)\n"
      ]
    },
    {
      "cell_type": "code",
      "execution_count": 445,
      "metadata": {
        "colab": {
          "base_uri": "https://localhost:8080/"
        },
        "id": "p9X3T0DsD1ee",
        "outputId": "61166e7f-1dce-4fc8-e3a4-da2ae57cb4a1"
      },
      "outputs": [
        {
          "output_type": "stream",
          "name": "stdout",
          "text": [
            "Unigrama                       Probabilidad\n",
            "#nosunimosonosjodemos-#nosunimosonosjodemos 0.200000  \n",
            "#nosunimosonosjodemos-vamos    0.200000  \n",
            "vamos-juntos                   0.050000  \n",
            "juntos-cambio                  0.333333  \n",
            "cambio-mire                    0.011364  \n",
            "mire-miedo                     0.500000  \n",
            "miedo-@petrogustavo            0.043478  \n",
            "@petrogustavo-presidente       0.043956  \n",
            "@tobonsanin-vez                1.000000  \n",
            "vez-viejo                      0.041667  \n",
            "viejo-estúpido                 0.111111  \n"
          ]
        }
      ],
      "source": [
        "probabilidadBigrama = dict()\n",
        "print(f\"{'Unigrama':<30} {'Probabilidad':<10}\")\n",
        "for i in range(len(bigramas)):\n",
        "  probabilidadBigrama[bigramas[i]] = freq_bigramas[bigramas[i]]/freq_unigramas[bigramas[i][0]]\n",
        "  if i <= 10:\n",
        "    bigram_str = \"-\".join(bigramas[i])\n",
        "    print(f\"{bigram_str:<30} {probabilidadBigrama[bigramas[i]]:<10.6f}\")\n"
      ]
    },
    {
      "cell_type": "code",
      "execution_count": 446,
      "metadata": {
        "id": "cWpoN2wcEQwv",
        "colab": {
          "base_uri": "https://localhost:8080/"
        },
        "outputId": "e72b5267-5753-4d8d-c16e-1fcc89e726d9"
      },
      "outputs": [
        {
          "output_type": "stream",
          "name": "stdout",
          "text": [
            "Unigrama                                           Probabilidad\n",
            "#nosunimosonosjodemos-#nosunimosonosjodemos-vamos  1.000000  \n",
            "#nosunimosonosjodemos-vamos-juntos                 1.000000  \n",
            "vamos-juntos-cambio                                0.500000  \n",
            "juntos-cambio-mire                                 1.000000  \n",
            "cambio-mire-miedo                                  1.000000  \n",
            "mire-miedo-@petrogustavo                           1.000000  \n",
            "miedo-@petrogustavo-presidente                     1.000000  \n",
            "@tobonsanin-vez-viejo                              1.000000  \n",
            "vez-viejo-estúpido                                 1.000000  \n",
            "viejo-estúpido-politiquero                         1.000000  \n",
            "estúpido-politiquero-llevados                      1.000000  \n"
          ]
        }
      ],
      "source": [
        "probabilidadTrigrama  = dict()\n",
        "\n",
        "print(f\"{'Unigrama':<50} {'Probabilidad':<10}\")\n",
        "for i in range(len(trigramas)):\n",
        "  probabilidadTrigrama[trigramas[i]] = freq_trigramas[trigramas[i]]/freq_bigramas[trigramas[i][0:2]]\n",
        "  if i <= 10:\n",
        "    trigram_str = \"-\".join(trigramas[i])\n",
        "    print(f\"{trigram_str:<50} {probabilidadTrigrama[trigramas[i]]:<10.6f}\")"
      ]
    },
    {
      "cell_type": "code",
      "execution_count": 447,
      "metadata": {
        "id": "zV-lVfKf_T7t"
      },
      "outputs": [],
      "source": [
        "# Tamaño del vocabulario\n",
        "#tokensUnigrama = len(set(unigramas))\n",
        "\n",
        "# Función para calcular probabilidades SIN suavizado Laplace\n",
        "#def ngram_prob(bigram, freq_uni, freq_bi):\n",
        "#    previous = bigram[0]\n",
        "#    return (freq_bi[bigram]) / (freq_uni[previous])\n",
        "\n",
        "# Función para calcular probabilidades con suavizado Laplace\n",
        "#def laplace_smoothed_prob(bigram, freq_uni, freq_bi, V):\n",
        "#    previous = bigram[0]\n",
        "#    return (freq_bi[bigram] + 1) / (freq_uni[previous] + V)"
      ]
    },
    {
      "cell_type": "markdown",
      "metadata": {
        "id": "7i2MmkEQgUa3"
      },
      "source": [
        "---\n",
        "# 1️⃣3️⃣ Colocaciones\n",
        "---"
      ]
    },
    {
      "cell_type": "code",
      "execution_count": 448,
      "metadata": {
        "id": "5T1n1LF0gRVc"
      },
      "outputs": [],
      "source": [
        "import math\n",
        "def informacionMutua(freq_bigramas, freq_unigramas, bigrama):\n",
        "    palabra1, palabra2 = bigrama\n",
        "    frecuencia_bigrama = freq_bigramas[bigrama]\n",
        "    frecuencia_palabra1 = freq_unigramas[palabra1]\n",
        "    frecuencia_palabra2 = freq_unigramas[palabra2]\n",
        "    probabilidad_bigrama = frecuencia_bigrama / len(bigramas)\n",
        "    probabilidad_palabra1 = frecuencia_palabra1 / len(unigramas)\n",
        "    probabilidad_palabra2 = frecuencia_palabra2 / len(unigramas)\n",
        "\n",
        "    informacion_mutua = math.log2(probabilidad_bigrama / (probabilidad_palabra1 * probabilidad_palabra2))\n",
        "    return informacion_mutua\n",
        "\n"
      ]
    },
    {
      "cell_type": "code",
      "execution_count": 449,
      "metadata": {
        "id": "YYRH4v-Y_T5h"
      },
      "outputs": [],
      "source": [
        "informacionMutuaBigrama =  dict()\n",
        "for bigrama in bigramas:\n",
        "  informacionMutuaBigrama[bigrama] = informacionMutua(freq_bigramas, freq_unigramas, bigrama)"
      ]
    },
    {
      "cell_type": "code",
      "execution_count": 450,
      "metadata": {
        "id": "bz1aRboe_T3Y",
        "colab": {
          "base_uri": "https://localhost:8080/"
        },
        "outputId": "8eb2054d-de58-437c-9f20-fd15af29f95a"
      },
      "outputs": [
        {
          "output_type": "stream",
          "name": "stdout",
          "text": [
            "0 ('#nosunimosonosjodemos', '#nosunimosonosjodemos') 9.41570918954365\n",
            "1 ('#nosunimosonosjodemos', 'vamos') 6.41570918954365\n",
            "2 ('vamos', 'juntos') 8.152674783709857\n",
            "3 ('juntos', 'cambio') 6.015171259959922\n",
            "4 ('cambio', 'mire') 6.600133760681078\n",
            "5 ('mire', 'miedo') 8.536003423261361\n",
            "6 ('miedo', '@petrogustavo') 3.0282087830626656\n",
            "7 ('@petrogustavo', 'presidente') 3.5073766197612253\n",
            "8 ('@tobonsanin', 'vez') 9.474602878597219\n",
            "9 ('vez', 'viejo') 6.304677877154907\n",
            "10 ('viejo', 'estúpido') 10.889640377876063\n",
            "11 ('estúpido', 'politiquero') 13.059565379318375\n",
            "12 ('politiquero', 'llevados') 13.059565379318375\n",
            "13 ('llevados', 'creemos') 13.059565379318375\n"
          ]
        }
      ],
      "source": [
        "for i, (bi) in enumerate(informacionMutuaBigrama):\n",
        "  if (i<14):\n",
        "    print(i, bi, informacionMutuaBigrama[bi])"
      ]
    },
    {
      "cell_type": "markdown",
      "metadata": {
        "id": "dVX1REuhj5IH"
      },
      "source": [
        "---\n",
        "# 1️⃣4️⃣ Generador de frases\n",
        "---"
      ]
    },
    {
      "cell_type": "markdown",
      "source": [
        "## 🔹 Generador utilizando n-grams"
      ],
      "metadata": {
        "id": "ufZLjQ7C5sPE"
      }
    },
    {
      "cell_type": "code",
      "execution_count": 451,
      "metadata": {
        "id": "Qdm19xAyint7"
      },
      "outputs": [],
      "source": [
        "probabilidadUnigramaOrdenada = dict(sorted(probabilidadUnigrama.items(), key=lambda x: x[1], reverse=True))\n",
        "probabilidadBigramaOrdenada = dict(sorted(probabilidadBigrama.items(), key=lambda x: x[1], reverse=True))\n",
        "probabilidadTrigramaOrdenada = dict(sorted(probabilidadTrigrama.items(), key=lambda x: x[1], reverse=True))\n"
      ]
    },
    {
      "cell_type": "code",
      "execution_count": 452,
      "metadata": {
        "id": "BBlJM0Ol_T1J"
      },
      "outputs": [],
      "source": [
        "lambda_1 = 0.1\n",
        "lambda_2 = 0.1\n",
        "lambda_3 = 0.8\n",
        "\n",
        "def probabilidadSiguientePalabra(palabraGenerada, ultimaPalabra, penultimaPalabra):\n",
        "  p1 = lambda_1 * probabilidadUnigrama[palabraGenerada]\n",
        "\n",
        "  if ((ultimaPalabra, palabraGenerada) not in probabilidadBigrama or ultimaPalabra == None):\n",
        "    p2 = 0\n",
        "  else:\n",
        "    p2 = lambda_2 * probabilidadBigrama[(ultimaPalabra, palabraGenerada)]\n",
        "\n",
        "  if ((penultimaPalabra, ultimaPalabra, palabraGenerada) not in probabilidadTrigrama or ultimaPalabra == None):\n",
        "    p3 = 0\n",
        "  else:\n",
        "    p3 = lambda_3 * probabilidadTrigrama[(penultimaPalabra, ultimaPalabra, palabraGenerada)]\n",
        "\n",
        "  return p1+p2+p3\n",
        "\n",
        "def palabraMasProbable(ultimaPalabra, penultimaPalabra):\n",
        "  probabilidadMaxima = 0\n",
        "  palabra = \"\"\n",
        "  for i in unigramas:\n",
        "    if (probabilidadSiguientePalabra(i, ultimaPalabra, penultimaPalabra) >= probabilidadMaxima):\n",
        "      probabilidadMaxima = probabilidadSiguientePalabra(i, ultimaPalabra, penultimaPalabra)\n",
        "      palabra = i\n",
        "    palabra\n",
        "  return palabra\n",
        "\n",
        "import random\n",
        "def generarPrimeraPalabraAleatoria():\n",
        "  return random.choice(list(probabilidadUnigramaOrdenada.keys()))"
      ]
    },
    {
      "cell_type": "code",
      "execution_count": 453,
      "metadata": {
        "colab": {
          "base_uri": "https://localhost:8080/"
        },
        "id": "NWXzVhZ80jJm",
        "outputId": "31e044dc-3e22-498b-efc5-950396de6a9a"
      },
      "outputs": [
        {
          "output_type": "stream",
          "name": "stdout",
          "text": [
            "<s>  corruptela huevo cárceles portal pgggesidente ciudadano votos buenoque comunes conformismo fanatismo hágame @supersalud juegan inquietud crecer acabé @vanedelatorre inmunidad</s>\n",
            "<s>  apenas 2022 pendejada piensa pasaste 400 saca multiplicar tierras susto llegaremos #esmuyimportante protagonistas convencen estrategas manrique mimetiza rockero márquez</s>\n",
            "<s>  minuto arriba vote dueles vi ven adulterado recorrió individual cuáles quieren bites conozca 14 35pm infamias tumbaron investigados reconoce</s>\n",
            "<s>  azar pecho crea unas afirmación provocar allegados diplomáticas @ojodemocracia22 imparcial virgen puedo quiénes cambió andrea tituló #mujeres @antony_munoz iluminado</s>\n",
            "<s>  favores relación leen pronunciar 5051 colonialistas manrique juro orador guerras mesías traten confundir descuido demasiado razón común cacaos amor</s>\n"
          ]
        }
      ],
      "source": [
        "\n",
        "\n",
        "for j in range(5):\n",
        "  primeraPalabra = \"\"\n",
        "  frase = \"\"\n",
        "  for i in range(20):\n",
        "    segundoPalabra = generarPrimeraPalabraAleatoria()\n",
        "    frase = frase + \" \" + primeraPalabra\n",
        "    terceraPalabra = palabraMasProbable(primeraPalabra, segundoPalabra)\n",
        "    primeraPalabra = segundoPalabra\n",
        "    segundoPalabra = terceraPalabra\n",
        "\n",
        "  print(\"<s>\"+ frase+ \"</s>\")"
      ]
    },
    {
      "cell_type": "markdown",
      "source": [
        "## 🔹 Markovify"
      ],
      "metadata": {
        "id": "E8yYgjzI5ivU"
      }
    },
    {
      "cell_type": "code",
      "execution_count": 454,
      "metadata": {
        "colab": {
          "base_uri": "https://localhost:8080/"
        },
        "id": "QnakhV_0nkTm",
        "outputId": "9bdef721-470f-4c23-b355-6792ec121835"
      },
      "outputs": [
        {
          "output_type": "stream",
          "name": "stdout",
          "text": [
            "Requirement already satisfied: markovify in /usr/local/lib/python3.11/dist-packages (0.9.4)\n",
            "Requirement already satisfied: unidecode in /usr/local/lib/python3.11/dist-packages (from markovify) (1.3.8)\n"
          ]
        }
      ],
      "source": [
        "!pip install markovify"
      ]
    },
    {
      "cell_type": "code",
      "execution_count": 455,
      "metadata": {
        "id": "HWNuePhrnjYf"
      },
      "outputs": [],
      "source": [
        "import markovify"
      ]
    },
    {
      "cell_type": "code",
      "execution_count": 456,
      "metadata": {
        "id": "4IGCso4l1H7I"
      },
      "outputs": [],
      "source": [
        "corpus_es=\"\"\n",
        "for i in range(len(tweetsMinusculasSinCaracteres)):\n",
        "    corpus_es = corpus_es + tweetsMinusculasSinCaracteres[i] + \".\\n\""
      ]
    },
    {
      "cell_type": "code",
      "execution_count": 457,
      "metadata": {
        "colab": {
          "base_uri": "https://localhost:8080/"
        },
        "id": "E-xvPTdjn9aT",
        "outputId": "53e4889b-aebd-43a9-f6c2-fc3d7328a479"
      },
      "outputs": [
        {
          "output_type": "stream",
          "name": "stdout",
          "text": [
            "=== Oraciones generadas en español ===\n",
            "Texto generado: #yaessuficiente que el programa de gobierno.\n",
            "Texto generado: @petrogustavo ahora el culpado es quien nos va a dar toda en segunda #noalasmaquinariaspoliticas #segundavuelta #todosconrodolfohernandez.\n",
            "Texto generado: #locorrectoes que va mal en las redes Escepticismo Molesto #lacorrupciónpetrista Lupa.\n",
            "Texto generado: @noticiascaracol qué no va a venir a ponerle impuestos si escucho #eselmomentode.\n",
            "Texto generado: #petropresidenteenprimera y dejo enlace de prueba gratis a mi familia y amigos es por la patria #voyconfederico.\n"
          ]
        }
      ],
      "source": [
        "\n",
        "# Crear un solo modelo con state_size=2\n",
        "modelo_es = markovify.Text(corpus_es, state_size=2)\n",
        "\n",
        "# Generar 5 oraciones con parámetros para más variedad\n",
        "print(\"=== Oraciones generadas en español ===\")\n",
        "for _ in range(5):\n",
        "    oracion_es = modelo_es.make_sentence(tries=100, max_overlap_ratio=0.8, max_words=20)\n",
        "    if oracion_es:\n",
        "        print(f\"Texto generado: {oracion_es}\")\n",
        "    else:\n",
        "        print(\"No se pudo generar una oración válida (intenta con un corpus más grande).\")"
      ]
    },
    {
      "cell_type": "markdown",
      "metadata": {
        "id": "PmnSWz59tKvk"
      },
      "source": [
        "---\n",
        "# 1️⃣5️⃣ Repitan el paso 12 y calculen los modelos de lenguaje a nivel de bigrama (probabilidades de los bigramas),pero esta vez dejen un documento por fuera del corpus de entrada. Utilicen este documento para evaluar la calidad de su modelo de lenguaje empleando la medida de perplejidad.\n",
        "---"
      ]
    },
    {
      "cell_type": "code",
      "execution_count": 458,
      "metadata": {
        "id": "QhpQza43qQ_g"
      },
      "outputs": [],
      "source": [
        "import math"
      ]
    },
    {
      "cell_type": "code",
      "execution_count": 459,
      "metadata": {
        "id": "KwKRacXMrA77"
      },
      "outputs": [],
      "source": [
        "import random\n",
        "def divCorpus (corpus, size=0.9):\n",
        "  corpus_train = \"\"\n",
        "  corpus_test = \"\"\n",
        "  for i in range(len(corpus)):\n",
        "    numero=random.uniform(0,1)\n",
        "    if numero < size:\n",
        "      corpus_train = corpus_train + corpus[i] + \".\\n\"\n",
        "    else:\n",
        "      corpus_test = corpus_test + corpus[i] + \".\\n\"\n",
        "  return corpus_train, corpus_test\n"
      ]
    },
    {
      "cell_type": "code",
      "execution_count": 460,
      "metadata": {
        "id": "jEUiLgND6L8V"
      },
      "outputs": [],
      "source": [
        "corpus_es=\"\"\n",
        "for i in range(len(tweetsMinusculasSinCaracteres)):\n",
        "    corpus_es = corpus_es + tweetsMinusculasSinCaracteres[i] + \".\\n\""
      ]
    },
    {
      "cell_type": "code",
      "execution_count": 461,
      "metadata": {
        "id": "BRIw859utpDg"
      },
      "outputs": [],
      "source": [
        "corpus_train, corpus_test = divCorpus(tweetsMinusculasSinCaracteres)"
      ]
    },
    {
      "cell_type": "code",
      "execution_count": 462,
      "metadata": {
        "id": "IRabXq498H7g"
      },
      "outputs": [],
      "source": [
        "from nltk import word_tokenize\n",
        "from nltk import bigrams"
      ]
    },
    {
      "cell_type": "code",
      "execution_count": 463,
      "metadata": {
        "colab": {
          "base_uri": "https://localhost:8080/"
        },
        "id": "cjoEYsFL-8G_",
        "outputId": "8a271ab2-65a8-4a36-dbf4-9078acb061ea"
      },
      "outputs": [
        {
          "output_type": "stream",
          "name": "stdout",
          "text": [
            "\n",
            "=== Evaluación del modelo en español ===\n",
            "Perplejidad: 1575.0895\n",
            "Entropía: 7.3621 nats\n",
            "Entropía cruzada: 7.3621 nats\n",
            "Ntrain:  0.16892442154853227\n",
            "\n",
            "=== Evaluación del modelo en español ===\n",
            "Perplejidad: 2369.6848\n",
            "Entropía: 7.7705 nats\n",
            "Entropía cruzada: 7.7705 nats\n",
            "Ntrain:  0.2904392911954048\n",
            "\n",
            "=== Evaluación del modelo en español ===\n",
            "Perplejidad: 3690.6124\n",
            "Entropía: 8.2135 nats\n",
            "Entropía cruzada: 8.2135 nats\n",
            "Ntrain:  0.5453332599257562\n",
            "\n",
            "=== Evaluación del modelo en español ===\n",
            "Perplejidad: 4423.3759\n",
            "Entropía: 8.3947 nats\n",
            "Entropía cruzada: 8.3947 nats\n",
            "Ntrain:  0.7379047633895213\n",
            "\n",
            "=== Evaluación del modelo en español ===\n",
            "Perplejidad: 3441.9430\n",
            "Entropía: 8.1438 nats\n",
            "Entropía cruzada: 8.1438 nats\n",
            "Ntrain:  0.545759971599009\n",
            "\n",
            "=== Evaluación del modelo en español ===\n",
            "Perplejidad: 2754.0628\n",
            "Entropía: 7.9208 nats\n",
            "Entropía cruzada: 7.9208 nats\n",
            "Ntrain:  0.35537017684801553\n",
            "\n",
            "=== Evaluación del modelo en español ===\n",
            "Perplejidad: 1686.1649\n",
            "Entropía: 7.4302 nats\n",
            "Entropía cruzada: 7.4302 nats\n",
            "Ntrain:  0.19421491473311925\n",
            "\n",
            "=== Evaluación del modelo en español ===\n",
            "Perplejidad: 607.0763\n",
            "Entropía: 6.4087 nats\n",
            "Entropía cruzada: 6.4087 nats\n",
            "Ntrain:  0.052772380302256505\n",
            "\n",
            "=== Evaluación del modelo en español ===\n",
            "Perplejidad: 1887.7111\n",
            "Entropía: 7.5431 nats\n",
            "Entropía cruzada: 7.5431 nats\n",
            "Ntrain:  0.24008857344481516\n",
            "\n",
            "=== Evaluación del modelo en español ===\n",
            "Perplejidad: 3080.2888\n",
            "Entropía: 8.0328 nats\n",
            "Entropía cruzada: 8.0328 nats\n",
            "Ntrain:  0.4340560857834205\n"
          ]
        }
      ],
      "source": [
        "import re\n",
        "import math\n",
        "from nltk import bigrams, FreqDist, word_tokenize\n",
        "from nltk.corpus import stopwords\n",
        "\n",
        "def metricas(textoTrain, textoTest):\n",
        "    texto_prueba_es = textoTest\n",
        "    tokens_prueba_es = texto_prueba_es.split()\n",
        "    text_es = textoTrain\n",
        "\n",
        "    # Función para limpiar y tokenizar el texto\n",
        "    def tokenize_text(text, language='spanish'):\n",
        "        tokens = word_tokenize(text)\n",
        "        # Filtrar tokens alfanuméricos y pasar a minúsculas\n",
        "        tokens = [token.lower() for token in tokens if re.match(r'\\w+', token)]\n",
        "        # Eliminar stop words\n",
        "        stops = set(stopwords.words(language))\n",
        "        tokens = [token for token in tokens if token not in stops]\n",
        "        return tokens\n",
        "\n",
        "    # Tokenización\n",
        "    tokens_es = tokenize_text(text_es, language='spanish')\n",
        "\n",
        "    # Construcción de bigramas\n",
        "    bigrams_es = list(bigrams(tokens_es))\n",
        "\n",
        "    # Frecuencias de unigramas y bigramas\n",
        "    freq_uni_es = FreqDist(tokens_es)\n",
        "    freq_bi_es = FreqDist(bigrams_es)\n",
        "\n",
        "    # Tamaño del vocabulario\n",
        "    V_es = len(set(tokens_es))\n",
        "\n",
        "    # === Funciones de evaluación ===\n",
        "    def compute_perplexity(tokens, freq_uni, freq_bi, V):\n",
        "        N = len(tokens)\n",
        "        log_prob_sum = 0\n",
        "\n",
        "        for i in range(1, N):\n",
        "            bg = (tokens[i-1], tokens[i])\n",
        "            prob = (freq_bi.get(bg, 0) + 1) / (freq_uni.get(tokens[i-1], 0) + V)\n",
        "            log_prob_sum += math.log(prob)\n",
        "\n",
        "        return math.exp(-log_prob_sum / (N - 1))\n",
        "\n",
        "    def compute_entropy(tokens, freq_uni, freq_bi, V):\n",
        "        N = len(tokens)\n",
        "        log_prob_sum = 0\n",
        "\n",
        "        for i in range(1, N):\n",
        "            bg = (tokens[i-1], tokens[i])\n",
        "            prob = (freq_bi.get(bg, 0) + 1) / (freq_uni.get(tokens[i-1], 0) + V)\n",
        "            log_prob_sum += math.log(prob)\n",
        "\n",
        "        return -log_prob_sum / (N - 1)\n",
        "\n",
        "    def compute_cross_entropy(tokens, freq_uni, freq_bi, V):\n",
        "        N = len(tokens)\n",
        "        log_prob_sum = 0\n",
        "\n",
        "        for i in range(1, N):\n",
        "            bg = (tokens[i-1], tokens[i])\n",
        "            prob = (freq_bi.get(bg, 0) + 1) / (freq_uni.get(tokens[i-1], 0) + V)\n",
        "            log_prob_sum += math.log(prob)\n",
        "\n",
        "        return -log_prob_sum / (N - 1)\n",
        "\n",
        "    # Evaluación en español\n",
        "    print(\"\\n=== Evaluación del modelo en español ===\")\n",
        "    perp_es = compute_perplexity(tokens_prueba_es, freq_uni_es, freq_bi_es, V_es)\n",
        "    entropy_es = compute_entropy(tokens_prueba_es, freq_uni_es, freq_bi_es, V_es)\n",
        "    cross_entropy_es = compute_cross_entropy(tokens_prueba_es, freq_uni_es, freq_bi_es, V_es)\n",
        "\n",
        "    print(f\"Perplejidad: {perp_es:.4f}\")\n",
        "    print(f\"Entropía: {entropy_es:.4f} nats\")\n",
        "    print(f\"Entropía cruzada: {cross_entropy_es:.4f} nats\")\n",
        "\n",
        "# === Ejemplo de evaluación ===\n",
        "for i in range(10):\n",
        "    Ntrain=random.uniform(0,1)\n",
        "    corpus_train, corpus_test = divCorpus(tweetsMinusculasSinCaracteres, Ntrain)\n",
        "    metricas(corpus_train, corpus_test)\n",
        "    print(\"Ntrain: \", Ntrain)\n",
        "\n"
      ]
    },
    {
      "cell_type": "markdown",
      "metadata": {
        "id": "N5zr6Hvny_G8"
      },
      "source": [
        "## Conclusion:\n",
        "\n",
        "* Cuando se emplea una muestra de entrenamiento más pequeña que la muestra de prueba, se observa que la perplejidad es más baja. Esto es posible porque, al ser más diversa la muestra de prueba, es mucho más probable encontrar frases parecidas a las frases entrenadas.\n",
        "\n",
        "* Esto indica que el corpus de entrenamiento no es completamente representativo; se debe tener un corpus mucho más extenso y diverso."
      ]
    },
    {
      "cell_type": "markdown",
      "metadata": {
        "id": "a4M5wJ7TD7AU"
      },
      "source": [
        "---\n",
        "# 1️⃣6️⃣- Implementen un modulo de corrección ortográfica para su sistema.\n",
        "---"
      ]
    },
    {
      "cell_type": "code",
      "execution_count": 464,
      "metadata": {
        "id": "8Ipw1HvQ0h-F"
      },
      "outputs": [],
      "source": [
        "!pip install -q language-tool-python"
      ]
    },
    {
      "cell_type": "code",
      "execution_count": 466,
      "metadata": {
        "id": "n8IDDWpx6aZt"
      },
      "outputs": [],
      "source": [
        "import language_tool_python\n",
        "tool = language_tool_python.LanguageTool('es')"
      ]
    },
    {
      "cell_type": "code",
      "execution_count": 467,
      "metadata": {
        "colab": {
          "base_uri": "https://localhost:8080/"
        },
        "id": "FyKa8TcK4isR",
        "outputId": "a1fa935f-148f-4f3c-9230-27a2ad25a4ef"
      },
      "outputs": [
        {
          "output_type": "stream",
          "name": "stdout",
          "text": [
            "Palabra incorrecta   sugerencia\n",
            "Palabra: rodolfohipocritas -----> []\n",
            "Palabra: ingrid -----> ['Íngrid', 'Ingrid', 'Ingri', 'ingerid', 'ingrida', 'ingrido', 'injerid', 'In-Grid']\n",
            "Palabra: comenzo -----> ['comenzó', 'comienzo', 'comentó', 'comento', 'comenzá']\n",
            "Palabra: asi -----> ['así', 'si', 'casi', 'sí', 'ahí', 'Asia', 'as', 'Asís', 'asa', 'ANSI', 'ay', 'asir', 'asía', 'asó', 'asió', 'aso', 'asé', 'AI', 'API', 'ASIN', 'Aly', 'Alí', 'Amy', 'Ani', 'Asp', 'Asti', 'Asín', 'RSI', 'Yasy', 'acid', 'ají', 'ali', 'ami', 'ansí', 'ase', 'asid', 'asá', 'asín', 'asís', 'psi', 'tasi', 'a si', 'as i', 'AVI']\n",
            "Palabra: caterba -----> ['caterva', 'cateaba', 'catera', 'catervas']\n",
            "Palabra: anamaría -----> ['Anamaria', 'animaría', 'Anamari', 'acamaría', 'adamaría', 'afamaría', 'ana maría', 'Ana María']\n",
            "Palabra: través -----> ['a través']\n",
            "Palabra: venezuela -----> ['Venezuela', 'vejezuela', 'Cerezuela', 'bestezuela', 'bebésela', 'manezuela', 'netezuela', 'pernezuela', 'tenésela', 'vejezuelas', 'vejezuelo', 'venérela', 'verdezuela', 'vénguela']\n",
            "Palabra: propuestasa -----> ['propuestas', 'propuestas a']\n",
            "Palabra: cbia -----> ['cuya', 'vía', 'cría', 'caía', 'cabía', 'avía', 'Avià', 'CIA', 'Cavia', 'Caya', 'Chía', 'abia', 'aviá', 'cavia', 'cayá', 'chía', 'coya', 'cria', 'c.ía']\n",
            "Palabra: hablara -----> ['hablará']\n",
            "Palabra: fegggnando -----> ['Fernando', 'designando', 'engañando', 'regañando', 'resignando', 'pergeñando', 'repugnando', 'desganando', 'festinando']\n",
            "Palabra: quedarian -----> ['quedarían', 'quedaría', 'quedaran', 'quedarán', 'quemarían', 'quejarían', 'quedarías']\n",
            "Palabra: suárez -----> ['Suárez', 'Juárez', 'muarés', 'suave', 'sufre', 'suaves', 'sufren', 'Sáez', 'siamés', 'subred', 'sucres', 'tuareg', 'sucre', 'subárea', 'sudare', 'muaré', 'ruanés', 'sufres', 'usaren', 'usaré', 'usares', 'suarda', 'sudares', 'sumaren', 'usare', 'Clarés', 'Huaraz', 'Sareb', 'Soares', 'Sucre', 'Suez', 'burrez', 'cutrez', 'guares', 'guarén', 'moarés', 'querés', 'share', 'shares', 'shuares', 'sudaren', 'sudaré', 'suflés', 'sumare', 'sumares', 'sumaré', 'sures']\n",
            "Palabra: rodolfo -----> ['Rodolfo', 'Rodolfa', 'rodillo', 'Adolfo', 'Ludolfo', 'Randolfo', 'Rudolf', 'regolfo', 'rocolo', 'rodalo']\n",
            "Palabra: un200 -----> ['un', 'una', 'uno', 'unos', 'unas', 'único', 'única', 'une', 'unió', 'unión', 'unen', 'unido', 'unida', 'unir', 'unía', 'uñas', 'unirá', 'unían', 'uña', 'unan', 'untar', 'ungir', 'ungió', 'unta', 'unto', 'uñado', 'uncia', 'unes', 'untan', 'uníos', 'uncir', 'unge', 'ungía', 'unten', 'untó', 'uní', 'uñeta', 'ungen', 'uñada', 'unce', 'ungí', 'uncen', 'unció', 'uncía', 'unja', 'unjan', 'untes', 'untos', 'UNAM', 'UNED', 'UNIX', 'Unai', 'Unax', 'Unay', 'Unda', 'Une', 'Unha', 'Unix', 'Unzué', 'uncal', 'unces', 'uncid', 'uncus', 'uncí', 'uncís', 'unges', 'ungid', 'ungís', 'uni', 'unid', 'unila', 'unile', 'unilo', 'unime', 'uniré', 'unite', 'unjas', 'unjo', 'unque', 'untad', 'untas', 'unte', 'untá', 'untás', 'unté', 'unza', 'unzan', 'unzas', 'unzo', 'unáis', 'unías', 'unís', 'uñate', 'uñazo', 'uñera', 'uñero', 'uñi', 'uñis', 'uñosa', 'uñoso', 'uñudo', 'únala', 'únale', 'únalo', 'úname', 'únaos', 'únase', 'únate', 'únela', 'únele', 'únelo', 'úneme', 'únete', 'UNFPA', 'UNSC', 'Unity']\n",
            "Palabra: l -----> ['el', 'la']\n",
            "Palabra: motavita -----> ['Motavita', 'moabita', 'moabitas', 'cohabita', 'morabito', 'Boavita', 'Moravia', 'Tabita', 'cohabitá', 'manabita', 'metafita', 'moldavita', 'monacita', 'motacila', 'motolita']\n"
          ]
        }
      ],
      "source": [
        "listaPalabras = list(palabrasUnicasSinStopWords)\n",
        "print(\"Palabra incorrecta   sugerencia\")\n",
        "for i in range(len(listaPalabras)):\n",
        "  palabra=listaPalabras[i]\n",
        "  correcciones=tool.check(palabra)\n",
        "  if (i==100):\n",
        "    break\n",
        "  if correcciones:\n",
        "    print(f\"Palabra: {palabra}\",end=\"\")\n",
        "    for error in correcciones:\n",
        "        print(f\" -----> {error.replacements}\")"
      ]
    }
  ],
  "metadata": {
    "colab": {
      "provenance": [],
      "toc_visible": true
    },
    "kernelspec": {
      "display_name": "Python 3",
      "name": "python3"
    },
    "language_info": {
      "name": "python"
    }
  },
  "nbformat": 4,
  "nbformat_minor": 0
}